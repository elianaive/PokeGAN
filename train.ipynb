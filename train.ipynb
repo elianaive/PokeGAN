{
 "cells": [
  {
   "cell_type": "code",
   "execution_count": 1,
   "metadata": {},
   "outputs": [
    {
     "name": "stderr",
     "output_type": "stream",
     "text": [
      "\u001b[34m\u001b[1mwandb\u001b[0m: Using wandb-core as the SDK backend.  Please refer to https://wandb.me/wandb-core for more information.\n",
      "\u001b[34m\u001b[1mwandb\u001b[0m: Currently logged in as: \u001b[33melianaive\u001b[0m (\u001b[33melianaive-research\u001b[0m). Use \u001b[1m`wandb login --relogin`\u001b[0m to force relogin\n"
     ]
    },
    {
     "data": {
      "text/html": [
       "Tracking run with wandb version 0.18.7"
      ],
      "text/plain": [
       "<IPython.core.display.HTML object>"
      ]
     },
     "metadata": {},
     "output_type": "display_data"
    },
    {
     "data": {
      "text/html": [
       "Run data is saved locally in <code>c:\\Users\\elian\\Workspace\\PixelGAN\\wandb\\run-20241201_080314-2hsyny9y</code>"
      ],
      "text/plain": [
       "<IPython.core.display.HTML object>"
      ]
     },
     "metadata": {},
     "output_type": "display_data"
    },
    {
     "data": {
      "text/html": [
       "Syncing run <strong><a href='https://wandb.ai/elianaive-research/pokemon-gan/runs/2hsyny9y' target=\"_blank\">smart-paper-26</a></strong> to <a href='https://wandb.ai/elianaive-research/pokemon-gan' target=\"_blank\">Weights & Biases</a> (<a href='https://wandb.me/developer-guide' target=\"_blank\">docs</a>)<br/>"
      ],
      "text/plain": [
       "<IPython.core.display.HTML object>"
      ]
     },
     "metadata": {},
     "output_type": "display_data"
    },
    {
     "data": {
      "text/html": [
       " View project at <a href='https://wandb.ai/elianaive-research/pokemon-gan' target=\"_blank\">https://wandb.ai/elianaive-research/pokemon-gan</a>"
      ],
      "text/plain": [
       "<IPython.core.display.HTML object>"
      ]
     },
     "metadata": {},
     "output_type": "display_data"
    },
    {
     "data": {
      "text/html": [
       " View run at <a href='https://wandb.ai/elianaive-research/pokemon-gan/runs/2hsyny9y' target=\"_blank\">https://wandb.ai/elianaive-research/pokemon-gan/runs/2hsyny9y</a>"
      ],
      "text/plain": [
       "<IPython.core.display.HTML object>"
      ]
     },
     "metadata": {},
     "output_type": "display_data"
    }
   ],
   "source": [
    "import torch\n",
    "import torch.nn as nn\n",
    "import torch.nn.functional as F\n",
    "from torch.utils.data import DataLoader\n",
    "from torchvision.utils import save_image, make_grid\n",
    "import matplotlib.pyplot as plt\n",
    "import numpy as np\n",
    "from tqdm.notebook import tqdm\n",
    "import os\n",
    "from tqdm import tqdm\n",
    "import wandb\n",
    "\n",
    "# Import our custom modules\n",
    "from dataloader import setup_pokemon_data\n",
    "#from models.poke_gan import PokemonGAN\n",
    "from models.poke_fastgan import FastPokemonGAN\n",
    "\n",
    "wandb.init(\n",
    "    project=\"pokemon-gan\",\n",
    "    config={\n",
    "        \"latent_dim\": 100,\n",
    "        \"learning_rate\": 0.0002,\n",
    "        \"batch_size\": 128,\n",
    "        \"num_epochs\": 200,\n",
    "        \"image_size\": 64,\n",
    "        \"beta1\": 0.5,\n",
    "        \"beta2\": 0.999\n",
    "    }\n",
    ")\n",
    "\n",
    "# Set random seeds for reproducibility\n",
    "torch.manual_seed(42)\n",
    "np.random.seed(42)\n",
    "\n",
    "# Create output directory for samples\n",
    "os.makedirs('outputs', exist_ok=True)"
   ]
  },
  {
   "cell_type": "code",
   "execution_count": 2,
   "metadata": {},
   "outputs": [
    {
     "name": "stdout",
     "output_type": "stream",
     "text": [
      "Invalid image detected: data\\pokemon\\10160.png\n",
      "Invalid image detected: data\\pokemon\\10186.png\n",
      "Invalid image detected: data\\pokemon\\678.png\n",
      "Invalid image detected: data\\pokemon\\869-caramel-swirl-berry-sweet.png\n",
      "Invalid image detected: data\\pokemon\\869-caramel-swirl-clover-sweet.png\n",
      "Invalid image detected: data\\pokemon\\869-caramel-swirl-flower-sweet.png\n",
      "Invalid image detected: data\\pokemon\\869-caramel-swirl-love-sweet.png\n",
      "Invalid image detected: data\\pokemon\\869-caramel-swirl-ribbon-sweet.png\n",
      "Invalid image detected: data\\pokemon\\869-caramel-swirl-star-sweet.png\n",
      "Invalid image detected: data\\pokemon\\869-caramel-swirl-strawberry-sweet.png\n",
      "Invalid image detected: data\\pokemon\\869-lemon-cream-berry-sweet.png\n",
      "Invalid image detected: data\\pokemon\\869-lemon-cream-clover-sweet.png\n",
      "Invalid image detected: data\\pokemon\\869-lemon-cream-flower-sweet.png\n",
      "Invalid image detected: data\\pokemon\\869-lemon-cream-love-sweet.png\n",
      "Invalid image detected: data\\pokemon\\869-lemon-cream-ribbon-sweet.png\n",
      "Invalid image detected: data\\pokemon\\869-lemon-cream-star-sweet.png\n",
      "Invalid image detected: data\\pokemon\\869-lemon-cream-strawberry-sweet.png\n",
      "Invalid image detected: data\\pokemon\\869-matcha-cream-berry-sweet.png\n",
      "Invalid image detected: data\\pokemon\\869-matcha-cream-clover-sweet.png\n",
      "Invalid image detected: data\\pokemon\\869-matcha-cream-flower-sweet.png\n",
      "Invalid image detected: data\\pokemon\\869-matcha-cream-love-sweet.png\n",
      "Invalid image detected: data\\pokemon\\869-matcha-cream-ribbon-sweet.png\n",
      "Invalid image detected: data\\pokemon\\869-matcha-cream-star-sweet.png\n",
      "Invalid image detected: data\\pokemon\\869-matcha-cream-strawberry-sweet.png\n",
      "Invalid image detected: data\\pokemon\\869-mint-cream-berry-sweet.png\n",
      "Invalid image detected: data\\pokemon\\869-mint-cream-clover-sweet.png\n",
      "Invalid image detected: data\\pokemon\\869-mint-cream-flower-sweet.png\n",
      "Invalid image detected: data\\pokemon\\869-mint-cream-love-sweet.png\n",
      "Invalid image detected: data\\pokemon\\869-mint-cream-ribbon-sweet.png\n",
      "Invalid image detected: data\\pokemon\\869-mint-cream-star-sweet.png\n",
      "Invalid image detected: data\\pokemon\\869-mint-cream-strawberry-sweet.png\n",
      "Invalid image detected: data\\pokemon\\869-rainbow-swirl-berry-sweet.png\n",
      "Invalid image detected: data\\pokemon\\869-rainbow-swirl-clover-sweet.png\n",
      "Invalid image detected: data\\pokemon\\869-rainbow-swirl-flower-sweet.png\n",
      "Invalid image detected: data\\pokemon\\869-rainbow-swirl-love-sweet.png\n",
      "Invalid image detected: data\\pokemon\\869-rainbow-swirl-ribbon-sweet.png\n",
      "Invalid image detected: data\\pokemon\\869-rainbow-swirl-star-sweet.png\n",
      "Invalid image detected: data\\pokemon\\869-rainbow-swirl-strawberry-sweet.png\n",
      "Invalid image detected: data\\pokemon\\869-ruby-cream-berry-sweet.png\n",
      "Invalid image detected: data\\pokemon\\869-ruby-cream-clover-sweet.png\n",
      "Invalid image detected: data\\pokemon\\869-ruby-cream-flower-sweet.png\n",
      "Invalid image detected: data\\pokemon\\869-ruby-cream-love-sweet.png\n",
      "Invalid image detected: data\\pokemon\\869-ruby-cream-ribbon-sweet.png\n",
      "Invalid image detected: data\\pokemon\\869-ruby-cream-star-sweet.png\n",
      "Invalid image detected: data\\pokemon\\869-ruby-cream-strawberry-sweet.png\n",
      "Invalid image detected: data\\pokemon\\869-ruby-swirl-berry-sweet.png\n",
      "Invalid image detected: data\\pokemon\\869-ruby-swirl-clover-sweet.png\n",
      "Invalid image detected: data\\pokemon\\869-ruby-swirl-flower-sweet.png\n",
      "Invalid image detected: data\\pokemon\\869-ruby-swirl-love-sweet.png\n",
      "Invalid image detected: data\\pokemon\\869-ruby-swirl-ribbon-sweet.png\n",
      "Invalid image detected: data\\pokemon\\869-ruby-swirl-star-sweet.png\n",
      "Invalid image detected: data\\pokemon\\869-ruby-swirl-strawberry-sweet.png\n",
      "Invalid image detected: data\\pokemon\\869-salted-cream-berry-sweet.png\n",
      "Invalid image detected: data\\pokemon\\869-salted-cream-clover-sweet.png\n",
      "Invalid image detected: data\\pokemon\\869-salted-cream-flower-sweet.png\n",
      "Invalid image detected: data\\pokemon\\869-salted-cream-love-sweet.png\n",
      "Invalid image detected: data\\pokemon\\869-salted-cream-ribbon-sweet.png\n",
      "Invalid image detected: data\\pokemon\\869-salted-cream-star-sweet.png\n",
      "Invalid image detected: data\\pokemon\\869-salted-cream-strawberry-sweet.png\n",
      "Invalid image detected: data\\pokemon\\back\\678.png\n",
      "Invalid image detected: data\\pokemon\\female\\133.png\n",
      "Invalid image detected: data\\pokemon\\shiny\\10226.png\n",
      "Invalid image detected: data\\pokemon\\shiny\\10227.png\n",
      "Invalid image detected: data\\pokemon\\shiny\\678.png\n",
      "Invalid image detected: data\\pokemon\\back\\female\\133.png\n",
      "Invalid image detected: data\\pokemon\\back\\shiny\\678.png\n",
      "Invalid image detected: data\\pokemon\\back\\shiny\\female\\133.png\n",
      "Invalid image detected: data\\pokemon\\shiny\\female\\133.png\n",
      "Invalid image detected: data\\pokemon\\versions\\generation-v\\black-white\\10186.png\n",
      "Found 52943 valid images in data/pokemon\n",
      "Dataset initialized with 52943 images.\n",
      "Dataloader setup time: 11.71 seconds\n"
     ]
    },
    {
     "data": {
      "image/png": "[encoded data removed]",
      "text/plain": [
       "<Figure size 800x800 with 1 Axes>"
      ]
     },
     "metadata": {},
     "output_type": "display_data"
    }
   ],
   "source": [
    "batch_size = wandb.config.batch_size\n",
    "dataloader = setup_pokemon_data(\n",
    "    data_dir='data/pokemon',\n",
    "    batch_size=batch_size,\n",
    "    image_size=wandb.config.image_size,\n",
    "    num_workers=4\n",
    ")\n",
    "\n",
    "# Preview a batch\n",
    "real_batch = next(iter(dataloader))[0]\n",
    "plt.figure(figsize=(8,8))\n",
    "plt.axis(\"off\")\n",
    "plt.title(\"Training Images\")\n",
    "plt.imshow(np.transpose(make_grid(real_batch[:16], padding=2, normalize=True).cpu(),(1,2,0)))\n",
    "plt.show()"
   ]
  },
  {
   "cell_type": "code",
   "execution_count": 3,
   "metadata": {},
   "outputs": [
    {
     "name": "stdout",
     "output_type": "stream",
     "text": [
      "Using device: cuda\n"
     ]
    }
   ],
   "source": [
    "device = torch.device('cuda' if torch.cuda.is_available() else 'cpu')\n",
    "print(f\"Using device: {device}\")\n",
    "\n",
    "gan = FastPokemonGAN(\n",
    "    latent_dim=100,\n",
    "    lr_g=0.00003,\n",
    "    lr_d=0.0002,\n",
    "    n_critic=5,    # Train critic 5 times for each generator update\n",
    "    clip_value=0.01\n",
    ")"
   ]
  },
  {
   "cell_type": "code",
   "execution_count": 4,
   "metadata": {},
   "outputs": [
    {
     "name": "stderr",
     "output_type": "stream",
     "text": [
      "  0%|          | 0/200 [00:00<?, ?it/s]"
     ]
    },
    {
     "name": "stdout",
     "output_type": "stream",
     "text": [
      "[Epoch 0/200] [Batch 0/413] [D loss: 9.9339] [G loss: -0.0054] [GP: 0.9951] [W-dist: -9.9339]\n",
      "[Epoch 0/200] [Batch 50/413] [D loss: 9.3922] [G loss: -0.0040] [GP: 0.9430] [W-dist: -9.3922]\n",
      "[Epoch 0/200] [Batch 100/413] [D loss: 6.9888] [G loss: -0.0640] [GP: 0.7039] [W-dist: -6.9888]\n",
      "[Epoch 0/200] [Batch 150/413] [D loss: 7.8975] [G loss: -0.0520] [GP: 0.7860] [W-dist: -7.8975]\n",
      "[Epoch 0/200] [Batch 200/413] [D loss: 5.6258] [G loss: -0.0379] [GP: 0.5738] [W-dist: -5.6258]\n",
      "[Epoch 0/200] [Batch 250/413] [D loss: 5.4327] [G loss: -0.0284] [GP: 0.5535] [W-dist: -5.4327]\n",
      "[Epoch 0/200] [Batch 300/413] [D loss: 4.3245] [G loss: 0.0770] [GP: 0.4330] [W-dist: -4.3245]\n",
      "[Epoch 0/200] [Batch 350/413] [D loss: 2.7854] [G loss: 0.1203] [GP: 0.2785] [W-dist: -2.7854]\n",
      "[Epoch 0/200] [Batch 400/413] [D loss: 7.7564] [G loss: -0.0299] [GP: 0.7724] [W-dist: -7.7564]\n"
     ]
    },
    {
     "name": "stderr",
     "output_type": "stream",
     "text": [
      "  0%|          | 1/200 [02:52<9:30:37, 172.05s/it]"
     ]
    },
    {
     "name": "stdout",
     "output_type": "stream",
     "text": [
      "[Epoch 1/200] [Batch 0/413] [D loss: 3.8898] [G loss: -0.0153] [GP: 0.3928] [W-dist: -3.8898]\n",
      "[Epoch 1/200] [Batch 50/413] [D loss: 4.5960] [G loss: 0.1314] [GP: 0.4581] [W-dist: -4.5960]\n",
      "[Epoch 1/200] [Batch 100/413] [D loss: 5.8466] [G loss: -0.0281] [GP: 0.5953] [W-dist: -5.8466]\n",
      "[Epoch 1/200] [Batch 150/413] [D loss: 6.6699] [G loss: 0.0416] [GP: 0.6805] [W-dist: -6.6699]\n",
      "[Epoch 1/200] [Batch 200/413] [D loss: 4.1645] [G loss: -0.0339] [GP: 0.4274] [W-dist: -4.1645]\n",
      "[Epoch 1/200] [Batch 250/413] [D loss: 5.7295] [G loss: 0.0144] [GP: 0.5713] [W-dist: -5.7295]\n",
      "[Epoch 1/200] [Batch 300/413] [D loss: 4.0914] [G loss: -0.0343] [GP: 0.4179] [W-dist: -4.0914]\n",
      "[Epoch 1/200] [Batch 350/413] [D loss: 5.9092] [G loss: 0.1412] [GP: 0.5868] [W-dist: -5.9092]\n",
      "[Epoch 1/200] [Batch 400/413] [D loss: 3.7020] [G loss: -0.0195] [GP: 0.3739] [W-dist: -3.7020]\n"
     ]
    },
    {
     "name": "stderr",
     "output_type": "stream",
     "text": [
      "  1%|          | 2/200 [05:42<9:23:51, 170.86s/it]"
     ]
    },
    {
     "name": "stdout",
     "output_type": "stream",
     "text": [
      "[Epoch 2/200] [Batch 0/413] [D loss: 2.2041] [G loss: 0.1275] [GP: 0.2232] [W-dist: -2.2041]\n",
      "[Epoch 2/200] [Batch 50/413] [D loss: 6.6994] [G loss: 0.0298] [GP: 0.6659] [W-dist: -6.6994]\n",
      "[Epoch 2/200] [Batch 100/413] [D loss: 6.7585] [G loss: 0.0078] [GP: 0.6893] [W-dist: -6.7585]\n",
      "[Epoch 2/200] [Batch 150/413] [D loss: 4.6074] [G loss: 0.1406] [GP: 0.4578] [W-dist: -4.6074]\n",
      "[Epoch 2/200] [Batch 200/413] [D loss: 7.8359] [G loss: -0.0329] [GP: 0.7795] [W-dist: -7.8359]\n",
      "[Epoch 2/200] [Batch 250/413] [D loss: 3.9100] [G loss: 0.1456] [GP: 0.3889] [W-dist: -3.9100]\n",
      "[Epoch 2/200] [Batch 300/413] [D loss: 3.1908] [G loss: 0.0030] [GP: 0.3217] [W-dist: -3.1908]\n",
      "[Epoch 2/200] [Batch 350/413] [D loss: 3.6556] [G loss: 0.1266] [GP: 0.3689] [W-dist: -3.6556]\n",
      "[Epoch 2/200] [Batch 400/413] [D loss: 4.5239] [G loss: 0.1466] [GP: 0.4509] [W-dist: -4.5239]\n"
     ]
    },
    {
     "name": "stderr",
     "output_type": "stream",
     "text": [
      "  2%|▏         | 3/200 [08:31<9:19:27, 170.39s/it]"
     ]
    },
    {
     "name": "stdout",
     "output_type": "stream",
     "text": [
      "[Epoch 3/200] [Batch 0/413] [D loss: 4.1709] [G loss: -0.0332] [GP: 0.4241] [W-dist: -4.1709]\n",
      "[Epoch 3/200] [Batch 50/413] [D loss: 5.5641] [G loss: 0.0857] [GP: 0.5600] [W-dist: -5.5641]\n",
      "[Epoch 3/200] [Batch 100/413] [D loss: 3.2795] [G loss: 0.0665] [GP: 0.3334] [W-dist: -3.2795]\n",
      "[Epoch 3/200] [Batch 150/413] [D loss: 4.2457] [G loss: 0.0263] [GP: 0.4281] [W-dist: -4.2457]\n",
      "[Epoch 3/200] [Batch 200/413] [D loss: 3.6557] [G loss: -0.0204] [GP: 0.3746] [W-dist: -3.6557]\n",
      "[Epoch 3/200] [Batch 250/413] [D loss: 1.9053] [G loss: 0.0706] [GP: 0.1935] [W-dist: -1.9053]\n",
      "[Epoch 3/200] [Batch 300/413] [D loss: 2.3981] [G loss: 0.0179] [GP: 0.2433] [W-dist: -2.3981]\n",
      "[Epoch 3/200] [Batch 350/413] [D loss: 3.7458] [G loss: 0.0729] [GP: 0.3775] [W-dist: -3.7458]\n",
      "[Epoch 3/200] [Batch 400/413] [D loss: 3.0217] [G loss: -0.0178] [GP: 0.3056] [W-dist: -3.0217]\n"
     ]
    },
    {
     "name": "stderr",
     "output_type": "stream",
     "text": [
      "  2%|▏         | 4/200 [11:21<9:16:04, 170.23s/it]"
     ]
    },
    {
     "name": "stdout",
     "output_type": "stream",
     "text": [
      "[Epoch 4/200] [Batch 0/413] [D loss: 3.5242] [G loss: 0.1151] [GP: 0.3507] [W-dist: -3.5242]\n",
      "[Epoch 4/200] [Batch 50/413] [D loss: 2.1050] [G loss: 0.0342] [GP: 0.2115] [W-dist: -2.1050]\n",
      "[Epoch 4/200] [Batch 100/413] [D loss: 3.1884] [G loss: 0.0062] [GP: 0.3288] [W-dist: -3.1884]\n",
      "[Epoch 4/200] [Batch 150/413] [D loss: 3.7342] [G loss: -0.0386] [GP: 0.3841] [W-dist: -3.7342]\n",
      "[Epoch 4/200] [Batch 200/413] [D loss: 4.8130] [G loss: -0.0121] [GP: 0.4937] [W-dist: -4.8130]\n",
      "[Epoch 4/200] [Batch 250/413] [D loss: 2.7826] [G loss: -0.0374] [GP: 0.2876] [W-dist: -2.7826]\n",
      "[Epoch 4/200] [Batch 300/413] [D loss: 5.5291] [G loss: 0.0289] [GP: 0.5663] [W-dist: -5.5291]\n",
      "[Epoch 4/200] [Batch 350/413] [D loss: 3.0019] [G loss: 0.0322] [GP: 0.3038] [W-dist: -3.0019]\n",
      "[Epoch 4/200] [Batch 400/413] [D loss: 4.0874] [G loss: -0.0308] [GP: 0.4202] [W-dist: -4.0874]\n"
     ]
    },
    {
     "name": "stderr",
     "output_type": "stream",
     "text": [
      "  2%|▎         | 5/200 [14:11<9:12:55, 170.13s/it]"
     ]
    },
    {
     "name": "stdout",
     "output_type": "stream",
     "text": [
      "[Epoch 5/200] [Batch 0/413] [D loss: 3.1122] [G loss: 0.0352] [GP: 0.3146] [W-dist: -3.1122]\n",
      "[Epoch 5/200] [Batch 50/413] [D loss: 2.8414] [G loss: 0.0237] [GP: 0.2894] [W-dist: -2.8414]\n",
      "[Epoch 5/200] [Batch 100/413] [D loss: 1.2826] [G loss: 0.0143] [GP: 0.1361] [W-dist: -1.2826]\n",
      "[Epoch 5/200] [Batch 150/413] [D loss: 2.7080] [G loss: -0.0174] [GP: 0.2766] [W-dist: -2.7080]\n",
      "[Epoch 5/200] [Batch 200/413] [D loss: 5.1992] [G loss: 0.0964] [GP: 0.5160] [W-dist: -5.1992]\n",
      "[Epoch 5/200] [Batch 250/413] [D loss: 2.7685] [G loss: 0.0214] [GP: 0.2834] [W-dist: -2.7685]\n",
      "[Epoch 5/200] [Batch 300/413] [D loss: 3.6810] [G loss: 0.0132] [GP: 0.3783] [W-dist: -3.6810]\n",
      "[Epoch 5/200] [Batch 350/413] [D loss: 5.1038] [G loss: 0.0405] [GP: 0.5242] [W-dist: -5.1038]\n",
      "[Epoch 5/200] [Batch 400/413] [D loss: 2.0760] [G loss: 0.0084] [GP: 0.2115] [W-dist: -2.0760]\n"
     ]
    },
    {
     "name": "stderr",
     "output_type": "stream",
     "text": [
      "  3%|▎         | 6/200 [17:01<9:09:52, 170.07s/it]"
     ]
    },
    {
     "name": "stdout",
     "output_type": "stream",
     "text": [
      "[Epoch 6/200] [Batch 0/413] [D loss: 6.5218] [G loss: -0.0213] [GP: 0.6492] [W-dist: -6.5218]\n",
      "[Epoch 6/200] [Batch 50/413] [D loss: 3.8636] [G loss: -0.0243] [GP: 0.3998] [W-dist: -3.8636]\n",
      "[Epoch 6/200] [Batch 100/413] [D loss: 2.4963] [G loss: 0.0208] [GP: 0.2577] [W-dist: -2.4963]\n",
      "[Epoch 6/200] [Batch 150/413] [D loss: 3.0670] [G loss: -0.0127] [GP: 0.3146] [W-dist: -3.0670]\n",
      "[Epoch 6/200] [Batch 200/413] [D loss: 4.0482] [G loss: 0.1122] [GP: 0.4026] [W-dist: -4.0482]\n",
      "[Epoch 6/200] [Batch 250/413] [D loss: 3.4592] [G loss: -0.0166] [GP: 0.3562] [W-dist: -3.4592]\n",
      "[Epoch 6/200] [Batch 300/413] [D loss: 1.3903] [G loss: -0.0187] [GP: 0.1473] [W-dist: -1.3903]\n",
      "[Epoch 6/200] [Batch 350/413] [D loss: 3.1557] [G loss: 0.1249] [GP: 0.3146] [W-dist: -3.1557]\n",
      "[Epoch 6/200] [Batch 400/413] [D loss: 1.4514] [G loss: 0.0521] [GP: 0.1449] [W-dist: -1.4514]\n"
     ]
    },
    {
     "name": "stderr",
     "output_type": "stream",
     "text": [
      "  4%|▎         | 7/200 [19:51<9:06:48, 169.99s/it]"
     ]
    },
    {
     "name": "stdout",
     "output_type": "stream",
     "text": [
      "[Epoch 7/200] [Batch 0/413] [D loss: 4.1658] [G loss: 0.0242] [GP: 0.4225] [W-dist: -4.1658]\n",
      "[Epoch 7/200] [Batch 50/413] [D loss: 3.3765] [G loss: -0.0263] [GP: 0.3497] [W-dist: -3.3765]\n",
      "[Epoch 7/200] [Batch 100/413] [D loss: 1.2234] [G loss: -0.0098] [GP: 0.1227] [W-dist: -1.2234]\n",
      "[Epoch 7/200] [Batch 150/413] [D loss: 4.0286] [G loss: -0.0270] [GP: 0.4149] [W-dist: -4.0286]\n",
      "[Epoch 7/200] [Batch 200/413] [D loss: 4.6082] [G loss: 0.0060] [GP: 0.4740] [W-dist: -4.6082]\n",
      "[Epoch 7/200] [Batch 250/413] [D loss: 2.5224] [G loss: 0.0038] [GP: 0.2561] [W-dist: -2.5224]\n",
      "[Epoch 7/200] [Batch 300/413] [D loss: 2.4754] [G loss: -0.0283] [GP: 0.2496] [W-dist: -2.4754]\n",
      "[Epoch 7/200] [Batch 350/413] [D loss: 2.1429] [G loss: 0.0097] [GP: 0.2167] [W-dist: -2.1429]\n",
      "[Epoch 7/200] [Batch 400/413] [D loss: 5.6709] [G loss: 0.0542] [GP: 0.5792] [W-dist: -5.6709]\n"
     ]
    },
    {
     "name": "stderr",
     "output_type": "stream",
     "text": [
      "  4%|▍         | 8/200 [22:41<9:03:47, 169.94s/it]"
     ]
    },
    {
     "name": "stdout",
     "output_type": "stream",
     "text": [
      "[Epoch 8/200] [Batch 0/413] [D loss: 3.8305] [G loss: -0.0305] [GP: 0.3947] [W-dist: -3.8305]\n",
      "[Epoch 8/200] [Batch 50/413] [D loss: 1.4009] [G loss: 0.1248] [GP: 0.1379] [W-dist: -1.4009]\n",
      "[Epoch 8/200] [Batch 100/413] [D loss: 4.1794] [G loss: -0.0205] [GP: 0.4281] [W-dist: -4.1794]\n",
      "[Epoch 8/200] [Batch 150/413] [D loss: 4.7826] [G loss: -0.0205] [GP: 0.4881] [W-dist: -4.7826]\n",
      "[Epoch 8/200] [Batch 200/413] [D loss: 1.1252] [G loss: 0.0252] [GP: 0.1157] [W-dist: -1.1252]\n",
      "[Epoch 8/200] [Batch 250/413] [D loss: 2.1196] [G loss: -0.0209] [GP: 0.2182] [W-dist: -2.1196]\n",
      "[Epoch 8/200] [Batch 300/413] [D loss: 3.8094] [G loss: -0.0261] [GP: 0.3907] [W-dist: -3.8094]\n",
      "[Epoch 8/200] [Batch 350/413] [D loss: 1.6939] [G loss: -0.0003] [GP: 0.1674] [W-dist: -1.6939]\n",
      "[Epoch 8/200] [Batch 400/413] [D loss: 4.7977] [G loss: 0.0253] [GP: 0.4757] [W-dist: -4.7977]\n"
     ]
    },
    {
     "name": "stderr",
     "output_type": "stream",
     "text": [
      "  4%|▍         | 9/200 [25:31<9:00:55, 169.92s/it]"
     ]
    },
    {
     "name": "stdout",
     "output_type": "stream",
     "text": [
      "[Epoch 9/200] [Batch 0/413] [D loss: 3.8035] [G loss: -0.0385] [GP: 0.3912] [W-dist: -3.8035]\n",
      "[Epoch 9/200] [Batch 50/413] [D loss: 6.8962] [G loss: 0.0979] [GP: 0.7004] [W-dist: -6.8962]\n",
      "[Epoch 9/200] [Batch 100/413] [D loss: 5.0651] [G loss: 0.0874] [GP: 0.5002] [W-dist: -5.0651]\n",
      "[Epoch 9/200] [Batch 150/413] [D loss: 4.6538] [G loss: 0.1126] [GP: 0.4601] [W-dist: -4.6538]\n",
      "[Epoch 9/200] [Batch 200/413] [D loss: 4.1152] [G loss: -0.0298] [GP: 0.4219] [W-dist: -4.1152]\n",
      "[Epoch 9/200] [Batch 250/413] [D loss: 4.5627] [G loss: 0.1138] [GP: 0.4507] [W-dist: -4.5627]\n",
      "[Epoch 9/200] [Batch 300/413] [D loss: 2.3269] [G loss: -0.0356] [GP: 0.2409] [W-dist: -2.3269]\n",
      "[Epoch 9/200] [Batch 350/413] [D loss: 6.6971] [G loss: 0.0164] [GP: 0.6634] [W-dist: -6.6971]\n",
      "[Epoch 9/200] [Batch 400/413] [D loss: 3.0459] [G loss: 0.1196] [GP: 0.3000] [W-dist: -3.0459]\n"
     ]
    },
    {
     "name": "stderr",
     "output_type": "stream",
     "text": [
      "  5%|▌         | 10/200 [28:21<8:57:55, 169.87s/it]"
     ]
    },
    {
     "name": "stdout",
     "output_type": "stream",
     "text": [
      "[Epoch 10/200] [Batch 0/413] [D loss: 4.4213] [G loss: -0.0311] [GP: 0.4509] [W-dist: -4.4213]\n",
      "[Epoch 10/200] [Batch 50/413] [D loss: 2.2902] [G loss: -0.0307] [GP: 0.2355] [W-dist: -2.2902]\n",
      "[Epoch 10/200] [Batch 100/413] [D loss: 1.6004] [G loss: 0.0474] [GP: 0.1595] [W-dist: -1.6004]\n",
      "[Epoch 10/200] [Batch 150/413] [D loss: 2.2804] [G loss: 0.1367] [GP: 0.2230] [W-dist: -2.2804]\n",
      "[Epoch 10/200] [Batch 200/413] [D loss: 2.3086] [G loss: -0.0409] [GP: 0.2392] [W-dist: -2.3086]\n",
      "[Epoch 10/200] [Batch 250/413] [D loss: 4.8934] [G loss: -0.0161] [GP: 0.4983] [W-dist: -4.8934]\n",
      "[Epoch 10/200] [Batch 300/413] [D loss: 3.0920] [G loss: -0.0224] [GP: 0.3128] [W-dist: -3.0920]\n",
      "[Epoch 10/200] [Batch 350/413] [D loss: 1.6792] [G loss: 0.1128] [GP: 0.1635] [W-dist: -1.6792]\n",
      "[Epoch 10/200] [Batch 400/413] [D loss: 3.0486] [G loss: -0.0259] [GP: 0.3104] [W-dist: -3.0486]\n"
     ]
    },
    {
     "name": "stderr",
     "output_type": "stream",
     "text": [
      "  6%|▌         | 11/200 [31:11<8:55:08, 169.88s/it]"
     ]
    },
    {
     "name": "stdout",
     "output_type": "stream",
     "text": [
      "[Epoch 11/200] [Batch 0/413] [D loss: 7.2550] [G loss: 0.1224] [GP: 0.7352] [W-dist: -7.2550]\n",
      "[Epoch 11/200] [Batch 50/413] [D loss: 1.6852] [G loss: 0.0329] [GP: 0.1692] [W-dist: -1.6852]\n",
      "[Epoch 11/200] [Batch 100/413] [D loss: 6.1657] [G loss: -0.0314] [GP: 0.6109] [W-dist: -6.1657]\n",
      "[Epoch 11/200] [Batch 150/413] [D loss: 1.9685] [G loss: 0.1332] [GP: 0.1920] [W-dist: -1.9685]\n",
      "[Epoch 11/200] [Batch 200/413] [D loss: 4.5056] [G loss: 0.0820] [GP: 0.4466] [W-dist: -4.5056]\n",
      "[Epoch 11/200] [Batch 250/413] [D loss: 3.8286] [G loss: 0.1344] [GP: 0.3786] [W-dist: -3.8286]\n",
      "[Epoch 11/200] [Batch 300/413] [D loss: 5.6000] [G loss: 0.0682] [GP: 0.5709] [W-dist: -5.6000]\n",
      "[Epoch 11/200] [Batch 350/413] [D loss: 4.9830] [G loss: 0.0086] [GP: 0.5086] [W-dist: -4.9830]\n",
      "[Epoch 11/200] [Batch 400/413] [D loss: 2.5913] [G loss: 0.1318] [GP: 0.2560] [W-dist: -2.5913]\n"
     ]
    },
    {
     "name": "stderr",
     "output_type": "stream",
     "text": [
      "  6%|▌         | 12/200 [34:00<8:52:05, 169.82s/it]"
     ]
    },
    {
     "name": "stdout",
     "output_type": "stream",
     "text": [
      "[Epoch 12/200] [Batch 0/413] [D loss: 1.2222] [G loss: 0.1423] [GP: 0.1207] [W-dist: -1.2222]\n",
      "[Epoch 12/200] [Batch 50/413] [D loss: 1.8294] [G loss: 0.0949] [GP: 0.1828] [W-dist: -1.8294]\n",
      "[Epoch 12/200] [Batch 100/413] [D loss: 4.6262] [G loss: -0.0144] [GP: 0.4727] [W-dist: -4.6262]\n",
      "[Epoch 12/200] [Batch 150/413] [D loss: 0.6210] [G loss: 0.0749] [GP: 0.0641] [W-dist: -0.6210]\n",
      "[Epoch 12/200] [Batch 200/413] [D loss: 5.0417] [G loss: -0.0075] [GP: 0.5002] [W-dist: -5.0417]\n",
      "[Epoch 12/200] [Batch 250/413] [D loss: 1.9240] [G loss: 0.0809] [GP: 0.1954] [W-dist: -1.9240]\n",
      "[Epoch 12/200] [Batch 300/413] [D loss: 2.4007] [G loss: 0.1375] [GP: 0.2389] [W-dist: -2.4007]\n",
      "[Epoch 12/200] [Batch 350/413] [D loss: 4.7738] [G loss: -0.0027] [GP: 0.4727] [W-dist: -4.7738]\n",
      "[Epoch 12/200] [Batch 400/413] [D loss: 2.6915] [G loss: 0.0841] [GP: 0.2691] [W-dist: -2.6915]\n"
     ]
    },
    {
     "name": "stderr",
     "output_type": "stream",
     "text": [
      "  6%|▋         | 13/200 [36:47<8:46:33, 168.95s/it]"
     ]
    },
    {
     "name": "stdout",
     "output_type": "stream",
     "text": [
      "[Epoch 13/200] [Batch 0/413] [D loss: 0.8115] [G loss: 0.1053] [GP: 0.0838] [W-dist: -0.8115]\n",
      "[Epoch 13/200] [Batch 50/413] [D loss: 5.6167] [G loss: 0.0531] [GP: 0.5737] [W-dist: -5.6167]\n",
      "[Epoch 13/200] [Batch 100/413] [D loss: 2.4344] [G loss: 0.0306] [GP: 0.2463] [W-dist: -2.4344]\n",
      "[Epoch 13/200] [Batch 150/413] [D loss: 5.0368] [G loss: 0.1000] [GP: 0.5164] [W-dist: -5.0368]\n",
      "[Epoch 13/200] [Batch 200/413] [D loss: 0.6094] [G loss: 0.0519] [GP: 0.0631] [W-dist: -0.6094]\n",
      "[Epoch 13/200] [Batch 250/413] [D loss: 2.2494] [G loss: 0.0531] [GP: 0.2290] [W-dist: -2.2494]\n",
      "[Epoch 13/200] [Batch 300/413] [D loss: 0.7380] [G loss: 0.1107] [GP: 0.0808] [W-dist: -0.7380]\n",
      "[Epoch 13/200] [Batch 350/413] [D loss: 2.7320] [G loss: 0.1343] [GP: 0.2717] [W-dist: -2.7320]\n",
      "[Epoch 13/200] [Batch 400/413] [D loss: 2.2361] [G loss: 0.1459] [GP: 0.2219] [W-dist: -2.2361]\n"
     ]
    },
    {
     "name": "stderr",
     "output_type": "stream",
     "text": [
      "  7%|▋         | 14/200 [39:35<8:42:17, 168.48s/it]"
     ]
    },
    {
     "name": "stdout",
     "output_type": "stream",
     "text": [
      "[Epoch 14/200] [Batch 0/413] [D loss: 4.5655] [G loss: -0.0033] [GP: 0.4524] [W-dist: -4.5655]\n",
      "[Epoch 14/200] [Batch 50/413] [D loss: 0.9257] [G loss: -0.0285] [GP: 0.1010] [W-dist: -0.9257]\n",
      "[Epoch 14/200] [Batch 100/413] [D loss: 3.3018] [G loss: 0.0000] [GP: 0.3397] [W-dist: -3.3018]\n",
      "[Epoch 14/200] [Batch 150/413] [D loss: 3.3483] [G loss: 0.1044] [GP: 0.3318] [W-dist: -3.3483]\n",
      "[Epoch 14/200] [Batch 200/413] [D loss: 4.1365] [G loss: 0.0555] [GP: 0.4099] [W-dist: -4.1365]\n",
      "[Epoch 14/200] [Batch 250/413] [D loss: 2.7556] [G loss: 0.1309] [GP: 0.2740] [W-dist: -2.7556]\n",
      "[Epoch 14/200] [Batch 300/413] [D loss: 4.7958] [G loss: -0.0313] [GP: 0.4911] [W-dist: -4.7958]\n",
      "[Epoch 14/200] [Batch 350/413] [D loss: 1.1151] [G loss: 0.0057] [GP: 0.1215] [W-dist: -1.1151]\n",
      "[Epoch 14/200] [Batch 400/413] [D loss: 3.5458] [G loss: 0.0959] [GP: 0.3528] [W-dist: -3.5458]\n"
     ]
    },
    {
     "name": "stderr",
     "output_type": "stream",
     "text": [
      "  8%|▊         | 15/200 [42:22<8:38:25, 168.14s/it]"
     ]
    },
    {
     "name": "stdout",
     "output_type": "stream",
     "text": [
      "[Epoch 15/200] [Batch 0/413] [D loss: 1.3361] [G loss: -0.0187] [GP: 0.1421] [W-dist: -1.3361]\n",
      "[Epoch 15/200] [Batch 50/413] [D loss: 2.6541] [G loss: 0.0049] [GP: 0.2708] [W-dist: -2.6541]\n",
      "[Epoch 15/200] [Batch 100/413] [D loss: 2.6166] [G loss: 0.1209] [GP: 0.2600] [W-dist: -2.6166]\n",
      "[Epoch 15/200] [Batch 150/413] [D loss: 0.8116] [G loss: 0.0534] [GP: 0.0856] [W-dist: -0.8116]\n",
      "[Epoch 15/200] [Batch 200/413] [D loss: 2.4760] [G loss: -0.0025] [GP: 0.2538] [W-dist: -2.4760]\n",
      "[Epoch 15/200] [Batch 250/413] [D loss: 1.6516] [G loss: -0.0333] [GP: 0.1765] [W-dist: -1.6516]\n",
      "[Epoch 15/200] [Batch 300/413] [D loss: 2.9911] [G loss: -0.0071] [GP: 0.3087] [W-dist: -2.9911]\n",
      "[Epoch 15/200] [Batch 350/413] [D loss: 4.2857] [G loss: -0.0056] [GP: 0.4422] [W-dist: -4.2857]\n",
      "[Epoch 15/200] [Batch 400/413] [D loss: 5.1929] [G loss: -0.0212] [GP: 0.5157] [W-dist: -5.1929]\n"
     ]
    },
    {
     "name": "stderr",
     "output_type": "stream",
     "text": [
      "  8%|▊         | 16/200 [45:09<8:34:48, 167.87s/it]"
     ]
    },
    {
     "name": "stdout",
     "output_type": "stream",
     "text": [
      "[Epoch 16/200] [Batch 0/413] [D loss: 3.4270] [G loss: -0.0135] [GP: 0.3551] [W-dist: -3.4270]\n",
      "[Epoch 16/200] [Batch 50/413] [D loss: 3.9981] [G loss: 0.0734] [GP: 0.3988] [W-dist: -3.9981]\n",
      "[Epoch 16/200] [Batch 100/413] [D loss: 3.2202] [G loss: 0.1100] [GP: 0.3184] [W-dist: -3.2202]\n",
      "[Epoch 16/200] [Batch 150/413] [D loss: 3.5396] [G loss: -0.0270] [GP: 0.3670] [W-dist: -3.5396]\n",
      "[Epoch 16/200] [Batch 200/413] [D loss: 2.8698] [G loss: 0.0912] [GP: 0.2855] [W-dist: -2.8698]\n",
      "[Epoch 16/200] [Batch 250/413] [D loss: 0.6672] [G loss: 0.0632] [GP: 0.0710] [W-dist: -0.6672]\n",
      "[Epoch 16/200] [Batch 300/413] [D loss: 1.8318] [G loss: 0.1018] [GP: 0.1836] [W-dist: -1.8318]\n",
      "[Epoch 16/200] [Batch 350/413] [D loss: 1.9860] [G loss: 0.1386] [GP: 0.1958] [W-dist: -1.9860]\n",
      "[Epoch 16/200] [Batch 400/413] [D loss: 2.3081] [G loss: 0.1321] [GP: 0.2275] [W-dist: -2.3081]\n"
     ]
    },
    {
     "name": "stderr",
     "output_type": "stream",
     "text": [
      "  8%|▊         | 17/200 [47:57<8:31:34, 167.73s/it]"
     ]
    },
    {
     "name": "stdout",
     "output_type": "stream",
     "text": [
      "[Epoch 17/200] [Batch 0/413] [D loss: 3.5040] [G loss: 0.0762] [GP: 0.3473] [W-dist: -3.5040]\n",
      "[Epoch 17/200] [Batch 50/413] [D loss: 2.1611] [G loss: 0.0993] [GP: 0.2149] [W-dist: -2.1611]\n",
      "[Epoch 17/200] [Batch 100/413] [D loss: 0.9590] [G loss: 0.0385] [GP: 0.0989] [W-dist: -0.9590]\n",
      "[Epoch 17/200] [Batch 150/413] [D loss: 3.0089] [G loss: -0.0262] [GP: 0.3117] [W-dist: -3.0089]\n",
      "[Epoch 17/200] [Batch 200/413] [D loss: 3.4504] [G loss: 0.0618] [GP: 0.3401] [W-dist: -3.4504]\n",
      "[Epoch 17/200] [Batch 250/413] [D loss: 3.2262] [G loss: 0.0917] [GP: 0.3178] [W-dist: -3.2262]\n",
      "[Epoch 17/200] [Batch 300/413] [D loss: 1.4801] [G loss: 0.0030] [GP: 0.1543] [W-dist: -1.4801]\n",
      "[Epoch 17/200] [Batch 350/413] [D loss: 0.9928] [G loss: 0.1290] [GP: 0.0985] [W-dist: -0.9928]\n",
      "[Epoch 17/200] [Batch 400/413] [D loss: 0.5531] [G loss: 0.0726] [GP: 0.0569] [W-dist: -0.5531]\n"
     ]
    },
    {
     "name": "stderr",
     "output_type": "stream",
     "text": [
      "  9%|▉         | 18/200 [50:44<8:28:28, 167.63s/it]"
     ]
    },
    {
     "name": "stdout",
     "output_type": "stream",
     "text": [
      "[Epoch 18/200] [Batch 0/413] [D loss: 2.8469] [G loss: 0.1154] [GP: 0.2806] [W-dist: -2.8469]\n",
      "[Epoch 18/200] [Batch 50/413] [D loss: 3.8911] [G loss: 0.0328] [GP: 0.4005] [W-dist: -3.8911]\n",
      "[Epoch 18/200] [Batch 100/413] [D loss: 2.1993] [G loss: 0.0909] [GP: 0.2202] [W-dist: -2.1993]\n",
      "[Epoch 18/200] [Batch 150/413] [D loss: 0.6387] [G loss: 0.0727] [GP: 0.0653] [W-dist: -0.6387]\n",
      "[Epoch 18/200] [Batch 200/413] [D loss: 2.9518] [G loss: 0.1129] [GP: 0.2936] [W-dist: -2.9518]\n",
      "[Epoch 18/200] [Batch 250/413] [D loss: 2.8347] [G loss: 0.0992] [GP: 0.2814] [W-dist: -2.8347]\n",
      "[Epoch 18/200] [Batch 300/413] [D loss: 1.0754] [G loss: 0.1179] [GP: 0.1071] [W-dist: -1.0754]\n",
      "[Epoch 18/200] [Batch 350/413] [D loss: 1.3002] [G loss: 0.0080] [GP: 0.1371] [W-dist: -1.3002]\n",
      "[Epoch 18/200] [Batch 400/413] [D loss: 0.9294] [G loss: -0.0109] [GP: 0.0992] [W-dist: -0.9294]\n"
     ]
    },
    {
     "name": "stderr",
     "output_type": "stream",
     "text": [
      " 10%|▉         | 19/200 [53:32<8:25:52, 167.69s/it]"
     ]
    },
    {
     "name": "stdout",
     "output_type": "stream",
     "text": [
      "[Epoch 19/200] [Batch 0/413] [D loss: 3.4921] [G loss: 0.0977] [GP: 0.3455] [W-dist: -3.4921]\n",
      "[Epoch 19/200] [Batch 50/413] [D loss: 0.6456] [G loss: 0.0632] [GP: 0.0669] [W-dist: -0.6456]\n",
      "[Epoch 19/200] [Batch 100/413] [D loss: 0.6070] [G loss: 0.0121] [GP: 0.0634] [W-dist: -0.6070]\n",
      "[Epoch 19/200] [Batch 150/413] [D loss: 0.7333] [G loss: -0.0148] [GP: 0.0772] [W-dist: -0.7333]\n",
      "[Epoch 19/200] [Batch 200/413] [D loss: 2.5873] [G loss: 0.1361] [GP: 0.2573] [W-dist: -2.5873]\n",
      "[Epoch 19/200] [Batch 250/413] [D loss: 3.8092] [G loss: 0.0521] [GP: 0.3768] [W-dist: -3.8092]\n",
      "[Epoch 19/200] [Batch 300/413] [D loss: 2.0852] [G loss: 0.1283] [GP: 0.2037] [W-dist: -2.0852]\n",
      "[Epoch 19/200] [Batch 350/413] [D loss: 1.0280] [G loss: -0.0007] [GP: 0.1118] [W-dist: -1.0280]\n",
      "[Epoch 19/200] [Batch 400/413] [D loss: 5.0091] [G loss: -0.0035] [GP: 0.4965] [W-dist: -5.0091]\n"
     ]
    },
    {
     "name": "stderr",
     "output_type": "stream",
     "text": [
      " 10%|█         | 20/200 [56:20<8:23:07, 167.71s/it]"
     ]
    },
    {
     "name": "stdout",
     "output_type": "stream",
     "text": [
      "[Epoch 20/200] [Batch 0/413] [D loss: 2.7788] [G loss: 0.0872] [GP: 0.2740] [W-dist: -2.7788]\n",
      "[Epoch 20/200] [Batch 50/413] [D loss: 2.6996] [G loss: 0.1166] [GP: 0.2671] [W-dist: -2.6996]\n",
      "[Epoch 20/200] [Batch 100/413] [D loss: 2.2091] [G loss: 0.1122] [GP: 0.2211] [W-dist: -2.2091]\n",
      "[Epoch 20/200] [Batch 150/413] [D loss: 0.7622] [G loss: 0.1267] [GP: 0.0778] [W-dist: -0.7622]\n",
      "[Epoch 20/200] [Batch 200/413] [D loss: 4.5718] [G loss: 0.0205] [GP: 0.4519] [W-dist: -4.5718]\n",
      "[Epoch 20/200] [Batch 250/413] [D loss: 4.6553] [G loss: 0.0469] [GP: 0.4606] [W-dist: -4.6553]\n",
      "[Epoch 20/200] [Batch 300/413] [D loss: 0.7894] [G loss: 0.0012] [GP: 0.0861] [W-dist: -0.7894]\n",
      "[Epoch 20/200] [Batch 350/413] [D loss: 4.4456] [G loss: 0.0504] [GP: 0.4407] [W-dist: -4.4456]\n",
      "[Epoch 20/200] [Batch 400/413] [D loss: 0.9309] [G loss: 0.1319] [GP: 0.0935] [W-dist: -0.9309]\n"
     ]
    },
    {
     "name": "stderr",
     "output_type": "stream",
     "text": [
      " 10%|█         | 21/200 [59:07<8:20:16, 167.69s/it]"
     ]
    },
    {
     "name": "stdout",
     "output_type": "stream",
     "text": [
      "[Epoch 21/200] [Batch 0/413] [D loss: 1.9198] [G loss: 0.0109] [GP: 0.1944] [W-dist: -1.9198]\n",
      "[Epoch 21/200] [Batch 50/413] [D loss: 1.0258] [G loss: 0.1310] [GP: 0.1018] [W-dist: -1.0258]\n",
      "[Epoch 21/200] [Batch 100/413] [D loss: 0.6728] [G loss: -0.0113] [GP: 0.0712] [W-dist: -0.6728]\n",
      "[Epoch 21/200] [Batch 150/413] [D loss: 0.6513] [G loss: 0.0958] [GP: 0.0672] [W-dist: -0.6513]\n",
      "[Epoch 21/200] [Batch 200/413] [D loss: 5.3670] [G loss: -0.0104] [GP: 0.5316] [W-dist: -5.3670]\n",
      "[Epoch 21/200] [Batch 250/413] [D loss: 0.6961] [G loss: 0.0235] [GP: 0.0692] [W-dist: -0.6961]\n",
      "[Epoch 21/200] [Batch 300/413] [D loss: 4.8810] [G loss: 0.0248] [GP: 0.4828] [W-dist: -4.8810]\n",
      "[Epoch 21/200] [Batch 350/413] [D loss: 1.9748] [G loss: 0.0611] [GP: 0.1975] [W-dist: -1.9748]\n",
      "[Epoch 21/200] [Batch 400/413] [D loss: 1.5336] [G loss: 0.0254] [GP: 0.1563] [W-dist: -1.5336]\n"
     ]
    },
    {
     "name": "stderr",
     "output_type": "stream",
     "text": [
      " 11%|█         | 22/200 [1:01:55<8:17:21, 167.65s/it]"
     ]
    },
    {
     "name": "stdout",
     "output_type": "stream",
     "text": [
      "[Epoch 22/200] [Batch 0/413] [D loss: 2.4382] [G loss: 0.1024] [GP: 0.2412] [W-dist: -2.4382]\n",
      "[Epoch 22/200] [Batch 50/413] [D loss: 1.3364] [G loss: 0.1480] [GP: 0.1310] [W-dist: -1.3364]\n",
      "[Epoch 22/200] [Batch 100/413] [D loss: 0.8489] [G loss: 0.0351] [GP: 0.0899] [W-dist: -0.8489]\n",
      "[Epoch 22/200] [Batch 150/413] [D loss: 4.8976] [G loss: 0.0440] [GP: 0.5014] [W-dist: -4.8976]\n",
      "[Epoch 22/200] [Batch 200/413] [D loss: 1.5599] [G loss: 0.1417] [GP: 0.1546] [W-dist: -1.5599]\n",
      "[Epoch 22/200] [Batch 250/413] [D loss: 3.3845] [G loss: -0.0103] [GP: 0.3491] [W-dist: -3.3845]\n",
      "[Epoch 22/200] [Batch 300/413] [D loss: 1.8115] [G loss: 0.0594] [GP: 0.1850] [W-dist: -1.8115]\n",
      "[Epoch 22/200] [Batch 350/413] [D loss: 2.6597] [G loss: -0.0067] [GP: 0.2771] [W-dist: -2.6597]\n",
      "[Epoch 22/200] [Batch 400/413] [D loss: 4.4500] [G loss: -0.0100] [GP: 0.4411] [W-dist: -4.4500]\n"
     ]
    },
    {
     "name": "stderr",
     "output_type": "stream",
     "text": [
      " 12%|█▏        | 23/200 [1:04:42<8:14:09, 167.51s/it]"
     ]
    },
    {
     "name": "stdout",
     "output_type": "stream",
     "text": [
      "[Epoch 23/200] [Batch 0/413] [D loss: 3.9216] [G loss: 0.0808] [GP: 0.3886] [W-dist: -3.9216]\n",
      "[Epoch 23/200] [Batch 50/413] [D loss: 0.6879] [G loss: 0.1363] [GP: 0.0692] [W-dist: -0.6879]\n",
      "[Epoch 23/200] [Batch 100/413] [D loss: 3.0959] [G loss: 0.0751] [GP: 0.3056] [W-dist: -3.0959]\n",
      "[Epoch 23/200] [Batch 150/413] [D loss: 4.5562] [G loss: 0.0494] [GP: 0.4517] [W-dist: -4.5562]\n",
      "[Epoch 23/200] [Batch 200/413] [D loss: 2.7323] [G loss: 0.1263] [GP: 0.2722] [W-dist: -2.7323]\n",
      "[Epoch 23/200] [Batch 250/413] [D loss: 1.0283] [G loss: 0.0280] [GP: 0.1059] [W-dist: -1.0283]\n",
      "[Epoch 23/200] [Batch 300/413] [D loss: 4.2849] [G loss: 0.0363] [GP: 0.4399] [W-dist: -4.2849]\n",
      "[Epoch 23/200] [Batch 350/413] [D loss: 2.9926] [G loss: -0.0059] [GP: 0.3090] [W-dist: -2.9926]\n",
      "[Epoch 23/200] [Batch 400/413] [D loss: 2.0723] [G loss: 0.0044] [GP: 0.2074] [W-dist: -2.0723]\n"
     ]
    },
    {
     "name": "stderr",
     "output_type": "stream",
     "text": [
      " 12%|█▏        | 24/200 [1:07:29<8:11:10, 167.45s/it]"
     ]
    },
    {
     "name": "stdout",
     "output_type": "stream",
     "text": [
      "[Epoch 24/200] [Batch 0/413] [D loss: 4.1779] [G loss: 0.0283] [GP: 0.4139] [W-dist: -4.1779]\n",
      "[Epoch 24/200] [Batch 50/413] [D loss: 1.6188] [G loss: 0.1158] [GP: 0.1596] [W-dist: -1.6188]\n",
      "[Epoch 24/200] [Batch 100/413] [D loss: 0.8967] [G loss: 0.1090] [GP: 0.0903] [W-dist: -0.8967]\n",
      "[Epoch 24/200] [Batch 150/413] [D loss: 3.6096] [G loss: 0.0474] [GP: 0.3580] [W-dist: -3.6096]\n",
      "[Epoch 24/200] [Batch 200/413] [D loss: 0.7650] [G loss: 0.0030] [GP: 0.0810] [W-dist: -0.7650]\n",
      "[Epoch 24/200] [Batch 250/413] [D loss: 0.5719] [G loss: 0.0282] [GP: 0.0624] [W-dist: -0.5719]\n",
      "[Epoch 24/200] [Batch 300/413] [D loss: 2.9191] [G loss: 0.0549] [GP: 0.2880] [W-dist: -2.9191]\n",
      "[Epoch 24/200] [Batch 350/413] [D loss: 1.6998] [G loss: 0.1467] [GP: 0.1650] [W-dist: -1.6998]\n",
      "[Epoch 24/200] [Batch 400/413] [D loss: 0.6574] [G loss: 0.0558] [GP: 0.0684] [W-dist: -0.6574]\n"
     ]
    },
    {
     "name": "stderr",
     "output_type": "stream",
     "text": [
      " 12%|█▎        | 25/200 [1:10:17<8:08:44, 167.57s/it]"
     ]
    },
    {
     "name": "stdout",
     "output_type": "stream",
     "text": [
      "[Epoch 25/200] [Batch 0/413] [D loss: 0.6608] [G loss: 0.0537] [GP: 0.0669] [W-dist: -0.6608]\n",
      "[Epoch 25/200] [Batch 50/413] [D loss: 0.8474] [G loss: 0.1295] [GP: 0.0838] [W-dist: -0.8474]\n",
      "[Epoch 25/200] [Batch 100/413] [D loss: 1.2625] [G loss: -0.0071] [GP: 0.1282] [W-dist: -1.2625]\n",
      "[Epoch 25/200] [Batch 150/413] [D loss: 5.3914] [G loss: -0.0058] [GP: 0.5346] [W-dist: -5.3914]\n",
      "[Epoch 25/200] [Batch 200/413] [D loss: 4.3435] [G loss: 0.0192] [GP: 0.4291] [W-dist: -4.3435]\n",
      "[Epoch 25/200] [Batch 250/413] [D loss: 1.9903] [G loss: 0.1220] [GP: 0.1940] [W-dist: -1.9903]\n",
      "[Epoch 25/200] [Batch 300/413] [D loss: 5.7058] [G loss: 0.0627] [GP: 0.5800] [W-dist: -5.7058]\n",
      "[Epoch 25/200] [Batch 350/413] [D loss: 1.7292] [G loss: -0.0183] [GP: 0.1749] [W-dist: -1.7292]\n",
      "[Epoch 25/200] [Batch 400/413] [D loss: 3.0163] [G loss: 0.1207] [GP: 0.2966] [W-dist: -3.0163]\n"
     ]
    },
    {
     "name": "stderr",
     "output_type": "stream",
     "text": [
      " 13%|█▎        | 26/200 [1:13:04<8:05:34, 167.44s/it]"
     ]
    },
    {
     "name": "stdout",
     "output_type": "stream",
     "text": [
      "[Epoch 26/200] [Batch 0/413] [D loss: 4.3004] [G loss: 0.0074] [GP: 0.4247] [W-dist: -4.3004]\n",
      "[Epoch 26/200] [Batch 50/413] [D loss: 1.4173] [G loss: 0.1360] [GP: 0.1374] [W-dist: -1.4173]\n",
      "[Epoch 26/200] [Batch 100/413] [D loss: 1.4352] [G loss: 0.0788] [GP: 0.1395] [W-dist: -1.4352]\n",
      "[Epoch 26/200] [Batch 150/413] [D loss: 1.7441] [G loss: 0.0988] [GP: 0.1688] [W-dist: -1.7441]\n",
      "[Epoch 26/200] [Batch 200/413] [D loss: 2.0608] [G loss: -0.0108] [GP: 0.2123] [W-dist: -2.0608]\n",
      "[Epoch 26/200] [Batch 250/413] [D loss: 1.3809] [G loss: 0.0743] [GP: 0.1378] [W-dist: -1.3809]\n",
      "[Epoch 26/200] [Batch 300/413] [D loss: 2.9356] [G loss: 0.0997] [GP: 0.2880] [W-dist: -2.9356]\n",
      "[Epoch 26/200] [Batch 350/413] [D loss: 2.4506] [G loss: 0.1052] [GP: 0.2395] [W-dist: -2.4506]\n",
      "[Epoch 26/200] [Batch 400/413] [D loss: 2.2904] [G loss: 0.1229] [GP: 0.2242] [W-dist: -2.2904]\n"
     ]
    },
    {
     "name": "stderr",
     "output_type": "stream",
     "text": [
      " 14%|█▎        | 27/200 [1:15:51<8:02:18, 167.27s/it]"
     ]
    },
    {
     "name": "stdout",
     "output_type": "stream",
     "text": [
      "[Epoch 27/200] [Batch 0/413] [D loss: 1.0028] [G loss: -0.0175] [GP: 0.1011] [W-dist: -1.0028]\n",
      "[Epoch 27/200] [Batch 50/413] [D loss: 1.2080] [G loss: 0.1300] [GP: 0.1176] [W-dist: -1.2080]\n",
      "[Epoch 27/200] [Batch 100/413] [D loss: 1.1437] [G loss: -0.0125] [GP: 0.1164] [W-dist: -1.1437]\n",
      "[Epoch 27/200] [Batch 150/413] [D loss: 3.7522] [G loss: 0.0665] [GP: 0.3695] [W-dist: -3.7522]\n",
      "[Epoch 27/200] [Batch 200/413] [D loss: 3.4111] [G loss: 0.0986] [GP: 0.3357] [W-dist: -3.4111]\n",
      "[Epoch 27/200] [Batch 250/413] [D loss: 3.5146] [G loss: 0.1026] [GP: 0.3471] [W-dist: -3.5146]\n",
      "[Epoch 27/200] [Batch 300/413] [D loss: 3.8186] [G loss: 0.0721] [GP: 0.3760] [W-dist: -3.8186]\n",
      "[Epoch 27/200] [Batch 350/413] [D loss: 2.1377] [G loss: -0.0196] [GP: 0.2235] [W-dist: -2.1377]\n",
      "[Epoch 27/200] [Batch 400/413] [D loss: 3.2150] [G loss: 0.0846] [GP: 0.3157] [W-dist: -3.2150]\n"
     ]
    },
    {
     "name": "stderr",
     "output_type": "stream",
     "text": [
      " 14%|█▍        | 28/200 [1:18:38<7:59:29, 167.27s/it]"
     ]
    },
    {
     "name": "stdout",
     "output_type": "stream",
     "text": [
      "[Epoch 28/200] [Batch 0/413] [D loss: 0.6379] [G loss: 0.0526] [GP: 0.0635] [W-dist: -0.6379]\n",
      "[Epoch 28/200] [Batch 50/413] [D loss: 0.9656] [G loss: 0.0808] [GP: 0.0934] [W-dist: -0.9656]\n",
      "[Epoch 28/200] [Batch 100/413] [D loss: 1.6434] [G loss: 0.1117] [GP: 0.1614] [W-dist: -1.6434]\n",
      "[Epoch 28/200] [Batch 150/413] [D loss: 4.5018] [G loss: 0.0088] [GP: 0.4448] [W-dist: -4.5018]\n",
      "[Epoch 28/200] [Batch 200/413] [D loss: 0.5975] [G loss: 0.0029] [GP: 0.0603] [W-dist: -0.5975]\n",
      "[Epoch 28/200] [Batch 250/413] [D loss: 3.1456] [G loss: 0.0901] [GP: 0.3089] [W-dist: -3.1456]\n",
      "[Epoch 28/200] [Batch 300/413] [D loss: 1.2282] [G loss: 0.0936] [GP: 0.1192] [W-dist: -1.2282]\n",
      "[Epoch 28/200] [Batch 350/413] [D loss: 2.0085] [G loss: 0.0091] [GP: 0.2044] [W-dist: -2.0085]\n",
      "[Epoch 28/200] [Batch 400/413] [D loss: 2.4813] [G loss: -0.0069] [GP: 0.2531] [W-dist: -2.4813]\n"
     ]
    },
    {
     "name": "stderr",
     "output_type": "stream",
     "text": [
      " 14%|█▍        | 29/200 [1:21:26<7:56:47, 167.30s/it]"
     ]
    },
    {
     "name": "stdout",
     "output_type": "stream",
     "text": [
      "[Epoch 29/200] [Batch 0/413] [D loss: 1.7263] [G loss: 0.1194] [GP: 0.1691] [W-dist: -1.7263]\n",
      "[Epoch 29/200] [Batch 50/413] [D loss: 1.4286] [G loss: 0.1365] [GP: 0.1397] [W-dist: -1.4286]\n",
      "[Epoch 29/200] [Batch 100/413] [D loss: 1.4926] [G loss: -0.0049] [GP: 0.1544] [W-dist: -1.4926]\n",
      "[Epoch 29/200] [Batch 150/413] [D loss: 3.2082] [G loss: 0.0938] [GP: 0.3149] [W-dist: -3.2082]\n",
      "[Epoch 29/200] [Batch 200/413] [D loss: 4.9843] [G loss: 0.0335] [GP: 0.4930] [W-dist: -4.9843]\n",
      "[Epoch 29/200] [Batch 250/413] [D loss: 3.7895] [G loss: 0.0667] [GP: 0.3727] [W-dist: -3.7895]\n",
      "[Epoch 29/200] [Batch 300/413] [D loss: 3.2320] [G loss: -0.0208] [GP: 0.3318] [W-dist: -3.2320]\n",
      "[Epoch 29/200] [Batch 350/413] [D loss: 3.7564] [G loss: 0.0883] [GP: 0.3704] [W-dist: -3.7564]\n",
      "[Epoch 29/200] [Batch 400/413] [D loss: 0.8151] [G loss: -0.0092] [GP: 0.0838] [W-dist: -0.8151]\n"
     ]
    },
    {
     "name": "stderr",
     "output_type": "stream",
     "text": [
      " 15%|█▌        | 30/200 [1:24:13<7:53:55, 167.27s/it]"
     ]
    },
    {
     "name": "stdout",
     "output_type": "stream",
     "text": [
      "[Epoch 30/200] [Batch 0/413] [D loss: 2.2787] [G loss: 0.0972] [GP: 0.2221] [W-dist: -2.2787]\n",
      "[Epoch 30/200] [Batch 50/413] [D loss: 2.9398] [G loss: -0.0209] [GP: 0.3010] [W-dist: -2.9398]\n",
      "[Epoch 30/200] [Batch 100/413] [D loss: 3.3312] [G loss: 0.1107] [GP: 0.3274] [W-dist: -3.3312]\n",
      "[Epoch 30/200] [Batch 150/413] [D loss: 3.5565] [G loss: 0.1220] [GP: 0.3505] [W-dist: -3.5565]\n",
      "[Epoch 30/200] [Batch 200/413] [D loss: 3.7731] [G loss: 0.1006] [GP: 0.3727] [W-dist: -3.7731]\n",
      "[Epoch 30/200] [Batch 250/413] [D loss: 3.2982] [G loss: -0.0184] [GP: 0.3373] [W-dist: -3.2982]\n",
      "[Epoch 30/200] [Batch 300/413] [D loss: 3.3754] [G loss: 0.0700] [GP: 0.3313] [W-dist: -3.3754]\n",
      "[Epoch 30/200] [Batch 350/413] [D loss: 3.0481] [G loss: 0.1112] [GP: 0.3017] [W-dist: -3.0481]\n",
      "[Epoch 30/200] [Batch 400/413] [D loss: 3.7758] [G loss: 0.0711] [GP: 0.3737] [W-dist: -3.7758]\n"
     ]
    },
    {
     "name": "stderr",
     "output_type": "stream",
     "text": [
      " 16%|█▌        | 31/200 [1:27:00<7:51:00, 167.22s/it]"
     ]
    },
    {
     "name": "stdout",
     "output_type": "stream",
     "text": [
      "[Epoch 31/200] [Batch 0/413] [D loss: 4.1588] [G loss: 0.0496] [GP: 0.4113] [W-dist: -4.1588]\n",
      "[Epoch 31/200] [Batch 50/413] [D loss: 3.6996] [G loss: 0.0852] [GP: 0.3651] [W-dist: -3.6996]\n",
      "[Epoch 31/200] [Batch 100/413] [D loss: 1.8501] [G loss: -0.0057] [GP: 0.1897] [W-dist: -1.8501]\n",
      "[Epoch 31/200] [Batch 150/413] [D loss: 4.7749] [G loss: 0.0335] [GP: 0.4719] [W-dist: -4.7749]\n",
      "[Epoch 31/200] [Batch 200/413] [D loss: 1.2210] [G loss: 0.1140] [GP: 0.1194] [W-dist: -1.2210]\n",
      "[Epoch 31/200] [Batch 250/413] [D loss: 0.8256] [G loss: 0.0733] [GP: 0.0811] [W-dist: -0.8256]\n",
      "[Epoch 31/200] [Batch 300/413] [D loss: 2.9893] [G loss: 0.0451] [GP: 0.2925] [W-dist: -2.9893]\n",
      "[Epoch 31/200] [Batch 350/413] [D loss: 4.4537] [G loss: 0.0906] [GP: 0.4390] [W-dist: -4.4537]\n",
      "[Epoch 31/200] [Batch 400/413] [D loss: 2.5949] [G loss: 0.0428] [GP: 0.2530] [W-dist: -2.5949]\n"
     ]
    },
    {
     "name": "stderr",
     "output_type": "stream",
     "text": [
      " 16%|█▌        | 32/200 [1:29:47<7:48:12, 167.22s/it]"
     ]
    },
    {
     "name": "stdout",
     "output_type": "stream",
     "text": [
      "[Epoch 32/200] [Batch 0/413] [D loss: 3.7236] [G loss: 0.0362] [GP: 0.3659] [W-dist: -3.7236]\n",
      "[Epoch 32/200] [Batch 50/413] [D loss: 2.9446] [G loss: -0.0146] [GP: 0.3004] [W-dist: -2.9446]\n",
      "[Epoch 32/200] [Batch 100/413] [D loss: 4.7990] [G loss: 0.0464] [GP: 0.4737] [W-dist: -4.7990]\n",
      "[Epoch 32/200] [Batch 150/413] [D loss: 3.1545] [G loss: -0.0209] [GP: 0.3224] [W-dist: -3.1545]\n",
      "[Epoch 32/200] [Batch 200/413] [D loss: 5.4542] [G loss: 0.0348] [GP: 0.5396] [W-dist: -5.4542]\n",
      "[Epoch 32/200] [Batch 250/413] [D loss: 3.6768] [G loss: 0.1018] [GP: 0.3624] [W-dist: -3.6768]\n",
      "[Epoch 32/200] [Batch 300/413] [D loss: 1.5984] [G loss: -0.0004] [GP: 0.1621] [W-dist: -1.5984]\n",
      "[Epoch 32/200] [Batch 350/413] [D loss: 3.8473] [G loss: 0.1003] [GP: 0.3795] [W-dist: -3.8473]\n",
      "[Epoch 32/200] [Batch 400/413] [D loss: 0.7175] [G loss: 0.0351] [GP: 0.0704] [W-dist: -0.7175]\n"
     ]
    },
    {
     "name": "stderr",
     "output_type": "stream",
     "text": [
      " 16%|█▋        | 33/200 [1:32:34<7:45:28, 167.24s/it]"
     ]
    },
    {
     "name": "stdout",
     "output_type": "stream",
     "text": [
      "[Epoch 33/200] [Batch 0/413] [D loss: 0.5792] [G loss: 0.0307] [GP: 0.0546] [W-dist: -0.5792]\n",
      "[Epoch 33/200] [Batch 50/413] [D loss: 2.9050] [G loss: 0.0871] [GP: 0.2848] [W-dist: -2.9050]\n",
      "[Epoch 33/200] [Batch 100/413] [D loss: 3.4113] [G loss: 0.1312] [GP: 0.3353] [W-dist: -3.4113]\n",
      "[Epoch 33/200] [Batch 150/413] [D loss: 3.5270] [G loss: 0.0725] [GP: 0.3477] [W-dist: -3.5270]\n",
      "[Epoch 33/200] [Batch 200/413] [D loss: 2.8960] [G loss: -0.0116] [GP: 0.2944] [W-dist: -2.8960]\n",
      "[Epoch 33/200] [Batch 250/413] [D loss: 1.9247] [G loss: 0.0812] [GP: 0.1905] [W-dist: -1.9247]\n",
      "[Epoch 33/200] [Batch 300/413] [D loss: 3.8361] [G loss: 0.0696] [GP: 0.3786] [W-dist: -3.8361]\n",
      "[Epoch 33/200] [Batch 350/413] [D loss: 2.1302] [G loss: 0.1094] [GP: 0.2107] [W-dist: -2.1302]\n",
      "[Epoch 33/200] [Batch 400/413] [D loss: 2.7773] [G loss: 0.1207] [GP: 0.2749] [W-dist: -2.7773]\n"
     ]
    },
    {
     "name": "stderr",
     "output_type": "stream",
     "text": [
      " 17%|█▋        | 34/200 [1:35:21<7:42:28, 167.16s/it]"
     ]
    },
    {
     "name": "stdout",
     "output_type": "stream",
     "text": [
      "[Epoch 34/200] [Batch 0/413] [D loss: 3.4317] [G loss: 0.1168] [GP: 0.3388] [W-dist: -3.4317]\n",
      "[Epoch 34/200] [Batch 50/413] [D loss: 5.2086] [G loss: 0.0251] [GP: 0.5313] [W-dist: -5.2086]\n",
      "[Epoch 34/200] [Batch 100/413] [D loss: 1.2825] [G loss: -0.0042] [GP: 0.1326] [W-dist: -1.2825]\n",
      "[Epoch 34/200] [Batch 150/413] [D loss: 3.8289] [G loss: 0.0793] [GP: 0.3768] [W-dist: -3.8289]\n",
      "[Epoch 34/200] [Batch 200/413] [D loss: 2.0462] [G loss: 0.0123] [GP: 0.2071] [W-dist: -2.0462]\n",
      "[Epoch 34/200] [Batch 250/413] [D loss: 2.7047] [G loss: -0.0153] [GP: 0.2765] [W-dist: -2.7047]\n",
      "[Epoch 34/200] [Batch 300/413] [D loss: 2.4689] [G loss: -0.0026] [GP: 0.2520] [W-dist: -2.4689]\n",
      "[Epoch 34/200] [Batch 350/413] [D loss: 2.1724] [G loss: 0.1035] [GP: 0.2162] [W-dist: -2.1724]\n",
      "[Epoch 34/200] [Batch 400/413] [D loss: 1.0632] [G loss: 0.0147] [GP: 0.1069] [W-dist: -1.0632]\n"
     ]
    },
    {
     "name": "stderr",
     "output_type": "stream",
     "text": [
      " 18%|█▊        | 35/200 [1:38:09<7:39:39, 167.15s/it]"
     ]
    },
    {
     "name": "stdout",
     "output_type": "stream",
     "text": [
      "[Epoch 35/200] [Batch 0/413] [D loss: 3.2817] [G loss: 0.0718] [GP: 0.3235] [W-dist: -3.2817]\n",
      "[Epoch 35/200] [Batch 50/413] [D loss: 3.3813] [G loss: -0.0309] [GP: 0.3454] [W-dist: -3.3813]\n",
      "[Epoch 35/200] [Batch 100/413] [D loss: 2.8510] [G loss: 0.1353] [GP: 0.2814] [W-dist: -2.8510]\n",
      "[Epoch 35/200] [Batch 150/413] [D loss: 0.9359] [G loss: 0.0482] [GP: 0.0951] [W-dist: -0.9359]\n",
      "[Epoch 35/200] [Batch 200/413] [D loss: 2.5624] [G loss: 0.1204] [GP: 0.2531] [W-dist: -2.5624]\n",
      "[Epoch 35/200] [Batch 250/413] [D loss: 4.5787] [G loss: -0.0097] [GP: 0.4683] [W-dist: -4.5787]\n",
      "[Epoch 35/200] [Batch 300/413] [D loss: 1.2593] [G loss: 0.0753] [GP: 0.1234] [W-dist: -1.2593]\n",
      "[Epoch 35/200] [Batch 350/413] [D loss: 1.7335] [G loss: -0.0054] [GP: 0.1785] [W-dist: -1.7335]\n",
      "[Epoch 35/200] [Batch 400/413] [D loss: 4.9027] [G loss: 0.0509] [GP: 0.4852] [W-dist: -4.9027]\n"
     ]
    },
    {
     "name": "stderr",
     "output_type": "stream",
     "text": [
      " 18%|█▊        | 36/200 [1:40:56<7:36:56, 167.17s/it]"
     ]
    },
    {
     "name": "stdout",
     "output_type": "stream",
     "text": [
      "[Epoch 36/200] [Batch 0/413] [D loss: 4.1275] [G loss: -0.0123] [GP: 0.4219] [W-dist: -4.1275]\n",
      "[Epoch 36/200] [Batch 50/413] [D loss: 4.0155] [G loss: 0.0725] [GP: 0.3960] [W-dist: -4.0155]\n",
      "[Epoch 36/200] [Batch 100/413] [D loss: 1.9258] [G loss: -0.0152] [GP: 0.1979] [W-dist: -1.9258]\n",
      "[Epoch 36/200] [Batch 150/413] [D loss: 3.6148] [G loss: -0.0146] [GP: 0.3699] [W-dist: -3.6148]\n",
      "[Epoch 36/200] [Batch 200/413] [D loss: 4.9130] [G loss: 0.0039] [GP: 0.5004] [W-dist: -4.9130]\n",
      "[Epoch 36/200] [Batch 250/413] [D loss: 5.3784] [G loss: 0.0040] [GP: 0.5323] [W-dist: -5.3784]\n",
      "[Epoch 36/200] [Batch 300/413] [D loss: 4.2971] [G loss: 0.0596] [GP: 0.4249] [W-dist: -4.2971]\n",
      "[Epoch 36/200] [Batch 350/413] [D loss: 3.4384] [G loss: 0.0495] [GP: 0.3366] [W-dist: -3.4384]\n",
      "[Epoch 36/200] [Batch 400/413] [D loss: 2.5958] [G loss: 0.1156] [GP: 0.2558] [W-dist: -2.5958]\n"
     ]
    },
    {
     "name": "stderr",
     "output_type": "stream",
     "text": [
      " 18%|█▊        | 37/200 [1:43:43<7:34:13, 167.20s/it]"
     ]
    },
    {
     "name": "stdout",
     "output_type": "stream",
     "text": [
      "[Epoch 37/200] [Batch 0/413] [D loss: 2.4362] [G loss: 0.1044] [GP: 0.2404] [W-dist: -2.4362]\n",
      "[Epoch 37/200] [Batch 50/413] [D loss: 2.9865] [G loss: 0.1154] [GP: 0.2954] [W-dist: -2.9865]\n",
      "[Epoch 37/200] [Batch 100/413] [D loss: 5.6222] [G loss: 0.0201] [GP: 0.5574] [W-dist: -5.6222]\n",
      "[Epoch 37/200] [Batch 150/413] [D loss: 2.0170] [G loss: 0.1216] [GP: 0.1999] [W-dist: -2.0170]\n",
      "[Epoch 37/200] [Batch 200/413] [D loss: 6.8812] [G loss: -0.0072] [GP: 0.6834] [W-dist: -6.8812]\n",
      "[Epoch 37/200] [Batch 250/413] [D loss: 3.0612] [G loss: -0.0188] [GP: 0.3159] [W-dist: -3.0612]\n",
      "[Epoch 37/200] [Batch 300/413] [D loss: 0.7373] [G loss: 0.1282] [GP: 0.0730] [W-dist: -0.7373]\n",
      "[Epoch 37/200] [Batch 350/413] [D loss: 4.2725] [G loss: 0.0046] [GP: 0.4380] [W-dist: -4.2725]\n",
      "[Epoch 37/200] [Batch 400/413] [D loss: 0.8670] [G loss: -0.0061] [GP: 0.0894] [W-dist: -0.8670]\n"
     ]
    },
    {
     "name": "stderr",
     "output_type": "stream",
     "text": [
      " 19%|█▉        | 38/200 [1:46:30<7:31:22, 167.18s/it]"
     ]
    },
    {
     "name": "stdout",
     "output_type": "stream",
     "text": [
      "[Epoch 38/200] [Batch 0/413] [D loss: 3.0782] [G loss: -0.0248] [GP: 0.3160] [W-dist: -3.0782]\n",
      "[Epoch 38/200] [Batch 50/413] [D loss: 0.5775] [G loss: 0.0501] [GP: 0.0563] [W-dist: -0.5775]\n",
      "[Epoch 38/200] [Batch 100/413] [D loss: 2.7093] [G loss: 0.1041] [GP: 0.2654] [W-dist: -2.7093]\n",
      "[Epoch 38/200] [Batch 150/413] [D loss: 6.0153] [G loss: -0.0035] [GP: 0.5966] [W-dist: -6.0153]\n",
      "[Epoch 38/200] [Batch 200/413] [D loss: 3.9282] [G loss: -0.0111] [GP: 0.4013] [W-dist: -3.9282]\n",
      "[Epoch 38/200] [Batch 250/413] [D loss: 1.6628] [G loss: -0.0210] [GP: 0.1715] [W-dist: -1.6628]\n",
      "[Epoch 38/200] [Batch 300/413] [D loss: 4.2949] [G loss: 0.0229] [GP: 0.4244] [W-dist: -4.2949]\n",
      "[Epoch 38/200] [Batch 350/413] [D loss: 4.8704] [G loss: -0.0241] [GP: 0.4965] [W-dist: -4.8704]\n",
      "[Epoch 38/200] [Batch 400/413] [D loss: 0.7823] [G loss: 0.0636] [GP: 0.0747] [W-dist: -0.7823]\n"
     ]
    },
    {
     "name": "stderr",
     "output_type": "stream",
     "text": [
      " 20%|█▉        | 39/200 [1:49:17<7:28:36, 167.18s/it]"
     ]
    },
    {
     "name": "stdout",
     "output_type": "stream",
     "text": [
      "[Epoch 39/200] [Batch 0/413] [D loss: 2.6669] [G loss: 0.0985] [GP: 0.2607] [W-dist: -2.6669]\n",
      "[Epoch 39/200] [Batch 50/413] [D loss: 2.2047] [G loss: 0.0891] [GP: 0.2141] [W-dist: -2.2047]\n",
      "[Epoch 39/200] [Batch 100/413] [D loss: 3.6287] [G loss: 0.0858] [GP: 0.3574] [W-dist: -3.6287]\n",
      "[Epoch 39/200] [Batch 150/413] [D loss: 1.9337] [G loss: 0.1109] [GP: 0.1904] [W-dist: -1.9337]\n",
      "[Epoch 39/200] [Batch 200/413] [D loss: 1.3639] [G loss: 0.0699] [GP: 0.1315] [W-dist: -1.3639]\n",
      "[Epoch 39/200] [Batch 250/413] [D loss: 3.9367] [G loss: 0.0752] [GP: 0.3878] [W-dist: -3.9367]\n",
      "[Epoch 39/200] [Batch 300/413] [D loss: 2.1898] [G loss: 0.0974] [GP: 0.2134] [W-dist: -2.1898]\n",
      "[Epoch 39/200] [Batch 350/413] [D loss: 3.6568] [G loss: 0.0844] [GP: 0.3609] [W-dist: -3.6568]\n",
      "[Epoch 39/200] [Batch 400/413] [D loss: 1.6865] [G loss: -0.0162] [GP: 0.1737] [W-dist: -1.6865]\n"
     ]
    },
    {
     "name": "stderr",
     "output_type": "stream",
     "text": [
      " 20%|██        | 40/200 [1:52:05<7:25:46, 167.17s/it]"
     ]
    },
    {
     "name": "stdout",
     "output_type": "stream",
     "text": [
      "[Epoch 40/200] [Batch 0/413] [D loss: 5.4313] [G loss: -0.0009] [GP: 0.5373] [W-dist: -5.4313]\n",
      "[Epoch 40/200] [Batch 50/413] [D loss: 4.6277] [G loss: 0.0725] [GP: 0.4565] [W-dist: -4.6277]\n",
      "[Epoch 40/200] [Batch 100/413] [D loss: 4.7330] [G loss: 0.0213] [GP: 0.4679] [W-dist: -4.7330]\n",
      "[Epoch 40/200] [Batch 150/413] [D loss: 3.0293] [G loss: -0.0191] [GP: 0.3095] [W-dist: -3.0293]\n",
      "[Epoch 40/200] [Batch 200/413] [D loss: 2.2846] [G loss: -0.0197] [GP: 0.2344] [W-dist: -2.2846]\n",
      "[Epoch 40/200] [Batch 250/413] [D loss: 3.1486] [G loss: 0.0872] [GP: 0.3104] [W-dist: -3.1486]\n",
      "[Epoch 40/200] [Batch 300/413] [D loss: 1.4605] [G loss: 0.0724] [GP: 0.1443] [W-dist: -1.4605]\n",
      "[Epoch 40/200] [Batch 350/413] [D loss: 3.3669] [G loss: -0.0239] [GP: 0.3428] [W-dist: -3.3669]\n",
      "[Epoch 40/200] [Batch 400/413] [D loss: 3.4529] [G loss: 0.1293] [GP: 0.3407] [W-dist: -3.4529]\n"
     ]
    },
    {
     "name": "stderr",
     "output_type": "stream",
     "text": [
      " 20%|██        | 41/200 [1:54:52<7:23:00, 167.17s/it]"
     ]
    },
    {
     "name": "stdout",
     "output_type": "stream",
     "text": [
      "[Epoch 41/200] [Batch 0/413] [D loss: 1.7212] [G loss: -0.0036] [GP: 0.1739] [W-dist: -1.7212]\n",
      "[Epoch 41/200] [Batch 50/413] [D loss: 2.0245] [G loss: 0.1123] [GP: 0.1997] [W-dist: -2.0245]\n",
      "[Epoch 41/200] [Batch 100/413] [D loss: 3.4241] [G loss: 0.1202] [GP: 0.3376] [W-dist: -3.4241]\n",
      "[Epoch 41/200] [Batch 150/413] [D loss: 1.1035] [G loss: 0.0088] [GP: 0.1106] [W-dist: -1.1035]\n",
      "[Epoch 41/200] [Batch 200/413] [D loss: 4.2917] [G loss: 0.0169] [GP: 0.4228] [W-dist: -4.2917]\n",
      "[Epoch 41/200] [Batch 250/413] [D loss: 2.4446] [G loss: -0.0185] [GP: 0.2518] [W-dist: -2.4446]\n",
      "[Epoch 41/200] [Batch 300/413] [D loss: 4.7593] [G loss: 0.0771] [GP: 0.4698] [W-dist: -4.7593]\n",
      "[Epoch 41/200] [Batch 350/413] [D loss: 1.3428] [G loss: 0.0019] [GP: 0.1341] [W-dist: -1.3428]\n",
      "[Epoch 41/200] [Batch 400/413] [D loss: 5.6159] [G loss: 0.0044] [GP: 0.5552] [W-dist: -5.6159]\n"
     ]
    },
    {
     "name": "stderr",
     "output_type": "stream",
     "text": [
      " 21%|██        | 42/200 [1:57:39<7:20:22, 167.23s/it]"
     ]
    },
    {
     "name": "stdout",
     "output_type": "stream",
     "text": [
      "[Epoch 42/200] [Batch 0/413] [D loss: 1.6710] [G loss: -0.0160] [GP: 0.1730] [W-dist: -1.6710]\n",
      "[Epoch 42/200] [Batch 50/413] [D loss: 0.8451] [G loss: -0.0108] [GP: 0.0865] [W-dist: -0.8451]\n",
      "[Epoch 42/200] [Batch 100/413] [D loss: 1.9549] [G loss: -0.0135] [GP: 0.2002] [W-dist: -1.9549]\n",
      "[Epoch 42/200] [Batch 150/413] [D loss: 4.4350] [G loss: -0.0060] [GP: 0.4533] [W-dist: -4.4350]\n",
      "[Epoch 42/200] [Batch 200/413] [D loss: 0.9567] [G loss: 0.0326] [GP: 0.0975] [W-dist: -0.9567]\n",
      "[Epoch 42/200] [Batch 250/413] [D loss: 1.6399] [G loss: -0.0101] [GP: 0.1648] [W-dist: -1.6399]\n",
      "[Epoch 42/200] [Batch 300/413] [D loss: 2.7687] [G loss: 0.1178] [GP: 0.2717] [W-dist: -2.7687]\n",
      "[Epoch 42/200] [Batch 350/413] [D loss: 4.1877] [G loss: 0.0354] [GP: 0.4116] [W-dist: -4.1877]\n",
      "[Epoch 42/200] [Batch 400/413] [D loss: 1.3361] [G loss: 0.0728] [GP: 0.1307] [W-dist: -1.3361]\n"
     ]
    },
    {
     "name": "stderr",
     "output_type": "stream",
     "text": [
      " 22%|██▏       | 43/200 [2:00:26<7:17:21, 167.15s/it]"
     ]
    },
    {
     "name": "stdout",
     "output_type": "stream",
     "text": [
      "[Epoch 43/200] [Batch 0/413] [D loss: 2.3226] [G loss: 0.0820] [GP: 0.2260] [W-dist: -2.3226]\n",
      "[Epoch 43/200] [Batch 50/413] [D loss: 1.1975] [G loss: 0.0240] [GP: 0.1181] [W-dist: -1.1975]\n",
      "[Epoch 43/200] [Batch 100/413] [D loss: 5.4266] [G loss: -0.0125] [GP: 0.5506] [W-dist: -5.4266]\n",
      "[Epoch 43/200] [Batch 150/413] [D loss: 1.5202] [G loss: -0.0169] [GP: 0.1557] [W-dist: -1.5202]\n",
      "[Epoch 43/200] [Batch 200/413] [D loss: 2.7890] [G loss: 0.1104] [GP: 0.2730] [W-dist: -2.7890]\n",
      "[Epoch 43/200] [Batch 250/413] [D loss: 4.1829] [G loss: 0.0269] [GP: 0.4121] [W-dist: -4.1829]\n",
      "[Epoch 43/200] [Batch 300/413] [D loss: 1.3186] [G loss: 0.0589] [GP: 0.1284] [W-dist: -1.3186]\n",
      "[Epoch 43/200] [Batch 350/413] [D loss: 3.2365] [G loss: 0.1049] [GP: 0.3186] [W-dist: -3.2365]\n",
      "[Epoch 43/200] [Batch 400/413] [D loss: 4.0339] [G loss: 0.0569] [GP: 0.3977] [W-dist: -4.0339]\n"
     ]
    },
    {
     "name": "stderr",
     "output_type": "stream",
     "text": [
      " 22%|██▏       | 44/200 [2:03:13<7:14:35, 167.15s/it]"
     ]
    },
    {
     "name": "stdout",
     "output_type": "stream",
     "text": [
      "[Epoch 44/200] [Batch 0/413] [D loss: 5.2726] [G loss: 0.0177] [GP: 0.5215] [W-dist: -5.2726]\n",
      "[Epoch 44/200] [Batch 50/413] [D loss: 3.0184] [G loss: 0.0708] [GP: 0.2968] [W-dist: -3.0184]\n",
      "[Epoch 44/200] [Batch 100/413] [D loss: 1.3706] [G loss: 0.0656] [GP: 0.1324] [W-dist: -1.3706]\n",
      "[Epoch 44/200] [Batch 150/413] [D loss: 3.9926] [G loss: -0.0207] [GP: 0.4085] [W-dist: -3.9926]\n",
      "[Epoch 44/200] [Batch 200/413] [D loss: 0.7978] [G loss: 0.0787] [GP: 0.0786] [W-dist: -0.7978]\n",
      "[Epoch 44/200] [Batch 250/413] [D loss: 1.1899] [G loss: 0.0673] [GP: 0.1180] [W-dist: -1.1899]\n",
      "[Epoch 44/200] [Batch 300/413] [D loss: 0.8569] [G loss: -0.0091] [GP: 0.0866] [W-dist: -0.8569]\n",
      "[Epoch 44/200] [Batch 350/413] [D loss: 2.6636] [G loss: 0.1132] [GP: 0.2630] [W-dist: -2.6636]\n",
      "[Epoch 44/200] [Batch 400/413] [D loss: 0.7879] [G loss: -0.0116] [GP: 0.0803] [W-dist: -0.7879]\n"
     ]
    },
    {
     "name": "stderr",
     "output_type": "stream",
     "text": [
      " 22%|██▎       | 45/200 [2:06:00<7:11:45, 167.13s/it]"
     ]
    },
    {
     "name": "stdout",
     "output_type": "stream",
     "text": [
      "[Epoch 45/200] [Batch 0/413] [D loss: 3.9120] [G loss: 0.0527] [GP: 0.3845] [W-dist: -3.9120]\n",
      "[Epoch 45/200] [Batch 50/413] [D loss: 2.7486] [G loss: -0.0159] [GP: 0.2840] [W-dist: -2.7486]\n",
      "[Epoch 45/200] [Batch 100/413] [D loss: 1.2439] [G loss: 0.0232] [GP: 0.1264] [W-dist: -1.2439]\n",
      "[Epoch 45/200] [Batch 150/413] [D loss: 2.1097] [G loss: 0.1138] [GP: 0.2072] [W-dist: -2.1097]\n",
      "[Epoch 45/200] [Batch 200/413] [D loss: 4.5372] [G loss: 0.0552] [GP: 0.4482] [W-dist: -4.5372]\n",
      "[Epoch 45/200] [Batch 250/413] [D loss: 0.8349] [G loss: 0.0990] [GP: 0.0817] [W-dist: -0.8349]\n",
      "[Epoch 45/200] [Batch 300/413] [D loss: 4.5740] [G loss: 0.0037] [GP: 0.4506] [W-dist: -4.5740]\n",
      "[Epoch 45/200] [Batch 350/413] [D loss: 1.8547] [G loss: 0.0767] [GP: 0.1851] [W-dist: -1.8547]\n",
      "[Epoch 45/200] [Batch 400/413] [D loss: 3.0682] [G loss: 0.0965] [GP: 0.3022] [W-dist: -3.0682]\n"
     ]
    },
    {
     "name": "stderr",
     "output_type": "stream",
     "text": [
      " 23%|██▎       | 46/200 [2:08:47<7:08:59, 167.14s/it]"
     ]
    },
    {
     "name": "stdout",
     "output_type": "stream",
     "text": [
      "[Epoch 46/200] [Batch 0/413] [D loss: 1.2206] [G loss: 0.0192] [GP: 0.1222] [W-dist: -1.2206]\n",
      "[Epoch 46/200] [Batch 50/413] [D loss: 4.2999] [G loss: 0.0418] [GP: 0.4249] [W-dist: -4.2999]\n",
      "[Epoch 46/200] [Batch 100/413] [D loss: 1.7409] [G loss: 0.0935] [GP: 0.1732] [W-dist: -1.7409]\n",
      "[Epoch 46/200] [Batch 150/413] [D loss: 4.1686] [G loss: 0.0406] [GP: 0.4111] [W-dist: -4.1686]\n",
      "[Epoch 46/200] [Batch 200/413] [D loss: 4.1282] [G loss: -0.0213] [GP: 0.4213] [W-dist: -4.1282]\n",
      "[Epoch 46/200] [Batch 250/413] [D loss: 1.1372] [G loss: -0.0085] [GP: 0.1147] [W-dist: -1.1372]\n",
      "[Epoch 46/200] [Batch 300/413] [D loss: 3.9228] [G loss: 0.0675] [GP: 0.3859] [W-dist: -3.9228]\n",
      "[Epoch 46/200] [Batch 350/413] [D loss: 2.1741] [G loss: 0.0958] [GP: 0.2140] [W-dist: -2.1741]\n",
      "[Epoch 46/200] [Batch 400/413] [D loss: 4.3616] [G loss: 0.0439] [GP: 0.4293] [W-dist: -4.3616]\n"
     ]
    },
    {
     "name": "stderr",
     "output_type": "stream",
     "text": [
      " 24%|██▎       | 47/200 [2:11:35<7:06:17, 167.18s/it]"
     ]
    },
    {
     "name": "stdout",
     "output_type": "stream",
     "text": [
      "[Epoch 47/200] [Batch 0/413] [D loss: 0.8546] [G loss: 0.0061] [GP: 0.0832] [W-dist: -0.8546]\n",
      "[Epoch 47/200] [Batch 50/413] [D loss: 1.3799] [G loss: 0.0837] [GP: 0.1332] [W-dist: -1.3799]\n",
      "[Epoch 47/200] [Batch 100/413] [D loss: 1.3164] [G loss: 0.0847] [GP: 0.1271] [W-dist: -1.3164]\n",
      "[Epoch 47/200] [Batch 150/413] [D loss: 1.7344] [G loss: 0.1214] [GP: 0.1685] [W-dist: -1.7344]\n",
      "[Epoch 47/200] [Batch 200/413] [D loss: 3.8455] [G loss: 0.0659] [GP: 0.3783] [W-dist: -3.8455]\n",
      "[Epoch 47/200] [Batch 250/413] [D loss: 0.7172] [G loss: 0.0364] [GP: 0.0717] [W-dist: -0.7172]\n",
      "[Epoch 47/200] [Batch 300/413] [D loss: 3.0644] [G loss: 0.1017] [GP: 0.3012] [W-dist: -3.0644]\n",
      "[Epoch 47/200] [Batch 350/413] [D loss: 3.2588] [G loss: 0.0677] [GP: 0.3199] [W-dist: -3.2588]\n",
      "[Epoch 47/200] [Batch 400/413] [D loss: 4.2407] [G loss: 0.0446] [GP: 0.4182] [W-dist: -4.2407]\n"
     ]
    },
    {
     "name": "stderr",
     "output_type": "stream",
     "text": [
      " 24%|██▍       | 48/200 [2:14:22<7:03:34, 167.20s/it]"
     ]
    },
    {
     "name": "stdout",
     "output_type": "stream",
     "text": [
      "[Epoch 48/200] [Batch 0/413] [D loss: 1.1227] [G loss: 0.0176] [GP: 0.1116] [W-dist: -1.1227]\n",
      "[Epoch 48/200] [Batch 50/413] [D loss: 4.2252] [G loss: 0.0848] [GP: 0.4160] [W-dist: -4.2252]\n",
      "[Epoch 48/200] [Batch 100/413] [D loss: 3.5232] [G loss: 0.1061] [GP: 0.3470] [W-dist: -3.5232]\n",
      "[Epoch 48/200] [Batch 150/413] [D loss: 2.5998] [G loss: 0.0991] [GP: 0.2547] [W-dist: -2.5998]\n",
      "[Epoch 48/200] [Batch 200/413] [D loss: 2.4108] [G loss: 0.0975] [GP: 0.2373] [W-dist: -2.4108]\n",
      "[Epoch 48/200] [Batch 250/413] [D loss: 3.7007] [G loss: 0.0602] [GP: 0.3642] [W-dist: -3.7007]\n",
      "[Epoch 48/200] [Batch 300/413] [D loss: 1.2530] [G loss: 0.0691] [GP: 0.1228] [W-dist: -1.2530]\n",
      "[Epoch 48/200] [Batch 350/413] [D loss: 2.1819] [G loss: 0.0620] [GP: 0.2132] [W-dist: -2.1819]\n",
      "[Epoch 48/200] [Batch 400/413] [D loss: 0.5755] [G loss: 0.0544] [GP: 0.0573] [W-dist: -0.5755]\n"
     ]
    },
    {
     "name": "stderr",
     "output_type": "stream",
     "text": [
      " 24%|██▍       | 49/200 [2:17:09<7:00:46, 167.19s/it]"
     ]
    },
    {
     "name": "stdout",
     "output_type": "stream",
     "text": [
      "[Epoch 49/200] [Batch 0/413] [D loss: 2.2591] [G loss: 0.1267] [GP: 0.2224] [W-dist: -2.2591]\n",
      "[Epoch 49/200] [Batch 50/413] [D loss: 2.8542] [G loss: -0.0114] [GP: 0.2949] [W-dist: -2.8542]\n",
      "[Epoch 49/200] [Batch 100/413] [D loss: 3.5923] [G loss: 0.1020] [GP: 0.3545] [W-dist: -3.5923]\n",
      "[Epoch 49/200] [Batch 150/413] [D loss: 3.1399] [G loss: 0.1092] [GP: 0.3087] [W-dist: -3.1399]\n",
      "[Epoch 49/200] [Batch 200/413] [D loss: 3.3049] [G loss: 0.0576] [GP: 0.3252] [W-dist: -3.3049]\n",
      "[Epoch 49/200] [Batch 250/413] [D loss: 1.6116] [G loss: 0.0604] [GP: 0.1554] [W-dist: -1.6116]\n",
      "[Epoch 49/200] [Batch 300/413] [D loss: 2.3021] [G loss: 0.0958] [GP: 0.2238] [W-dist: -2.3021]\n",
      "[Epoch 49/200] [Batch 350/413] [D loss: 2.0629] [G loss: 0.1336] [GP: 0.2016] [W-dist: -2.0629]\n",
      "[Epoch 49/200] [Batch 400/413] [D loss: 2.6762] [G loss: 0.1024] [GP: 0.2630] [W-dist: -2.6762]\n"
     ]
    },
    {
     "name": "stderr",
     "output_type": "stream",
     "text": [
      " 25%|██▌       | 50/200 [2:19:56<6:57:58, 167.19s/it]"
     ]
    },
    {
     "name": "stdout",
     "output_type": "stream",
     "text": [
      "[Epoch 50/200] [Batch 0/413] [D loss: 3.3042] [G loss: 0.0765] [GP: 0.3251] [W-dist: -3.3042]\n",
      "[Epoch 50/200] [Batch 50/413] [D loss: 1.4052] [G loss: 0.1158] [GP: 0.1381] [W-dist: -1.4052]\n",
      "[Epoch 50/200] [Batch 100/413] [D loss: 3.4098] [G loss: 0.0999] [GP: 0.3368] [W-dist: -3.4098]\n",
      "[Epoch 50/200] [Batch 150/413] [D loss: 2.1037] [G loss: -0.0189] [GP: 0.2140] [W-dist: -2.1037]\n",
      "[Epoch 50/200] [Batch 200/413] [D loss: 3.0881] [G loss: 0.0547] [GP: 0.3026] [W-dist: -3.0881]\n",
      "[Epoch 50/200] [Batch 250/413] [D loss: 3.0767] [G loss: 0.0683] [GP: 0.3022] [W-dist: -3.0767]\n",
      "[Epoch 50/200] [Batch 300/413] [D loss: 3.3003] [G loss: 0.0473] [GP: 0.3237] [W-dist: -3.3003]\n",
      "[Epoch 50/200] [Batch 350/413] [D loss: 0.5744] [G loss: 0.0231] [GP: 0.0554] [W-dist: -0.5744]\n",
      "[Epoch 50/200] [Batch 400/413] [D loss: 1.3787] [G loss: 0.0591] [GP: 0.1333] [W-dist: -1.3787]\n"
     ]
    },
    {
     "name": "stderr",
     "output_type": "stream",
     "text": [
      " 26%|██▌       | 51/200 [2:22:44<6:55:19, 167.25s/it]"
     ]
    },
    {
     "name": "stdout",
     "output_type": "stream",
     "text": [
      "[Epoch 51/200] [Batch 0/413] [D loss: 3.9503] [G loss: 0.0489] [GP: 0.3905] [W-dist: -3.9503]\n",
      "[Epoch 51/200] [Batch 50/413] [D loss: 3.3793] [G loss: 0.0811] [GP: 0.3338] [W-dist: -3.3793]\n",
      "[Epoch 51/200] [Batch 100/413] [D loss: 2.1595] [G loss: 0.1040] [GP: 0.2101] [W-dist: -2.1595]\n",
      "[Epoch 51/200] [Batch 150/413] [D loss: 2.1478] [G loss: 0.0865] [GP: 0.2102] [W-dist: -2.1478]\n",
      "[Epoch 51/200] [Batch 200/413] [D loss: 1.0340] [G loss: -0.0090] [GP: 0.1068] [W-dist: -1.0340]\n",
      "[Epoch 51/200] [Batch 250/413] [D loss: 1.4851] [G loss: -0.0085] [GP: 0.1508] [W-dist: -1.4851]\n",
      "[Epoch 51/200] [Batch 300/413] [D loss: 1.1159] [G loss: -0.0202] [GP: 0.1151] [W-dist: -1.1159]\n",
      "[Epoch 51/200] [Batch 350/413] [D loss: 4.5195] [G loss: 0.0601] [GP: 0.4454] [W-dist: -4.5195]\n",
      "[Epoch 51/200] [Batch 400/413] [D loss: 4.2012] [G loss: 0.1044] [GP: 0.4147] [W-dist: -4.2012]\n"
     ]
    },
    {
     "name": "stderr",
     "output_type": "stream",
     "text": [
      " 26%|██▌       | 52/200 [2:25:31<6:52:32, 167.25s/it]"
     ]
    },
    {
     "name": "stdout",
     "output_type": "stream",
     "text": [
      "[Epoch 52/200] [Batch 0/413] [D loss: 3.0761] [G loss: 0.0595] [GP: 0.3024] [W-dist: -3.0761]\n",
      "[Epoch 52/200] [Batch 50/413] [D loss: 2.0859] [G loss: 0.0761] [GP: 0.2050] [W-dist: -2.0859]\n",
      "[Epoch 52/200] [Batch 100/413] [D loss: 3.7051] [G loss: 0.0759] [GP: 0.3651] [W-dist: -3.7051]\n",
      "[Epoch 52/200] [Batch 150/413] [D loss: 2.4175] [G loss: 0.0689] [GP: 0.2367] [W-dist: -2.4175]\n",
      "[Epoch 52/200] [Batch 200/413] [D loss: 0.7140] [G loss: 0.0139] [GP: 0.0737] [W-dist: -0.7140]\n",
      "[Epoch 52/200] [Batch 250/413] [D loss: 2.6664] [G loss: 0.1014] [GP: 0.2623] [W-dist: -2.6664]\n",
      "[Epoch 52/200] [Batch 300/413] [D loss: 2.7879] [G loss: 0.0993] [GP: 0.2737] [W-dist: -2.7879]\n",
      "[Epoch 52/200] [Batch 350/413] [D loss: 3.6474] [G loss: 0.0519] [GP: 0.3590] [W-dist: -3.6474]\n",
      "[Epoch 52/200] [Batch 400/413] [D loss: 1.7404] [G loss: -0.0162] [GP: 0.1768] [W-dist: -1.7404]\n"
     ]
    },
    {
     "name": "stderr",
     "output_type": "stream",
     "text": [
      " 26%|██▋       | 53/200 [2:28:18<6:49:52, 167.29s/it]"
     ]
    },
    {
     "name": "stdout",
     "output_type": "stream",
     "text": [
      "[Epoch 53/200] [Batch 0/413] [D loss: 3.7939] [G loss: 0.0572] [GP: 0.3730] [W-dist: -3.7939]\n",
      "[Epoch 53/200] [Batch 50/413] [D loss: 3.3445] [G loss: 0.1069] [GP: 0.3285] [W-dist: -3.3445]\n",
      "[Epoch 53/200] [Batch 100/413] [D loss: 3.0408] [G loss: 0.0630] [GP: 0.2987] [W-dist: -3.0408]\n",
      "[Epoch 53/200] [Batch 150/413] [D loss: 5.3325] [G loss: 0.0098] [GP: 0.5433] [W-dist: -5.3325]\n",
      "[Epoch 53/200] [Batch 200/413] [D loss: 3.3648] [G loss: 0.1116] [GP: 0.3318] [W-dist: -3.3648]\n",
      "[Epoch 53/200] [Batch 250/413] [D loss: 3.5793] [G loss: 0.0788] [GP: 0.3530] [W-dist: -3.5793]\n",
      "[Epoch 53/200] [Batch 300/413] [D loss: 2.6318] [G loss: -0.0217] [GP: 0.2679] [W-dist: -2.6318]\n",
      "[Epoch 53/200] [Batch 350/413] [D loss: 2.5662] [G loss: 0.0757] [GP: 0.2523] [W-dist: -2.5662]\n",
      "[Epoch 53/200] [Batch 400/413] [D loss: 0.7106] [G loss: 0.0593] [GP: 0.0694] [W-dist: -0.7106]\n"
     ]
    },
    {
     "name": "stderr",
     "output_type": "stream",
     "text": [
      " 27%|██▋       | 54/200 [2:31:06<6:47:03, 167.28s/it]"
     ]
    },
    {
     "name": "stdout",
     "output_type": "stream",
     "text": [
      "[Epoch 54/200] [Batch 0/413] [D loss: 2.5126] [G loss: -0.0083] [GP: 0.2581] [W-dist: -2.5126]\n",
      "[Epoch 54/200] [Batch 50/413] [D loss: 0.9796] [G loss: 0.1171] [GP: 0.0951] [W-dist: -0.9796]\n",
      "[Epoch 54/200] [Batch 100/413] [D loss: 4.3126] [G loss: 0.0726] [GP: 0.4254] [W-dist: -4.3126]\n",
      "[Epoch 54/200] [Batch 150/413] [D loss: 3.9235] [G loss: 0.1070] [GP: 0.3860] [W-dist: -3.9235]\n",
      "[Epoch 54/200] [Batch 200/413] [D loss: 1.0823] [G loss: 0.0360] [GP: 0.1088] [W-dist: -1.0823]\n",
      "[Epoch 54/200] [Batch 250/413] [D loss: 1.7203] [G loss: 0.0890] [GP: 0.1678] [W-dist: -1.7203]\n",
      "[Epoch 54/200] [Batch 300/413] [D loss: 2.3844] [G loss: -0.0162] [GP: 0.2452] [W-dist: -2.3844]\n",
      "[Epoch 54/200] [Batch 350/413] [D loss: 4.1996] [G loss: 0.1001] [GP: 0.4157] [W-dist: -4.1996]\n",
      "[Epoch 54/200] [Batch 400/413] [D loss: 2.1107] [G loss: -0.0086] [GP: 0.2166] [W-dist: -2.1107]\n"
     ]
    },
    {
     "name": "stderr",
     "output_type": "stream",
     "text": [
      " 28%|██▊       | 55/200 [2:33:53<6:44:11, 167.25s/it]"
     ]
    },
    {
     "name": "stdout",
     "output_type": "stream",
     "text": [
      "[Epoch 55/200] [Batch 0/413] [D loss: 2.0712] [G loss: -0.0033] [GP: 0.2125] [W-dist: -2.0712]\n",
      "[Epoch 55/200] [Batch 50/413] [D loss: 1.8651] [G loss: 0.0993] [GP: 0.1840] [W-dist: -1.8651]\n",
      "[Epoch 55/200] [Batch 100/413] [D loss: 2.1542] [G loss: 0.0458] [GP: 0.2134] [W-dist: -2.1542]\n",
      "[Epoch 55/200] [Batch 150/413] [D loss: 2.9855] [G loss: 0.0900] [GP: 0.2932] [W-dist: -2.9855]\n",
      "[Epoch 55/200] [Batch 200/413] [D loss: 2.4505] [G loss: 0.0931] [GP: 0.2405] [W-dist: -2.4505]\n",
      "[Epoch 55/200] [Batch 250/413] [D loss: 3.7802] [G loss: 0.0834] [GP: 0.3739] [W-dist: -3.7802]\n",
      "[Epoch 55/200] [Batch 300/413] [D loss: 1.0100] [G loss: 0.0118] [GP: 0.1020] [W-dist: -1.0100]\n",
      "[Epoch 55/200] [Batch 350/413] [D loss: 3.7990] [G loss: 0.0655] [GP: 0.3752] [W-dist: -3.7990]\n",
      "[Epoch 55/200] [Batch 400/413] [D loss: 3.5285] [G loss: 0.0876] [GP: 0.3478] [W-dist: -3.5285]\n"
     ]
    },
    {
     "name": "stderr",
     "output_type": "stream",
     "text": [
      " 28%|██▊       | 56/200 [2:36:40<6:41:15, 167.19s/it]"
     ]
    },
    {
     "name": "stdout",
     "output_type": "stream",
     "text": [
      "[Epoch 56/200] [Batch 0/413] [D loss: 2.2149] [G loss: 0.0988] [GP: 0.2163] [W-dist: -2.2149]\n",
      "[Epoch 56/200] [Batch 50/413] [D loss: 2.6341] [G loss: 0.0912] [GP: 0.2587] [W-dist: -2.6341]\n",
      "[Epoch 56/200] [Batch 100/413] [D loss: 3.6113] [G loss: -0.0098] [GP: 0.3693] [W-dist: -3.6113]\n",
      "[Epoch 56/200] [Batch 150/413] [D loss: 2.3175] [G loss: -0.0162] [GP: 0.2383] [W-dist: -2.3175]\n",
      "[Epoch 56/200] [Batch 200/413] [D loss: 3.2983] [G loss: 0.0892] [GP: 0.3255] [W-dist: -3.2983]\n",
      "[Epoch 56/200] [Batch 250/413] [D loss: 2.9139] [G loss: -0.0130] [GP: 0.2997] [W-dist: -2.9139]\n",
      "[Epoch 56/200] [Batch 300/413] [D loss: 0.8738] [G loss: 0.0773] [GP: 0.0890] [W-dist: -0.8738]\n",
      "[Epoch 56/200] [Batch 350/413] [D loss: 3.3774] [G loss: 0.0881] [GP: 0.3348] [W-dist: -3.3774]\n",
      "[Epoch 56/200] [Batch 400/413] [D loss: 3.5308] [G loss: 0.0856] [GP: 0.3489] [W-dist: -3.5308]\n"
     ]
    },
    {
     "name": "stderr",
     "output_type": "stream",
     "text": [
      " 28%|██▊       | 57/200 [2:39:27<6:38:37, 167.26s/it]"
     ]
    },
    {
     "name": "stdout",
     "output_type": "stream",
     "text": [
      "[Epoch 57/200] [Batch 0/413] [D loss: 2.6890] [G loss: 0.0977] [GP: 0.2650] [W-dist: -2.6890]\n",
      "[Epoch 57/200] [Batch 50/413] [D loss: 3.6029] [G loss: -0.0039] [GP: 0.3702] [W-dist: -3.6029]\n",
      "[Epoch 57/200] [Batch 100/413] [D loss: 5.6418] [G loss: 0.0076] [GP: 0.5730] [W-dist: -5.6418]\n",
      "[Epoch 57/200] [Batch 150/413] [D loss: 2.5255] [G loss: 0.0954] [GP: 0.2483] [W-dist: -2.5255]\n",
      "[Epoch 57/200] [Batch 200/413] [D loss: 3.6704] [G loss: 0.0790] [GP: 0.3608] [W-dist: -3.6704]\n",
      "[Epoch 57/200] [Batch 250/413] [D loss: 1.6530] [G loss: 0.0929] [GP: 0.1618] [W-dist: -1.6530]\n",
      "[Epoch 57/200] [Batch 300/413] [D loss: 4.5256] [G loss: 0.0104] [GP: 0.4464] [W-dist: -4.5256]\n",
      "[Epoch 57/200] [Batch 350/413] [D loss: 3.6951] [G loss: -0.0106] [GP: 0.3787] [W-dist: -3.6951]\n",
      "[Epoch 57/200] [Batch 400/413] [D loss: 3.1662] [G loss: 0.1037] [GP: 0.3121] [W-dist: -3.1662]\n"
     ]
    },
    {
     "name": "stderr",
     "output_type": "stream",
     "text": [
      " 29%|██▉       | 58/200 [2:42:15<6:36:11, 167.40s/it]"
     ]
    },
    {
     "name": "stdout",
     "output_type": "stream",
     "text": [
      "[Epoch 58/200] [Batch 0/413] [D loss: 0.7242] [G loss: 0.0334] [GP: 0.0728] [W-dist: -0.7242]\n",
      "[Epoch 58/200] [Batch 50/413] [D loss: 2.7463] [G loss: 0.0904] [GP: 0.2690] [W-dist: -2.7463]\n",
      "[Epoch 58/200] [Batch 100/413] [D loss: 1.4754] [G loss: 0.0878] [GP: 0.1448] [W-dist: -1.4754]\n",
      "[Epoch 58/200] [Batch 150/413] [D loss: 3.3308] [G loss: 0.0677] [GP: 0.3278] [W-dist: -3.3308]\n",
      "[Epoch 58/200] [Batch 200/413] [D loss: 2.0205] [G loss: 0.1015] [GP: 0.1988] [W-dist: -2.0205]\n",
      "[Epoch 58/200] [Batch 250/413] [D loss: 4.6624] [G loss: 0.0632] [GP: 0.4605] [W-dist: -4.6624]\n",
      "[Epoch 58/200] [Batch 300/413] [D loss: 4.0839] [G loss: 0.0844] [GP: 0.4031] [W-dist: -4.0839]\n",
      "[Epoch 58/200] [Batch 350/413] [D loss: 1.9799] [G loss: -0.0223] [GP: 0.2038] [W-dist: -1.9799]\n",
      "[Epoch 58/200] [Batch 400/413] [D loss: 1.6557] [G loss: -0.0176] [GP: 0.1692] [W-dist: -1.6557]\n"
     ]
    },
    {
     "name": "stderr",
     "output_type": "stream",
     "text": [
      " 30%|██▉       | 59/200 [2:45:03<6:33:37, 167.50s/it]"
     ]
    },
    {
     "name": "stdout",
     "output_type": "stream",
     "text": [
      "[Epoch 59/200] [Batch 0/413] [D loss: 2.9673] [G loss: 0.0616] [GP: 0.2909] [W-dist: -2.9673]\n",
      "[Epoch 59/200] [Batch 50/413] [D loss: 2.3402] [G loss: -0.0183] [GP: 0.2410] [W-dist: -2.3402]\n",
      "[Epoch 59/200] [Batch 100/413] [D loss: 3.4326] [G loss: 0.1049] [GP: 0.3386] [W-dist: -3.4326]\n",
      "[Epoch 59/200] [Batch 150/413] [D loss: 4.2598] [G loss: 0.0490] [GP: 0.4206] [W-dist: -4.2598]\n",
      "[Epoch 59/200] [Batch 200/413] [D loss: 2.7265] [G loss: 0.0628] [GP: 0.2678] [W-dist: -2.7265]\n",
      "[Epoch 59/200] [Batch 250/413] [D loss: 3.8375] [G loss: 0.0994] [GP: 0.3806] [W-dist: -3.8375]\n",
      "[Epoch 59/200] [Batch 300/413] [D loss: 3.6002] [G loss: -0.0108] [GP: 0.3684] [W-dist: -3.6002]\n",
      "[Epoch 59/200] [Batch 350/413] [D loss: 3.8484] [G loss: 0.0633] [GP: 0.3794] [W-dist: -3.8484]\n",
      "[Epoch 59/200] [Batch 400/413] [D loss: 3.8447] [G loss: 0.1147] [GP: 0.3802] [W-dist: -3.8447]\n"
     ]
    },
    {
     "name": "stderr",
     "output_type": "stream",
     "text": [
      " 30%|███       | 60/200 [2:47:50<6:30:48, 167.49s/it]"
     ]
    },
    {
     "name": "stdout",
     "output_type": "stream",
     "text": [
      "[Epoch 60/200] [Batch 0/413] [D loss: 3.6048] [G loss: 0.0673] [GP: 0.3557] [W-dist: -3.6048]\n",
      "[Epoch 60/200] [Batch 50/413] [D loss: 2.1094] [G loss: 0.0840] [GP: 0.2065] [W-dist: -2.1094]\n",
      "[Epoch 60/200] [Batch 100/413] [D loss: 3.5376] [G loss: 0.0530] [GP: 0.3471] [W-dist: -3.5376]\n",
      "[Epoch 60/200] [Batch 150/413] [D loss: 4.3884] [G loss: 0.0794] [GP: 0.4330] [W-dist: -4.3884]\n",
      "[Epoch 60/200] [Batch 200/413] [D loss: 1.6605] [G loss: 0.0868] [GP: 0.1629] [W-dist: -1.6605]\n",
      "[Epoch 60/200] [Batch 250/413] [D loss: 1.5269] [G loss: 0.1147] [GP: 0.1508] [W-dist: -1.5269]\n",
      "[Epoch 60/200] [Batch 300/413] [D loss: 4.7516] [G loss: 0.0530] [GP: 0.4696] [W-dist: -4.7516]\n",
      "[Epoch 60/200] [Batch 350/413] [D loss: 2.5686] [G loss: -0.0027] [GP: 0.2640] [W-dist: -2.5686]\n",
      "[Epoch 60/200] [Batch 400/413] [D loss: 7.3789] [G loss: 0.0292] [GP: 0.7385] [W-dist: -7.3789]\n"
     ]
    },
    {
     "name": "stderr",
     "output_type": "stream",
     "text": [
      " 30%|███       | 61/200 [2:50:38<6:28:01, 167.49s/it]"
     ]
    },
    {
     "name": "stdout",
     "output_type": "stream",
     "text": [
      "[Epoch 61/200] [Batch 0/413] [D loss: 2.2371] [G loss: 0.0724] [GP: 0.2195] [W-dist: -2.2371]\n",
      "[Epoch 61/200] [Batch 50/413] [D loss: 7.5206] [G loss: 0.0189] [GP: 0.7517] [W-dist: -7.5206]\n",
      "[Epoch 61/200] [Batch 100/413] [D loss: 5.5484] [G loss: 0.0179] [GP: 0.5522] [W-dist: -5.5484]\n",
      "[Epoch 61/200] [Batch 150/413] [D loss: 1.3653] [G loss: 0.0117] [GP: 0.1378] [W-dist: -1.3653]\n",
      "[Epoch 61/200] [Batch 200/413] [D loss: 6.9693] [G loss: -0.0081] [GP: 0.6959] [W-dist: -6.9693]\n",
      "[Epoch 61/200] [Batch 250/413] [D loss: 4.0416] [G loss: -0.0058] [GP: 0.4139] [W-dist: -4.0416]\n",
      "[Epoch 61/200] [Batch 300/413] [D loss: 3.4811] [G loss: 0.1049] [GP: 0.3425] [W-dist: -3.4811]\n",
      "[Epoch 61/200] [Batch 350/413] [D loss: 3.2438] [G loss: 0.1039] [GP: 0.3201] [W-dist: -3.2438]\n",
      "[Epoch 61/200] [Batch 400/413] [D loss: 1.3441] [G loss: -0.0245] [GP: 0.1377] [W-dist: -1.3441]\n"
     ]
    },
    {
     "name": "stderr",
     "output_type": "stream",
     "text": [
      " 31%|███       | 62/200 [2:53:25<6:25:05, 167.43s/it]"
     ]
    },
    {
     "name": "stdout",
     "output_type": "stream",
     "text": [
      "[Epoch 62/200] [Batch 0/413] [D loss: 1.8875] [G loss: 0.0762] [GP: 0.1827] [W-dist: -1.8875]\n",
      "[Epoch 62/200] [Batch 50/413] [D loss: 1.2272] [G loss: 0.0788] [GP: 0.1194] [W-dist: -1.2272]\n",
      "[Epoch 62/200] [Batch 100/413] [D loss: 4.2565] [G loss: 0.0735] [GP: 0.4208] [W-dist: -4.2565]\n",
      "[Epoch 62/200] [Batch 150/413] [D loss: 3.5414] [G loss: 0.0720] [GP: 0.3481] [W-dist: -3.5414]\n",
      "[Epoch 62/200] [Batch 200/413] [D loss: 4.8552] [G loss: 0.0366] [GP: 0.4796] [W-dist: -4.8552]\n",
      "[Epoch 62/200] [Batch 250/413] [D loss: 3.1659] [G loss: 0.1157] [GP: 0.3134] [W-dist: -3.1659]\n",
      "[Epoch 62/200] [Batch 300/413] [D loss: 2.8914] [G loss: 0.0435] [GP: 0.2850] [W-dist: -2.8914]\n",
      "[Epoch 62/200] [Batch 350/413] [D loss: 3.3313] [G loss: 0.1179] [GP: 0.3297] [W-dist: -3.3313]\n",
      "[Epoch 62/200] [Batch 400/413] [D loss: 3.9533] [G loss: 0.0930] [GP: 0.3901] [W-dist: -3.9533]\n"
     ]
    },
    {
     "name": "stderr",
     "output_type": "stream",
     "text": [
      " 32%|███▏      | 63/200 [2:56:13<6:22:25, 167.48s/it]"
     ]
    },
    {
     "name": "stdout",
     "output_type": "stream",
     "text": [
      "[Epoch 63/200] [Batch 0/413] [D loss: 3.4415] [G loss: 0.0922] [GP: 0.3404] [W-dist: -3.4415]\n",
      "[Epoch 63/200] [Batch 50/413] [D loss: 3.3949] [G loss: 0.0833] [GP: 0.3336] [W-dist: -3.3949]\n",
      "[Epoch 63/200] [Batch 100/413] [D loss: 4.1053] [G loss: 0.0572] [GP: 0.4051] [W-dist: -4.1053]\n",
      "[Epoch 63/200] [Batch 150/413] [D loss: 1.3611] [G loss: 0.0721] [GP: 0.1321] [W-dist: -1.3611]\n",
      "[Epoch 63/200] [Batch 200/413] [D loss: 2.7139] [G loss: 0.0584] [GP: 0.2667] [W-dist: -2.7139]\n",
      "[Epoch 63/200] [Batch 250/413] [D loss: 1.4809] [G loss: 0.0863] [GP: 0.1444] [W-dist: -1.4809]\n",
      "[Epoch 63/200] [Batch 300/413] [D loss: 1.6191] [G loss: 0.0836] [GP: 0.1573] [W-dist: -1.6191]\n",
      "[Epoch 63/200] [Batch 350/413] [D loss: 2.3747] [G loss: -0.0072] [GP: 0.2447] [W-dist: -2.3747]\n",
      "[Epoch 63/200] [Batch 400/413] [D loss: 2.1049] [G loss: -0.0091] [GP: 0.2151] [W-dist: -2.1049]\n"
     ]
    },
    {
     "name": "stderr",
     "output_type": "stream",
     "text": [
      " 32%|███▏      | 64/200 [2:59:00<6:19:30, 167.43s/it]"
     ]
    },
    {
     "name": "stdout",
     "output_type": "stream",
     "text": [
      "[Epoch 64/200] [Batch 0/413] [D loss: 1.5182] [G loss: -0.0079] [GP: 0.1560] [W-dist: -1.5182]\n",
      "[Epoch 64/200] [Batch 50/413] [D loss: 1.1240] [G loss: 0.0358] [GP: 0.1132] [W-dist: -1.1240]\n",
      "[Epoch 64/200] [Batch 100/413] [D loss: 3.1564] [G loss: 0.0836] [GP: 0.3111] [W-dist: -3.1564]\n",
      "[Epoch 64/200] [Batch 150/413] [D loss: 2.1768] [G loss: 0.0870] [GP: 0.2128] [W-dist: -2.1768]\n",
      "[Epoch 64/200] [Batch 200/413] [D loss: 0.6755] [G loss: 0.0279] [GP: 0.0669] [W-dist: -0.6755]\n",
      "[Epoch 64/200] [Batch 250/413] [D loss: 3.3498] [G loss: 0.1060] [GP: 0.3320] [W-dist: -3.3498]\n",
      "[Epoch 64/200] [Batch 300/413] [D loss: 3.4718] [G loss: 0.0839] [GP: 0.3418] [W-dist: -3.4718]\n",
      "[Epoch 64/200] [Batch 350/413] [D loss: 2.9500] [G loss: -0.0162] [GP: 0.3011] [W-dist: -2.9500]\n",
      "[Epoch 64/200] [Batch 400/413] [D loss: 2.2808] [G loss: 0.1024] [GP: 0.2240] [W-dist: -2.2808]\n"
     ]
    },
    {
     "name": "stderr",
     "output_type": "stream",
     "text": [
      " 32%|███▎      | 65/200 [3:01:47<6:16:38, 167.39s/it]"
     ]
    },
    {
     "name": "stdout",
     "output_type": "stream",
     "text": [
      "[Epoch 65/200] [Batch 0/413] [D loss: 2.4592] [G loss: -0.0179] [GP: 0.2510] [W-dist: -2.4592]\n",
      "[Epoch 65/200] [Batch 50/413] [D loss: 2.1096] [G loss: 0.0651] [GP: 0.2059] [W-dist: -2.1096]\n",
      "[Epoch 65/200] [Batch 100/413] [D loss: 2.9846] [G loss: 0.0915] [GP: 0.2940] [W-dist: -2.9846]\n",
      "[Epoch 65/200] [Batch 150/413] [D loss: 2.4714] [G loss: -0.0116] [GP: 0.2548] [W-dist: -2.4714]\n",
      "[Epoch 65/200] [Batch 200/413] [D loss: 1.4804] [G loss: 0.0014] [GP: 0.1554] [W-dist: -1.4804]\n",
      "[Epoch 65/200] [Batch 250/413] [D loss: 3.9550] [G loss: 0.0736] [GP: 0.3906] [W-dist: -3.9550]\n",
      "[Epoch 65/200] [Batch 300/413] [D loss: 3.1459] [G loss: -0.0158] [GP: 0.3226] [W-dist: -3.1459]\n",
      "[Epoch 65/200] [Batch 350/413] [D loss: 1.4425] [G loss: 0.1069] [GP: 0.1406] [W-dist: -1.4425]\n",
      "[Epoch 65/200] [Batch 400/413] [D loss: 2.2245] [G loss: -0.0264] [GP: 0.2256] [W-dist: -2.2245]\n"
     ]
    },
    {
     "name": "stderr",
     "output_type": "stream",
     "text": [
      " 33%|███▎      | 66/200 [3:04:34<6:13:38, 167.30s/it]"
     ]
    },
    {
     "name": "stdout",
     "output_type": "stream",
     "text": [
      "[Epoch 66/200] [Batch 0/413] [D loss: 3.3627] [G loss: 0.0605] [GP: 0.3312] [W-dist: -3.3627]\n",
      "[Epoch 66/200] [Batch 50/413] [D loss: 4.1822] [G loss: 0.0669] [GP: 0.4147] [W-dist: -4.1822]\n",
      "[Epoch 66/200] [Batch 100/413] [D loss: 2.9272] [G loss: 0.0997] [GP: 0.2908] [W-dist: -2.9272]\n",
      "[Epoch 66/200] [Batch 150/413] [D loss: 2.3256] [G loss: 0.1079] [GP: 0.2284] [W-dist: -2.3256]\n",
      "[Epoch 66/200] [Batch 200/413] [D loss: 1.4145] [G loss: 0.1016] [GP: 0.1378] [W-dist: -1.4145]\n",
      "[Epoch 66/200] [Batch 250/413] [D loss: 2.1950] [G loss: 0.0800] [GP: 0.2139] [W-dist: -2.1950]\n",
      "[Epoch 66/200] [Batch 300/413] [D loss: 2.1236] [G loss: 0.0980] [GP: 0.2062] [W-dist: -2.1236]\n",
      "[Epoch 66/200] [Batch 350/413] [D loss: 3.7667] [G loss: 0.0690] [GP: 0.3717] [W-dist: -3.7667]\n",
      "[Epoch 66/200] [Batch 400/413] [D loss: 2.9870] [G loss: 0.0565] [GP: 0.2926] [W-dist: -2.9870]\n"
     ]
    },
    {
     "name": "stderr",
     "output_type": "stream",
     "text": [
      " 34%|███▎      | 67/200 [3:07:22<6:10:55, 167.34s/it]"
     ]
    },
    {
     "name": "stdout",
     "output_type": "stream",
     "text": [
      "[Epoch 67/200] [Batch 0/413] [D loss: 3.7600] [G loss: 0.0431] [GP: 0.3705] [W-dist: -3.7600]\n",
      "[Epoch 67/200] [Batch 50/413] [D loss: 4.2308] [G loss: -0.0038] [GP: 0.4164] [W-dist: -4.2308]\n",
      "[Epoch 67/200] [Batch 100/413] [D loss: 2.1314] [G loss: 0.0877] [GP: 0.2089] [W-dist: -2.1314]\n",
      "[Epoch 67/200] [Batch 150/413] [D loss: 3.2975] [G loss: 0.0836] [GP: 0.3235] [W-dist: -3.2975]\n",
      "[Epoch 67/200] [Batch 200/413] [D loss: 1.0671] [G loss: 0.0880] [GP: 0.1061] [W-dist: -1.0671]\n",
      "[Epoch 67/200] [Batch 250/413] [D loss: 5.1815] [G loss: 0.0282] [GP: 0.5135] [W-dist: -5.1815]\n",
      "[Epoch 67/200] [Batch 300/413] [D loss: 3.4615] [G loss: 0.0824] [GP: 0.3418] [W-dist: -3.4615]\n",
      "[Epoch 67/200] [Batch 350/413] [D loss: 1.6994] [G loss: 0.0757] [GP: 0.1710] [W-dist: -1.6994]\n",
      "[Epoch 67/200] [Batch 400/413] [D loss: 2.8601] [G loss: 0.0759] [GP: 0.2816] [W-dist: -2.8601]\n"
     ]
    },
    {
     "name": "stderr",
     "output_type": "stream",
     "text": [
      " 34%|███▍      | 68/200 [3:10:09<6:08:15, 167.39s/it]"
     ]
    },
    {
     "name": "stdout",
     "output_type": "stream",
     "text": [
      "[Epoch 68/200] [Batch 0/413] [D loss: 1.9775] [G loss: 0.0651] [GP: 0.1944] [W-dist: -1.9775]\n",
      "[Epoch 68/200] [Batch 50/413] [D loss: 3.6590] [G loss: 0.0620] [GP: 0.3615] [W-dist: -3.6590]\n",
      "[Epoch 68/200] [Batch 100/413] [D loss: 2.0745] [G loss: 0.1115] [GP: 0.2037] [W-dist: -2.0745]\n",
      "[Epoch 68/200] [Batch 150/413] [D loss: 2.1660] [G loss: 0.0773] [GP: 0.2121] [W-dist: -2.1660]\n",
      "[Epoch 68/200] [Batch 200/413] [D loss: 3.9017] [G loss: 0.0606] [GP: 0.3858] [W-dist: -3.9017]\n",
      "[Epoch 68/200] [Batch 250/413] [D loss: 3.0388] [G loss: 0.0951] [GP: 0.3000] [W-dist: -3.0388]\n",
      "[Epoch 68/200] [Batch 300/413] [D loss: 4.4086] [G loss: 0.0829] [GP: 0.4365] [W-dist: -4.4086]\n",
      "[Epoch 68/200] [Batch 350/413] [D loss: 1.8474] [G loss: -0.0049] [GP: 0.1890] [W-dist: -1.8474]\n",
      "[Epoch 68/200] [Batch 400/413] [D loss: 2.4968] [G loss: 0.0878] [GP: 0.2487] [W-dist: -2.4968]\n"
     ]
    },
    {
     "name": "stderr",
     "output_type": "stream",
     "text": [
      " 34%|███▍      | 69/200 [3:12:57<6:05:29, 167.40s/it]"
     ]
    },
    {
     "name": "stdout",
     "output_type": "stream",
     "text": [
      "[Epoch 69/200] [Batch 0/413] [D loss: 1.7426] [G loss: 0.0477] [GP: 0.1751] [W-dist: -1.7426]\n",
      "[Epoch 69/200] [Batch 50/413] [D loss: 6.6264] [G loss: 0.0308] [GP: 0.6667] [W-dist: -6.6264]\n",
      "[Epoch 69/200] [Batch 100/413] [D loss: 3.6841] [G loss: 0.0431] [GP: 0.3675] [W-dist: -3.6841]\n",
      "[Epoch 69/200] [Batch 150/413] [D loss: 2.7340] [G loss: 0.0500] [GP: 0.2763] [W-dist: -2.7340]\n",
      "[Epoch 69/200] [Batch 200/413] [D loss: 3.3204] [G loss: 0.0610] [GP: 0.3264] [W-dist: -3.3204]\n",
      "[Epoch 69/200] [Batch 250/413] [D loss: 2.0885] [G loss: 0.1375] [GP: 0.2046] [W-dist: -2.0885]\n",
      "[Epoch 69/200] [Batch 300/413] [D loss: 0.1189] [G loss: 0.1593] [GP: 0.0262] [W-dist: -0.1189]\n",
      "[Epoch 69/200] [Batch 350/413] [D loss: 0.9447] [G loss: 0.1118] [GP: 0.0991] [W-dist: -0.9447]\n",
      "[Epoch 69/200] [Batch 400/413] [D loss: 0.0407] [G loss: 0.2384] [GP: 0.0218] [W-dist: -0.0407]\n"
     ]
    },
    {
     "name": "stderr",
     "output_type": "stream",
     "text": [
      " 35%|███▌      | 70/200 [3:15:44<6:02:41, 167.40s/it]"
     ]
    },
    {
     "name": "stdout",
     "output_type": "stream",
     "text": [
      "[Epoch 70/200] [Batch 0/413] [D loss: 0.3621] [G loss: 0.2452] [GP: 0.0543] [W-dist: -0.3621]\n",
      "[Epoch 70/200] [Batch 50/413] [D loss: -0.5962] [G loss: 0.3997] [GP: 0.0053] [W-dist: 0.5962]\n",
      "[Epoch 70/200] [Batch 100/413] [D loss: -0.5031] [G loss: 0.3865] [GP: 0.0083] [W-dist: 0.5031]\n",
      "[Epoch 70/200] [Batch 150/413] [D loss: -0.4823] [G loss: 0.3847] [GP: 0.0203] [W-dist: 0.4823]\n",
      "[Epoch 70/200] [Batch 200/413] [D loss: -0.6613] [G loss: 0.4237] [GP: 0.0058] [W-dist: 0.6613]\n",
      "[Epoch 70/200] [Batch 250/413] [D loss: -0.6500] [G loss: 0.4075] [GP: 0.0037] [W-dist: 0.6500]\n",
      "[Epoch 70/200] [Batch 300/413] [D loss: -0.5933] [G loss: 0.4050] [GP: 0.0073] [W-dist: 0.5933]\n",
      "[Epoch 70/200] [Batch 350/413] [D loss: -0.7310] [G loss: 0.4327] [GP: 0.0017] [W-dist: 0.7310]\n",
      "[Epoch 70/200] [Batch 400/413] [D loss: -0.6598] [G loss: 0.4195] [GP: 0.0059] [W-dist: 0.6598]\n"
     ]
    },
    {
     "name": "stderr",
     "output_type": "stream",
     "text": [
      " 36%|███▌      | 71/200 [3:18:33<6:00:36, 167.73s/it]"
     ]
    },
    {
     "name": "stdout",
     "output_type": "stream",
     "text": [
      "[Epoch 71/200] [Batch 0/413] [D loss: -0.6263] [G loss: 0.3923] [GP: 0.0086] [W-dist: 0.6263]\n",
      "[Epoch 71/200] [Batch 50/413] [D loss: -0.5244] [G loss: 0.3340] [GP: 0.0122] [W-dist: 0.5244]\n",
      "[Epoch 71/200] [Batch 100/413] [D loss: -0.4763] [G loss: 0.3816] [GP: 0.0122] [W-dist: 0.4763]\n",
      "[Epoch 71/200] [Batch 150/413] [D loss: -0.6077] [G loss: 0.4088] [GP: 0.0103] [W-dist: 0.6077]\n",
      "[Epoch 71/200] [Batch 200/413] [D loss: -0.5231] [G loss: 0.4186] [GP: 0.0166] [W-dist: 0.5231]\n",
      "[Epoch 71/200] [Batch 250/413] [D loss: -0.4487] [G loss: 0.4058] [GP: 0.0197] [W-dist: 0.4487]\n",
      "[Epoch 71/200] [Batch 300/413] [D loss: -0.6052] [G loss: 0.3957] [GP: 0.0084] [W-dist: 0.6052]\n",
      "[Epoch 71/200] [Batch 350/413] [D loss: 0.0224] [G loss: 0.2705] [GP: 0.0620] [W-dist: -0.0224]\n",
      "[Epoch 71/200] [Batch 400/413] [D loss: -0.1791] [G loss: 0.3660] [GP: 0.0390] [W-dist: 0.1791]\n"
     ]
    },
    {
     "name": "stderr",
     "output_type": "stream",
     "text": [
      " 36%|███▌      | 72/200 [3:21:21<5:58:18, 167.96s/it]"
     ]
    },
    {
     "name": "stdout",
     "output_type": "stream",
     "text": [
      "[Epoch 72/200] [Batch 0/413] [D loss: 0.4586] [G loss: 0.0958] [GP: 0.1088] [W-dist: -0.4586]\n",
      "[Epoch 72/200] [Batch 50/413] [D loss: -0.4416] [G loss: 0.3793] [GP: 0.0191] [W-dist: 0.4416]\n",
      "[Epoch 72/200] [Batch 100/413] [D loss: -0.3174] [G loss: 0.2632] [GP: 0.0206] [W-dist: 0.3174]\n",
      "[Epoch 72/200] [Batch 150/413] [D loss: -0.2945] [G loss: 0.3563] [GP: 0.0221] [W-dist: 0.2945]\n",
      "[Epoch 72/200] [Batch 200/413] [D loss: -0.4519] [G loss: 0.4073] [GP: 0.0228] [W-dist: 0.4519]\n",
      "[Epoch 72/200] [Batch 250/413] [D loss: 1.1781] [G loss: 0.2617] [GP: 0.1341] [W-dist: -1.1781]\n",
      "[Epoch 72/200] [Batch 300/413] [D loss: -0.5715] [G loss: 0.3887] [GP: 0.0111] [W-dist: 0.5715]\n",
      "[Epoch 72/200] [Batch 350/413] [D loss: -0.6057] [G loss: 0.4083] [GP: 0.0092] [W-dist: 0.6057]\n",
      "[Epoch 72/200] [Batch 400/413] [D loss: -0.3111] [G loss: 0.3561] [GP: 0.0179] [W-dist: 0.3111]\n"
     ]
    },
    {
     "name": "stderr",
     "output_type": "stream",
     "text": [
      " 36%|███▋      | 73/200 [3:24:10<5:55:54, 168.15s/it]"
     ]
    },
    {
     "name": "stdout",
     "output_type": "stream",
     "text": [
      "[Epoch 73/200] [Batch 0/413] [D loss: -0.4257] [G loss: 0.4095] [GP: 0.0197] [W-dist: 0.4257]\n",
      "[Epoch 73/200] [Batch 50/413] [D loss: -0.4800] [G loss: 0.3422] [GP: 0.0178] [W-dist: 0.4800]\n",
      "[Epoch 73/200] [Batch 100/413] [D loss: 0.3549] [G loss: 0.2402] [GP: 0.0790] [W-dist: -0.3549]\n",
      "[Epoch 73/200] [Batch 150/413] [D loss: -0.4863] [G loss: 0.3877] [GP: 0.0193] [W-dist: 0.4863]\n",
      "[Epoch 73/200] [Batch 200/413] [D loss: -0.5751] [G loss: 0.3783] [GP: 0.0105] [W-dist: 0.5751]\n",
      "[Epoch 73/200] [Batch 250/413] [D loss: -0.5048] [G loss: 0.3854] [GP: 0.0158] [W-dist: 0.5048]\n",
      "[Epoch 73/200] [Batch 300/413] [D loss: 0.9923] [G loss: 0.1478] [GP: 0.1591] [W-dist: -0.9923]\n",
      "[Epoch 73/200] [Batch 350/413] [D loss: -0.0379] [G loss: 0.3658] [GP: 0.0588] [W-dist: 0.0379]\n",
      "[Epoch 73/200] [Batch 400/413] [D loss: -0.1432] [G loss: 0.3492] [GP: 0.0383] [W-dist: 0.1432]\n"
     ]
    },
    {
     "name": "stderr",
     "output_type": "stream",
     "text": [
      " 37%|███▋      | 74/200 [3:26:58<5:53:14, 168.21s/it]"
     ]
    },
    {
     "name": "stdout",
     "output_type": "stream",
     "text": [
      "[Epoch 74/200] [Batch 0/413] [D loss: 0.0554] [G loss: 0.3488] [GP: 0.0338] [W-dist: -0.0554]\n",
      "[Epoch 74/200] [Batch 50/413] [D loss: -0.4279] [G loss: 0.3677] [GP: 0.0235] [W-dist: 0.4279]\n",
      "[Epoch 74/200] [Batch 100/413] [D loss: -0.2947] [G loss: 0.4099] [GP: 0.0327] [W-dist: 0.2947]\n",
      "[Epoch 74/200] [Batch 150/413] [D loss: -0.4387] [G loss: 0.4107] [GP: 0.0246] [W-dist: 0.4387]\n",
      "[Epoch 74/200] [Batch 200/413] [D loss: -0.0719] [G loss: 0.3279] [GP: 0.0504] [W-dist: 0.0719]\n",
      "[Epoch 74/200] [Batch 250/413] [D loss: -0.2064] [G loss: 0.3439] [GP: 0.0297] [W-dist: 0.2064]\n",
      "[Epoch 74/200] [Batch 300/413] [D loss: 0.5106] [G loss: 0.3867] [GP: 0.1024] [W-dist: -0.5106]\n",
      "[Epoch 74/200] [Batch 350/413] [D loss: -0.2078] [G loss: 0.4178] [GP: 0.0421] [W-dist: 0.2078]\n",
      "[Epoch 74/200] [Batch 400/413] [D loss: 0.8417] [G loss: 0.3704] [GP: 0.1468] [W-dist: -0.8417]\n"
     ]
    },
    {
     "name": "stderr",
     "output_type": "stream",
     "text": [
      " 38%|███▊      | 75/200 [3:29:47<5:50:47, 168.38s/it]"
     ]
    },
    {
     "name": "stdout",
     "output_type": "stream",
     "text": [
      "[Epoch 75/200] [Batch 0/413] [D loss: -0.0474] [G loss: 0.1335] [GP: 0.0442] [W-dist: 0.0474]\n",
      "[Epoch 75/200] [Batch 50/413] [D loss: -0.0549] [G loss: 0.3653] [GP: 0.0476] [W-dist: 0.0549]\n",
      "[Epoch 75/200] [Batch 100/413] [D loss: 0.1929] [G loss: 0.2592] [GP: 0.0597] [W-dist: -0.1929]\n",
      "[Epoch 75/200] [Batch 150/413] [D loss: -0.3463] [G loss: 0.3148] [GP: 0.0098] [W-dist: 0.3463]\n",
      "[Epoch 75/200] [Batch 200/413] [D loss: -0.3982] [G loss: 0.3279] [GP: 0.0155] [W-dist: 0.3982]\n",
      "[Epoch 75/200] [Batch 250/413] [D loss: -0.2225] [G loss: 0.2649] [GP: 0.0257] [W-dist: 0.2225]\n",
      "[Epoch 75/200] [Batch 300/413] [D loss: -0.2659] [G loss: 0.1707] [GP: 0.0280] [W-dist: 0.2659]\n",
      "[Epoch 75/200] [Batch 350/413] [D loss: 0.0298] [G loss: 0.2863] [GP: 0.0322] [W-dist: -0.0298]\n",
      "[Epoch 75/200] [Batch 400/413] [D loss: -0.3987] [G loss: 0.3543] [GP: 0.0133] [W-dist: 0.3987]\n"
     ]
    },
    {
     "name": "stderr",
     "output_type": "stream",
     "text": [
      " 38%|███▊      | 76/200 [3:32:36<5:48:21, 168.56s/it]"
     ]
    },
    {
     "name": "stdout",
     "output_type": "stream",
     "text": [
      "[Epoch 76/200] [Batch 0/413] [D loss: -0.3202] [G loss: 0.3516] [GP: 0.0207] [W-dist: 0.3202]\n",
      "[Epoch 76/200] [Batch 50/413] [D loss: 1.5195] [G loss: 0.2467] [GP: 0.1580] [W-dist: -1.5195]\n",
      "[Epoch 76/200] [Batch 100/413] [D loss: -0.2242] [G loss: 0.2824] [GP: 0.0208] [W-dist: 0.2242]\n",
      "[Epoch 76/200] [Batch 150/413] [D loss: -0.2211] [G loss: 0.3570] [GP: 0.0334] [W-dist: 0.2211]\n",
      "[Epoch 76/200] [Batch 200/413] [D loss: -0.3142] [G loss: 0.2410] [GP: 0.0236] [W-dist: 0.3142]\n",
      "[Epoch 76/200] [Batch 250/413] [D loss: -0.3119] [G loss: 0.3058] [GP: 0.0138] [W-dist: 0.3119]\n",
      "[Epoch 76/200] [Batch 300/413] [D loss: -0.2697] [G loss: 0.3481] [GP: 0.0258] [W-dist: 0.2697]\n",
      "[Epoch 76/200] [Batch 350/413] [D loss: 0.2791] [G loss: 0.3909] [GP: 0.0795] [W-dist: -0.2791]\n",
      "[Epoch 76/200] [Batch 400/413] [D loss: -0.2951] [G loss: 0.3116] [GP: 0.0122] [W-dist: 0.2951]\n"
     ]
    },
    {
     "name": "stderr",
     "output_type": "stream",
     "text": [
      " 38%|███▊      | 77/200 [3:35:24<5:45:39, 168.61s/it]"
     ]
    },
    {
     "name": "stdout",
     "output_type": "stream",
     "text": [
      "[Epoch 77/200] [Batch 0/413] [D loss: -0.2463] [G loss: 0.3157] [GP: 0.0198] [W-dist: 0.2463]\n",
      "[Epoch 77/200] [Batch 50/413] [D loss: 0.6556] [G loss: 0.2020] [GP: 0.1144] [W-dist: -0.6556]\n",
      "[Epoch 77/200] [Batch 100/413] [D loss: 0.9493] [G loss: 0.3564] [GP: 0.1332] [W-dist: -0.9493]\n",
      "[Epoch 77/200] [Batch 150/413] [D loss: 0.0690] [G loss: 0.3994] [GP: 0.0649] [W-dist: -0.0690]\n",
      "[Epoch 77/200] [Batch 200/413] [D loss: -0.0371] [G loss: 0.1482] [GP: 0.0556] [W-dist: 0.0371]\n",
      "[Epoch 77/200] [Batch 250/413] [D loss: -0.5011] [G loss: 0.4063] [GP: 0.0117] [W-dist: 0.5011]\n",
      "[Epoch 77/200] [Batch 300/413] [D loss: -0.4920] [G loss: 0.3506] [GP: 0.0090] [W-dist: 0.4920]\n",
      "[Epoch 77/200] [Batch 350/413] [D loss: 0.0167] [G loss: 0.2855] [GP: 0.0439] [W-dist: -0.0167]\n",
      "[Epoch 77/200] [Batch 400/413] [D loss: -0.1898] [G loss: 0.2466] [GP: 0.0181] [W-dist: 0.1898]\n"
     ]
    },
    {
     "name": "stderr",
     "output_type": "stream",
     "text": [
      " 39%|███▉      | 78/200 [3:38:13<5:42:59, 168.68s/it]"
     ]
    },
    {
     "name": "stdout",
     "output_type": "stream",
     "text": [
      "[Epoch 78/200] [Batch 0/413] [D loss: -0.4091] [G loss: 0.3348] [GP: 0.0084] [W-dist: 0.4091]\n",
      "[Epoch 78/200] [Batch 50/413] [D loss: -0.2402] [G loss: 0.2827] [GP: 0.0126] [W-dist: 0.2402]\n",
      "[Epoch 78/200] [Batch 100/413] [D loss: 0.0635] [G loss: 0.1182] [GP: 0.0692] [W-dist: -0.0635]\n",
      "[Epoch 78/200] [Batch 150/413] [D loss: -0.0030] [G loss: 0.3262] [GP: 0.0274] [W-dist: 0.0030]\n",
      "[Epoch 78/200] [Batch 200/413] [D loss: -0.2598] [G loss: 0.2574] [GP: 0.0225] [W-dist: 0.2598]\n",
      "[Epoch 78/200] [Batch 250/413] [D loss: -0.1432] [G loss: 0.2132] [GP: 0.0312] [W-dist: 0.1432]\n",
      "[Epoch 78/200] [Batch 300/413] [D loss: -0.1666] [G loss: 0.1449] [GP: 0.0056] [W-dist: 0.1666]\n",
      "[Epoch 78/200] [Batch 350/413] [D loss: 0.9357] [G loss: 0.1457] [GP: 0.1308] [W-dist: -0.9357]\n",
      "[Epoch 78/200] [Batch 400/413] [D loss: -0.2015] [G loss: 0.3754] [GP: 0.0344] [W-dist: 0.2015]\n"
     ]
    },
    {
     "name": "stderr",
     "output_type": "stream",
     "text": [
      " 40%|███▉      | 79/200 [3:41:02<5:40:15, 168.72s/it]"
     ]
    },
    {
     "name": "stdout",
     "output_type": "stream",
     "text": [
      "[Epoch 79/200] [Batch 0/413] [D loss: -0.2056] [G loss: 0.3394] [GP: 0.0290] [W-dist: 0.2056]\n",
      "[Epoch 79/200] [Batch 50/413] [D loss: -0.4737] [G loss: 0.3718] [GP: 0.0117] [W-dist: 0.4737]\n",
      "[Epoch 79/200] [Batch 100/413] [D loss: -0.2412] [G loss: 0.2382] [GP: 0.0205] [W-dist: 0.2412]\n",
      "[Epoch 79/200] [Batch 150/413] [D loss: 0.4115] [G loss: 0.2507] [GP: 0.0663] [W-dist: -0.4115]\n",
      "[Epoch 79/200] [Batch 200/413] [D loss: -0.1582] [G loss: 0.2287] [GP: 0.0127] [W-dist: 0.1582]\n",
      "[Epoch 79/200] [Batch 250/413] [D loss: -0.4297] [G loss: 0.3263] [GP: 0.0102] [W-dist: 0.4297]\n",
      "[Epoch 79/200] [Batch 300/413] [D loss: 0.8368] [G loss: 0.1684] [GP: 0.1123] [W-dist: -0.8368]\n",
      "[Epoch 79/200] [Batch 350/413] [D loss: -0.4187] [G loss: 0.3680] [GP: 0.0142] [W-dist: 0.4187]\n",
      "[Epoch 79/200] [Batch 400/413] [D loss: -0.5630] [G loss: 0.3785] [GP: 0.0033] [W-dist: 0.5630]\n"
     ]
    },
    {
     "name": "stderr",
     "output_type": "stream",
     "text": [
      " 40%|████      | 80/200 [3:43:51<5:37:38, 168.82s/it]"
     ]
    },
    {
     "name": "stdout",
     "output_type": "stream",
     "text": [
      "[Epoch 80/200] [Batch 0/413] [D loss: -0.4805] [G loss: 0.3479] [GP: 0.0062] [W-dist: 0.4805]\n",
      "[Epoch 80/200] [Batch 50/413] [D loss: -0.0400] [G loss: 0.1918] [GP: 0.0319] [W-dist: 0.0400]\n",
      "[Epoch 80/200] [Batch 100/413] [D loss: -0.4187] [G loss: 0.3884] [GP: 0.0190] [W-dist: 0.4187]\n",
      "[Epoch 80/200] [Batch 150/413] [D loss: -0.1241] [G loss: 0.2081] [GP: 0.0147] [W-dist: 0.1241]\n",
      "[Epoch 80/200] [Batch 200/413] [D loss: 0.8394] [G loss: 0.2308] [GP: 0.1075] [W-dist: -0.8394]\n",
      "[Epoch 80/200] [Batch 250/413] [D loss: -0.0016] [G loss: 0.2175] [GP: 0.0371] [W-dist: 0.0016]\n",
      "[Epoch 80/200] [Batch 300/413] [D loss: -0.3357] [G loss: 0.3747] [GP: 0.0263] [W-dist: 0.3357]\n",
      "[Epoch 80/200] [Batch 350/413] [D loss: -0.2698] [G loss: 0.3515] [GP: 0.0354] [W-dist: 0.2698]\n",
      "[Epoch 80/200] [Batch 400/413] [D loss: 2.5438] [G loss: 0.1295] [GP: 0.2565] [W-dist: -2.5438]\n"
     ]
    },
    {
     "name": "stderr",
     "output_type": "stream",
     "text": [
      " 40%|████      | 81/200 [3:46:40<5:34:50, 168.83s/it]"
     ]
    },
    {
     "name": "stdout",
     "output_type": "stream",
     "text": [
      "[Epoch 81/200] [Batch 0/413] [D loss: -0.0566] [G loss: 0.2258] [GP: 0.0221] [W-dist: 0.0566]\n",
      "[Epoch 81/200] [Batch 50/413] [D loss: -0.4381] [G loss: 0.2854] [GP: 0.0107] [W-dist: 0.4381]\n",
      "[Epoch 81/200] [Batch 100/413] [D loss: -0.6364] [G loss: 0.3975] [GP: 0.0034] [W-dist: 0.6364]\n",
      "[Epoch 81/200] [Batch 150/413] [D loss: -0.5156] [G loss: 0.2933] [GP: 0.0033] [W-dist: 0.5156]\n",
      "[Epoch 81/200] [Batch 200/413] [D loss: 1.4431] [G loss: 0.0373] [GP: 0.2025] [W-dist: -1.4431]\n",
      "[Epoch 81/200] [Batch 250/413] [D loss: 0.3119] [G loss: 0.0219] [GP: 0.0626] [W-dist: -0.3119]\n",
      "[Epoch 81/200] [Batch 300/413] [D loss: -0.4211] [G loss: 0.3717] [GP: 0.0149] [W-dist: 0.4211]\n",
      "[Epoch 81/200] [Batch 350/413] [D loss: -0.3763] [G loss: 0.4010] [GP: 0.0237] [W-dist: 0.3763]\n",
      "[Epoch 81/200] [Batch 400/413] [D loss: 0.5126] [G loss: 0.3413] [GP: 0.0677] [W-dist: -0.5126]\n"
     ]
    },
    {
     "name": "stderr",
     "output_type": "stream",
     "text": [
      " 41%|████      | 82/200 [3:49:29<5:31:54, 168.77s/it]"
     ]
    },
    {
     "name": "stdout",
     "output_type": "stream",
     "text": [
      "[Epoch 82/200] [Batch 0/413] [D loss: -0.1183] [G loss: 0.1641] [GP: 0.0320] [W-dist: 0.1183]\n",
      "[Epoch 82/200] [Batch 50/413] [D loss: -0.2700] [G loss: 0.3878] [GP: 0.0224] [W-dist: 0.2700]\n",
      "[Epoch 82/200] [Batch 100/413] [D loss: -0.4557] [G loss: 0.3194] [GP: 0.0087] [W-dist: 0.4557]\n",
      "[Epoch 82/200] [Batch 150/413] [D loss: -0.5414] [G loss: 0.3532] [GP: 0.0039] [W-dist: 0.5414]\n",
      "[Epoch 82/200] [Batch 200/413] [D loss: -0.3232] [G loss: 0.3414] [GP: 0.0198] [W-dist: 0.3232]\n",
      "[Epoch 82/200] [Batch 250/413] [D loss: -0.2237] [G loss: 0.2298] [GP: 0.0094] [W-dist: 0.2237]\n",
      "[Epoch 82/200] [Batch 300/413] [D loss: -0.0755] [G loss: 0.3413] [GP: 0.0339] [W-dist: 0.0755]\n",
      "[Epoch 82/200] [Batch 350/413] [D loss: -0.3910] [G loss: 0.3127] [GP: 0.0114] [W-dist: 0.3910]\n",
      "[Epoch 82/200] [Batch 400/413] [D loss: -0.2337] [G loss: 0.2823] [GP: 0.0095] [W-dist: 0.2337]\n"
     ]
    },
    {
     "name": "stderr",
     "output_type": "stream",
     "text": [
      " 42%|████▏     | 83/200 [3:52:17<5:29:09, 168.80s/it]"
     ]
    },
    {
     "name": "stdout",
     "output_type": "stream",
     "text": [
      "[Epoch 83/200] [Batch 0/413] [D loss: -0.4466] [G loss: 0.3723] [GP: 0.0145] [W-dist: 0.4466]\n",
      "[Epoch 83/200] [Batch 50/413] [D loss: -0.3262] [G loss: 0.2900] [GP: 0.0218] [W-dist: 0.3262]\n",
      "[Epoch 83/200] [Batch 100/413] [D loss: -0.5285] [G loss: 0.3703] [GP: 0.0091] [W-dist: 0.5285]\n",
      "[Epoch 83/200] [Batch 150/413] [D loss: -0.1725] [G loss: 0.3964] [GP: 0.0403] [W-dist: 0.1725]\n",
      "[Epoch 83/200] [Batch 200/413] [D loss: -0.5556] [G loss: 0.3757] [GP: 0.0056] [W-dist: 0.5556]\n",
      "[Epoch 83/200] [Batch 250/413] [D loss: -0.5457] [G loss: 0.3368] [GP: 0.0034] [W-dist: 0.5457]\n",
      "[Epoch 83/200] [Batch 300/413] [D loss: 0.1782] [G loss: 0.3577] [GP: 0.0728] [W-dist: -0.1782]\n",
      "[Epoch 83/200] [Batch 350/413] [D loss: -0.3534] [G loss: 0.3405] [GP: 0.0157] [W-dist: 0.3534]\n",
      "[Epoch 83/200] [Batch 400/413] [D loss: -0.4658] [G loss: 0.3468] [GP: 0.0077] [W-dist: 0.4658]\n"
     ]
    },
    {
     "name": "stderr",
     "output_type": "stream",
     "text": [
      " 42%|████▏     | 84/200 [3:55:06<5:26:27, 168.86s/it]"
     ]
    },
    {
     "name": "stdout",
     "output_type": "stream",
     "text": [
      "[Epoch 84/200] [Batch 0/413] [D loss: -0.3659] [G loss: 0.3334] [GP: 0.0153] [W-dist: 0.3659]\n",
      "[Epoch 84/200] [Batch 50/413] [D loss: -0.2074] [G loss: 0.3456] [GP: 0.0327] [W-dist: 0.2074]\n",
      "[Epoch 84/200] [Batch 100/413] [D loss: -0.3498] [G loss: 0.3243] [GP: 0.0139] [W-dist: 0.3498]\n",
      "[Epoch 84/200] [Batch 150/413] [D loss: -0.0892] [G loss: 0.2665] [GP: 0.0295] [W-dist: 0.0892]\n",
      "[Epoch 84/200] [Batch 200/413] [D loss: -0.1915] [G loss: 0.3175] [GP: 0.0253] [W-dist: 0.1915]\n",
      "[Epoch 84/200] [Batch 250/413] [D loss: -0.4727] [G loss: 0.3463] [GP: 0.0071] [W-dist: 0.4727]\n",
      "[Epoch 84/200] [Batch 300/413] [D loss: -0.4672] [G loss: 0.3646] [GP: 0.0098] [W-dist: 0.4672]\n",
      "[Epoch 84/200] [Batch 350/413] [D loss: -0.4287] [G loss: 0.3140] [GP: 0.0081] [W-dist: 0.4287]\n",
      "[Epoch 84/200] [Batch 400/413] [D loss: -0.1594] [G loss: 0.3926] [GP: 0.0450] [W-dist: 0.1594]\n"
     ]
    },
    {
     "name": "stderr",
     "output_type": "stream",
     "text": [
      " 42%|████▎     | 85/200 [3:57:55<5:23:38, 168.86s/it]"
     ]
    },
    {
     "name": "stdout",
     "output_type": "stream",
     "text": [
      "[Epoch 85/200] [Batch 0/413] [D loss: 0.1780] [G loss: 0.1782] [GP: 0.0692] [W-dist: -0.1780]\n",
      "[Epoch 85/200] [Batch 50/413] [D loss: -0.4772] [G loss: 0.4074] [GP: 0.0134] [W-dist: 0.4772]\n",
      "[Epoch 85/200] [Batch 100/413] [D loss: -0.1813] [G loss: 0.1963] [GP: 0.0265] [W-dist: 0.1813]\n",
      "[Epoch 85/200] [Batch 150/413] [D loss: -0.4901] [G loss: 0.3802] [GP: 0.0116] [W-dist: 0.4901]\n",
      "[Epoch 85/200] [Batch 200/413] [D loss: -0.5288] [G loss: 0.3372] [GP: 0.0052] [W-dist: 0.5288]\n",
      "[Epoch 85/200] [Batch 250/413] [D loss: -0.3912] [G loss: 0.3531] [GP: 0.0091] [W-dist: 0.3912]\n",
      "[Epoch 85/200] [Batch 300/413] [D loss: -0.5184] [G loss: 0.3318] [GP: 0.0071] [W-dist: 0.5184]\n",
      "[Epoch 85/200] [Batch 350/413] [D loss: 0.2030] [G loss: 0.0173] [GP: 0.0350] [W-dist: -0.2030]\n",
      "[Epoch 85/200] [Batch 400/413] [D loss: 0.1004] [G loss: 0.2252] [GP: 0.0358] [W-dist: -0.1004]\n"
     ]
    },
    {
     "name": "stderr",
     "output_type": "stream",
     "text": [
      " 43%|████▎     | 86/200 [4:00:44<5:20:47, 168.84s/it]"
     ]
    },
    {
     "name": "stdout",
     "output_type": "stream",
     "text": [
      "[Epoch 86/200] [Batch 0/413] [D loss: -0.4279] [G loss: 0.3189] [GP: 0.0069] [W-dist: 0.4279]\n",
      "[Epoch 86/200] [Batch 50/413] [D loss: -0.0340] [G loss: 0.0633] [GP: 0.0103] [W-dist: 0.0340]\n",
      "[Epoch 86/200] [Batch 100/413] [D loss: 0.0958] [G loss: 0.1901] [GP: 0.0420] [W-dist: -0.0958]\n",
      "[Epoch 86/200] [Batch 150/413] [D loss: 0.1061] [G loss: 0.3748] [GP: 0.0596] [W-dist: -0.1061]\n",
      "[Epoch 86/200] [Batch 200/413] [D loss: -0.4678] [G loss: 0.3172] [GP: 0.0074] [W-dist: 0.4678]\n",
      "[Epoch 86/200] [Batch 250/413] [D loss: -0.1793] [G loss: 0.2829] [GP: 0.0176] [W-dist: 0.1793]\n",
      "[Epoch 86/200] [Batch 300/413] [D loss: -0.3161] [G loss: 0.2744] [GP: 0.0074] [W-dist: 0.3161]\n",
      "[Epoch 86/200] [Batch 350/413] [D loss: -0.4143] [G loss: 0.3041] [GP: 0.0108] [W-dist: 0.4143]\n",
      "[Epoch 86/200] [Batch 400/413] [D loss: -0.2743] [G loss: 0.3309] [GP: 0.0246] [W-dist: 0.2743]\n"
     ]
    },
    {
     "name": "stderr",
     "output_type": "stream",
     "text": [
      " 44%|████▎     | 87/200 [4:03:33<5:18:01, 168.86s/it]"
     ]
    },
    {
     "name": "stdout",
     "output_type": "stream",
     "text": [
      "[Epoch 87/200] [Batch 0/413] [D loss: 0.6142] [G loss: 0.2160] [GP: 0.0983] [W-dist: -0.6142]\n",
      "[Epoch 87/200] [Batch 50/413] [D loss: -0.1650] [G loss: 0.2697] [GP: 0.0314] [W-dist: 0.1650]\n",
      "[Epoch 87/200] [Batch 100/413] [D loss: -0.0243] [G loss: 0.1089] [GP: 0.0283] [W-dist: 0.0243]\n",
      "[Epoch 87/200] [Batch 150/413] [D loss: -0.5058] [G loss: 0.3287] [GP: 0.0059] [W-dist: 0.5058]\n",
      "[Epoch 87/200] [Batch 200/413] [D loss: -0.5627] [G loss: 0.3555] [GP: 0.0025] [W-dist: 0.5627]\n",
      "[Epoch 87/200] [Batch 250/413] [D loss: -0.4850] [G loss: 0.3244] [GP: 0.0057] [W-dist: 0.4850]\n",
      "[Epoch 87/200] [Batch 300/413] [D loss: -0.2636] [G loss: 0.3207] [GP: 0.0343] [W-dist: 0.2636]\n",
      "[Epoch 87/200] [Batch 350/413] [D loss: -0.3061] [G loss: 0.3292] [GP: 0.0180] [W-dist: 0.3061]\n",
      "[Epoch 87/200] [Batch 400/413] [D loss: -0.3546] [G loss: 0.3280] [GP: 0.0202] [W-dist: 0.3546]\n"
     ]
    },
    {
     "name": "stderr",
     "output_type": "stream",
     "text": [
      " 44%|████▍     | 88/200 [4:06:22<5:15:10, 168.84s/it]"
     ]
    },
    {
     "name": "stdout",
     "output_type": "stream",
     "text": [
      "[Epoch 88/200] [Batch 0/413] [D loss: -0.0630] [G loss: 0.2077] [GP: 0.0321] [W-dist: 0.0630]\n",
      "[Epoch 88/200] [Batch 50/413] [D loss: 0.4111] [G loss: 0.2819] [GP: 0.0678] [W-dist: -0.4111]\n",
      "[Epoch 88/200] [Batch 100/413] [D loss: -0.2141] [G loss: 0.2590] [GP: 0.0167] [W-dist: 0.2141]\n",
      "[Epoch 88/200] [Batch 150/413] [D loss: -0.1551] [G loss: 0.2626] [GP: 0.0204] [W-dist: 0.1551]\n",
      "[Epoch 88/200] [Batch 200/413] [D loss: -0.1668] [G loss: 0.3189] [GP: 0.0242] [W-dist: 0.1668]\n",
      "[Epoch 88/200] [Batch 250/413] [D loss: -0.3715] [G loss: 0.2652] [GP: 0.0065] [W-dist: 0.3715]\n",
      "[Epoch 88/200] [Batch 300/413] [D loss: -0.3414] [G loss: 0.2775] [GP: 0.0064] [W-dist: 0.3414]\n",
      "[Epoch 88/200] [Batch 350/413] [D loss: 0.6585] [G loss: 0.1835] [GP: 0.1020] [W-dist: -0.6585]\n",
      "[Epoch 88/200] [Batch 400/413] [D loss: -0.3341] [G loss: 0.2001] [GP: 0.0052] [W-dist: 0.3341]\n"
     ]
    },
    {
     "name": "stderr",
     "output_type": "stream",
     "text": [
      " 44%|████▍     | 89/200 [4:09:11<5:12:17, 168.80s/it]"
     ]
    },
    {
     "name": "stdout",
     "output_type": "stream",
     "text": [
      "[Epoch 89/200] [Batch 0/413] [D loss: -0.3270] [G loss: 0.3015] [GP: 0.0089] [W-dist: 0.3270]\n",
      "[Epoch 89/200] [Batch 50/413] [D loss: -0.4491] [G loss: 0.2614] [GP: 0.0023] [W-dist: 0.4491]\n",
      "[Epoch 89/200] [Batch 100/413] [D loss: -0.5389] [G loss: 0.3496] [GP: 0.0044] [W-dist: 0.5389]\n",
      "[Epoch 89/200] [Batch 150/413] [D loss: -0.3674] [G loss: 0.2869] [GP: 0.0117] [W-dist: 0.3674]\n",
      "[Epoch 89/200] [Batch 200/413] [D loss: -0.2278] [G loss: 0.1725] [GP: 0.0228] [W-dist: 0.2278]\n",
      "[Epoch 89/200] [Batch 250/413] [D loss: -0.4453] [G loss: 0.3640] [GP: 0.0110] [W-dist: 0.4453]\n",
      "[Epoch 89/200] [Batch 300/413] [D loss: -0.3354] [G loss: 0.2780] [GP: 0.0168] [W-dist: 0.3354]\n",
      "[Epoch 89/200] [Batch 350/413] [D loss: -0.0471] [G loss: 0.0818] [GP: 0.0404] [W-dist: 0.0471]\n",
      "[Epoch 89/200] [Batch 400/413] [D loss: -0.0164] [G loss: 0.2079] [GP: 0.0285] [W-dist: 0.0164]\n"
     ]
    },
    {
     "name": "stderr",
     "output_type": "stream",
     "text": [
      " 45%|████▌     | 90/200 [4:11:59<5:09:28, 168.80s/it]"
     ]
    },
    {
     "name": "stdout",
     "output_type": "stream",
     "text": [
      "[Epoch 90/200] [Batch 0/413] [D loss: -0.5069] [G loss: 0.3439] [GP: 0.0059] [W-dist: 0.5069]\n",
      "[Epoch 90/200] [Batch 50/413] [D loss: -0.2274] [G loss: 0.2516] [GP: 0.0192] [W-dist: 0.2274]\n",
      "[Epoch 90/200] [Batch 100/413] [D loss: -0.3858] [G loss: 0.2973] [GP: 0.0112] [W-dist: 0.3858]\n",
      "[Epoch 90/200] [Batch 150/413] [D loss: 0.1123] [G loss: 0.1909] [GP: 0.0485] [W-dist: -0.1123]\n",
      "[Epoch 90/200] [Batch 200/413] [D loss: 0.8776] [G loss: 0.1569] [GP: 0.1121] [W-dist: -0.8776]\n",
      "[Epoch 90/200] [Batch 250/413] [D loss: -0.2087] [G loss: 0.1666] [GP: 0.0193] [W-dist: 0.2087]\n",
      "[Epoch 90/200] [Batch 300/413] [D loss: -0.3053] [G loss: 0.2652] [GP: 0.0174] [W-dist: 0.3053]\n",
      "[Epoch 90/200] [Batch 350/413] [D loss: 3.1852] [G loss: 0.2428] [GP: 0.3323] [W-dist: -3.1852]\n",
      "[Epoch 90/200] [Batch 400/413] [D loss: -0.0441] [G loss: 0.1872] [GP: 0.0393] [W-dist: 0.0441]\n"
     ]
    },
    {
     "name": "stderr",
     "output_type": "stream",
     "text": [
      " 46%|████▌     | 91/200 [4:14:48<5:06:41, 168.82s/it]"
     ]
    },
    {
     "name": "stdout",
     "output_type": "stream",
     "text": [
      "[Epoch 91/200] [Batch 0/413] [D loss: -0.1832] [G loss: 0.2540] [GP: 0.0247] [W-dist: 0.1832]\n",
      "[Epoch 91/200] [Batch 50/413] [D loss: -0.4545] [G loss: 0.3099] [GP: 0.0117] [W-dist: 0.4545]\n",
      "[Epoch 91/200] [Batch 100/413] [D loss: -0.3690] [G loss: 0.2740] [GP: 0.0099] [W-dist: 0.3690]\n",
      "[Epoch 91/200] [Batch 150/413] [D loss: -0.3292] [G loss: 0.3087] [GP: 0.0125] [W-dist: 0.3292]\n",
      "[Epoch 91/200] [Batch 200/413] [D loss: -0.3048] [G loss: 0.2798] [GP: 0.0079] [W-dist: 0.3048]\n",
      "[Epoch 91/200] [Batch 250/413] [D loss: -0.2750] [G loss: 0.1834] [GP: 0.0104] [W-dist: 0.2750]\n",
      "[Epoch 91/200] [Batch 300/413] [D loss: -0.3533] [G loss: 0.2896] [GP: 0.0142] [W-dist: 0.3533]\n",
      "[Epoch 91/200] [Batch 350/413] [D loss: 1.8130] [G loss: 0.2359] [GP: 0.1878] [W-dist: -1.8130]\n",
      "[Epoch 91/200] [Batch 400/413] [D loss: 0.0540] [G loss: 0.2481] [GP: 0.0427] [W-dist: -0.0540]\n"
     ]
    },
    {
     "name": "stderr",
     "output_type": "stream",
     "text": [
      " 46%|████▌     | 92/200 [4:17:37<5:03:47, 168.78s/it]"
     ]
    },
    {
     "name": "stdout",
     "output_type": "stream",
     "text": [
      "[Epoch 92/200] [Batch 0/413] [D loss: -0.3616] [G loss: 0.2671] [GP: 0.0112] [W-dist: 0.3616]\n",
      "[Epoch 92/200] [Batch 50/413] [D loss: -0.2532] [G loss: 0.2592] [GP: 0.0074] [W-dist: 0.2532]\n",
      "[Epoch 92/200] [Batch 100/413] [D loss: 0.0515] [G loss: 0.0639] [GP: 0.0579] [W-dist: -0.0515]\n",
      "[Epoch 92/200] [Batch 150/413] [D loss: -0.2337] [G loss: 0.1944] [GP: 0.0289] [W-dist: 0.2337]\n",
      "[Epoch 92/200] [Batch 200/413] [D loss: -0.2696] [G loss: 0.2210] [GP: 0.0162] [W-dist: 0.2696]\n",
      "[Epoch 92/200] [Batch 250/413] [D loss: -0.1878] [G loss: 0.2604] [GP: 0.0138] [W-dist: 0.1878]\n",
      "[Epoch 92/200] [Batch 300/413] [D loss: -0.3640] [G loss: 0.2775] [GP: 0.0028] [W-dist: 0.3640]\n",
      "[Epoch 92/200] [Batch 350/413] [D loss: -0.5393] [G loss: 0.3217] [GP: 0.0024] [W-dist: 0.5393]\n",
      "[Epoch 92/200] [Batch 400/413] [D loss: -0.3845] [G loss: 0.2268] [GP: 0.0064] [W-dist: 0.3845]\n"
     ]
    },
    {
     "name": "stderr",
     "output_type": "stream",
     "text": [
      " 46%|████▋     | 93/200 [4:20:26<5:01:02, 168.81s/it]"
     ]
    },
    {
     "name": "stdout",
     "output_type": "stream",
     "text": [
      "[Epoch 93/200] [Batch 0/413] [D loss: -0.2805] [G loss: 0.2579] [GP: 0.0173] [W-dist: 0.2805]\n",
      "[Epoch 93/200] [Batch 50/413] [D loss: -0.3084] [G loss: 0.3220] [GP: 0.0178] [W-dist: 0.3084]\n",
      "[Epoch 93/200] [Batch 100/413] [D loss: -0.1875] [G loss: 0.2295] [GP: 0.0154] [W-dist: 0.1875]\n",
      "[Epoch 93/200] [Batch 150/413] [D loss: 0.0668] [G loss: 0.2578] [GP: 0.0491] [W-dist: -0.0668]\n",
      "[Epoch 93/200] [Batch 200/413] [D loss: -0.2484] [G loss: 0.1726] [GP: 0.0190] [W-dist: 0.2484]\n",
      "[Epoch 93/200] [Batch 250/413] [D loss: -0.0738] [G loss: 0.0248] [GP: 0.0163] [W-dist: 0.0738]\n",
      "[Epoch 93/200] [Batch 300/413] [D loss: -0.4076] [G loss: 0.2530] [GP: 0.0053] [W-dist: 0.4076]\n",
      "[Epoch 93/200] [Batch 350/413] [D loss: -0.5256] [G loss: 0.3597] [GP: 0.0039] [W-dist: 0.5256]\n",
      "[Epoch 93/200] [Batch 400/413] [D loss: -0.4461] [G loss: 0.3418] [GP: 0.0124] [W-dist: 0.4461]\n"
     ]
    },
    {
     "name": "stderr",
     "output_type": "stream",
     "text": [
      " 47%|████▋     | 94/200 [4:23:15<4:58:13, 168.81s/it]"
     ]
    },
    {
     "name": "stdout",
     "output_type": "stream",
     "text": [
      "[Epoch 94/200] [Batch 0/413] [D loss: -0.3335] [G loss: 0.3457] [GP: 0.0238] [W-dist: 0.3335]\n",
      "[Epoch 94/200] [Batch 50/413] [D loss: -0.5170] [G loss: 0.3422] [GP: 0.0041] [W-dist: 0.5170]\n",
      "[Epoch 94/200] [Batch 100/413] [D loss: -0.0893] [G loss: 0.2664] [GP: 0.0282] [W-dist: 0.0893]\n",
      "[Epoch 94/200] [Batch 150/413] [D loss: -0.1599] [G loss: 0.1890] [GP: 0.0242] [W-dist: 0.1599]\n",
      "[Epoch 94/200] [Batch 200/413] [D loss: -0.0534] [G loss: 0.2687] [GP: 0.0502] [W-dist: 0.0534]\n",
      "[Epoch 94/200] [Batch 250/413] [D loss: -0.3597] [G loss: 0.2454] [GP: 0.0086] [W-dist: 0.3597]\n",
      "[Epoch 94/200] [Batch 300/413] [D loss: -0.3931] [G loss: 0.3277] [GP: 0.0148] [W-dist: 0.3931]\n",
      "[Epoch 94/200] [Batch 350/413] [D loss: -0.2862] [G loss: 0.3026] [GP: 0.0195] [W-dist: 0.2862]\n",
      "[Epoch 94/200] [Batch 400/413] [D loss: -0.2759] [G loss: 0.2602] [GP: 0.0234] [W-dist: 0.2759]\n"
     ]
    },
    {
     "name": "stderr",
     "output_type": "stream",
     "text": [
      " 48%|████▊     | 95/200 [4:26:03<4:55:27, 168.84s/it]"
     ]
    },
    {
     "name": "stdout",
     "output_type": "stream",
     "text": [
      "[Epoch 95/200] [Batch 0/413] [D loss: 1.4293] [G loss: 0.2457] [GP: 0.1612] [W-dist: -1.4293]\n",
      "[Epoch 95/200] [Batch 50/413] [D loss: -0.4895] [G loss: 0.3314] [GP: 0.0070] [W-dist: 0.4895]\n",
      "[Epoch 95/200] [Batch 100/413] [D loss: -0.3106] [G loss: 0.2150] [GP: 0.0247] [W-dist: 0.3106]\n",
      "[Epoch 95/200] [Batch 150/413] [D loss: -0.0619] [G loss: -0.0717] [GP: 0.0281] [W-dist: 0.0619]\n",
      "[Epoch 95/200] [Batch 200/413] [D loss: -0.2919] [G loss: 0.2771] [GP: 0.0150] [W-dist: 0.2919]\n",
      "[Epoch 95/200] [Batch 250/413] [D loss: -0.5631] [G loss: 0.3384] [GP: 0.0040] [W-dist: 0.5631]\n",
      "[Epoch 95/200] [Batch 300/413] [D loss: -0.0791] [G loss: 0.1830] [GP: 0.0338] [W-dist: 0.0791]\n",
      "[Epoch 95/200] [Batch 350/413] [D loss: -0.4495] [G loss: 0.2562] [GP: 0.0052] [W-dist: 0.4495]\n",
      "[Epoch 95/200] [Batch 400/413] [D loss: -0.5121] [G loss: 0.3136] [GP: 0.0056] [W-dist: 0.5121]\n"
     ]
    },
    {
     "name": "stderr",
     "output_type": "stream",
     "text": [
      " 48%|████▊     | 96/200 [4:28:52<4:52:35, 168.80s/it]"
     ]
    },
    {
     "name": "stdout",
     "output_type": "stream",
     "text": [
      "[Epoch 96/200] [Batch 0/413] [D loss: -0.5325] [G loss: 0.3319] [GP: 0.0057] [W-dist: 0.5325]\n",
      "[Epoch 96/200] [Batch 50/413] [D loss: -0.1957] [G loss: 0.2374] [GP: 0.0205] [W-dist: 0.1957]\n",
      "[Epoch 96/200] [Batch 100/413] [D loss: 0.0440] [G loss: 0.2204] [GP: 0.0485] [W-dist: -0.0440]\n",
      "[Epoch 96/200] [Batch 150/413] [D loss: -0.5127] [G loss: 0.3069] [GP: 0.0043] [W-dist: 0.5127]\n",
      "[Epoch 96/200] [Batch 200/413] [D loss: -0.3180] [G loss: 0.2824] [GP: 0.0198] [W-dist: 0.3180]\n",
      "[Epoch 96/200] [Batch 250/413] [D loss: -0.3534] [G loss: 0.2794] [GP: 0.0128] [W-dist: 0.3534]\n",
      "[Epoch 96/200] [Batch 300/413] [D loss: -0.2580] [G loss: 0.2786] [GP: 0.0119] [W-dist: 0.2580]\n",
      "[Epoch 96/200] [Batch 350/413] [D loss: -0.1716] [G loss: 0.2786] [GP: 0.0319] [W-dist: 0.1716]\n",
      "[Epoch 96/200] [Batch 400/413] [D loss: -0.3160] [G loss: 0.2718] [GP: 0.0180] [W-dist: 0.3160]\n"
     ]
    },
    {
     "name": "stderr",
     "output_type": "stream",
     "text": [
      " 48%|████▊     | 97/200 [4:31:41<4:49:47, 168.81s/it]"
     ]
    },
    {
     "name": "stdout",
     "output_type": "stream",
     "text": [
      "[Epoch 97/200] [Batch 0/413] [D loss: -0.2559] [G loss: 0.1964] [GP: 0.0261] [W-dist: 0.2559]\n",
      "[Epoch 97/200] [Batch 50/413] [D loss: -0.3592] [G loss: 0.2405] [GP: 0.0106] [W-dist: 0.3592]\n",
      "[Epoch 97/200] [Batch 100/413] [D loss: -0.0989] [G loss: 0.2215] [GP: 0.0326] [W-dist: 0.0989]\n",
      "[Epoch 97/200] [Batch 150/413] [D loss: -0.3365] [G loss: 0.2595] [GP: 0.0072] [W-dist: 0.3365]\n",
      "[Epoch 97/200] [Batch 200/413] [D loss: -0.4916] [G loss: 0.2822] [GP: 0.0031] [W-dist: 0.4916]\n",
      "[Epoch 97/200] [Batch 250/413] [D loss: -0.5236] [G loss: 0.2969] [GP: 0.0041] [W-dist: 0.5236]\n",
      "[Epoch 97/200] [Batch 300/413] [D loss: -0.4943] [G loss: 0.2532] [GP: 0.0042] [W-dist: 0.4943]\n",
      "[Epoch 97/200] [Batch 350/413] [D loss: -0.4319] [G loss: 0.2530] [GP: 0.0082] [W-dist: 0.4319]\n",
      "[Epoch 97/200] [Batch 400/413] [D loss: -0.2435] [G loss: 0.1729] [GP: 0.0085] [W-dist: 0.2435]\n"
     ]
    },
    {
     "name": "stderr",
     "output_type": "stream",
     "text": [
      " 49%|████▉     | 98/200 [4:34:30<4:46:48, 168.71s/it]"
     ]
    },
    {
     "name": "stdout",
     "output_type": "stream",
     "text": [
      "[Epoch 98/200] [Batch 0/413] [D loss: -0.2441] [G loss: 0.2379] [GP: 0.0207] [W-dist: 0.2441]\n",
      "[Epoch 98/200] [Batch 50/413] [D loss: -0.3064] [G loss: 0.2794] [GP: 0.0167] [W-dist: 0.3064]\n",
      "[Epoch 98/200] [Batch 100/413] [D loss: -0.1344] [G loss: 0.2895] [GP: 0.0298] [W-dist: 0.1344]\n",
      "[Epoch 98/200] [Batch 150/413] [D loss: -0.4956] [G loss: 0.2892] [GP: 0.0081] [W-dist: 0.4956]\n",
      "[Epoch 98/200] [Batch 200/413] [D loss: -0.2448] [G loss: 0.2397] [GP: 0.0129] [W-dist: 0.2448]\n",
      "[Epoch 98/200] [Batch 250/413] [D loss: -0.3355] [G loss: 0.2895] [GP: 0.0144] [W-dist: 0.3355]\n",
      "[Epoch 98/200] [Batch 300/413] [D loss: 0.0371] [G loss: 0.0077] [GP: 0.0468] [W-dist: -0.0371]\n",
      "[Epoch 98/200] [Batch 350/413] [D loss: -0.3902] [G loss: 0.2272] [GP: 0.0052] [W-dist: 0.3902]\n",
      "[Epoch 98/200] [Batch 400/413] [D loss: -0.4757] [G loss: 0.2697] [GP: 0.0065] [W-dist: 0.4757]\n"
     ]
    },
    {
     "name": "stderr",
     "output_type": "stream",
     "text": [
      " 50%|████▉     | 99/200 [4:37:18<4:43:56, 168.68s/it]"
     ]
    },
    {
     "name": "stdout",
     "output_type": "stream",
     "text": [
      "[Epoch 99/200] [Batch 0/413] [D loss: -0.1605] [G loss: 0.2309] [GP: 0.0191] [W-dist: 0.1605]\n",
      "[Epoch 99/200] [Batch 50/413] [D loss: -0.3763] [G loss: 0.2646] [GP: 0.0155] [W-dist: 0.3763]\n",
      "[Epoch 99/200] [Batch 100/413] [D loss: -0.3106] [G loss: 0.2545] [GP: 0.0215] [W-dist: 0.3106]\n",
      "[Epoch 99/200] [Batch 150/413] [D loss: -0.0276] [G loss: 0.2083] [GP: 0.0300] [W-dist: 0.0276]\n",
      "[Epoch 99/200] [Batch 200/413] [D loss: -0.3155] [G loss: 0.2712] [GP: 0.0130] [W-dist: 0.3155]\n",
      "[Epoch 99/200] [Batch 250/413] [D loss: -0.4674] [G loss: 0.2902] [GP: 0.0057] [W-dist: 0.4674]\n",
      "[Epoch 99/200] [Batch 300/413] [D loss: -0.2788] [G loss: 0.2802] [GP: 0.0148] [W-dist: 0.2788]\n",
      "[Epoch 99/200] [Batch 350/413] [D loss: -0.3189] [G loss: 0.2550] [GP: 0.0100] [W-dist: 0.3189]\n",
      "[Epoch 99/200] [Batch 400/413] [D loss: -0.2901] [G loss: 0.2933] [GP: 0.0194] [W-dist: 0.2901]\n"
     ]
    },
    {
     "name": "stderr",
     "output_type": "stream",
     "text": [
      " 50%|█████     | 100/200 [4:40:06<4:40:57, 168.57s/it]"
     ]
    },
    {
     "name": "stdout",
     "output_type": "stream",
     "text": [
      "[Epoch 100/200] [Batch 0/413] [D loss: -0.4908] [G loss: 0.2920] [GP: 0.0049] [W-dist: 0.4908]\n",
      "[Epoch 100/200] [Batch 50/413] [D loss: 0.2127] [G loss: 0.1487] [GP: 0.0685] [W-dist: -0.2127]\n",
      "[Epoch 100/200] [Batch 100/413] [D loss: -0.4201] [G loss: 0.2692] [GP: 0.0079] [W-dist: 0.4201]\n",
      "[Epoch 100/200] [Batch 150/413] [D loss: 0.6779] [G loss: 0.2218] [GP: 0.1046] [W-dist: -0.6779]\n",
      "[Epoch 100/200] [Batch 200/413] [D loss: -0.2932] [G loss: 0.1354] [GP: 0.0075] [W-dist: 0.2932]\n",
      "[Epoch 100/200] [Batch 250/413] [D loss: -0.3997] [G loss: 0.2606] [GP: 0.0065] [W-dist: 0.3997]\n",
      "[Epoch 100/200] [Batch 300/413] [D loss: 0.1584] [G loss: 0.1459] [GP: 0.0597] [W-dist: -0.1584]\n",
      "[Epoch 100/200] [Batch 350/413] [D loss: -0.2239] [G loss: 0.1174] [GP: 0.0214] [W-dist: 0.2239]\n",
      "[Epoch 100/200] [Batch 400/413] [D loss: 0.0289] [G loss: 0.2353] [GP: 0.0418] [W-dist: -0.0289]\n"
     ]
    },
    {
     "name": "stderr",
     "output_type": "stream",
     "text": [
      " 50%|█████     | 101/200 [4:42:55<4:38:08, 168.57s/it]"
     ]
    },
    {
     "name": "stdout",
     "output_type": "stream",
     "text": [
      "[Epoch 101/200] [Batch 0/413] [D loss: 0.9544] [G loss: 0.1466] [GP: 0.1130] [W-dist: -0.9544]\n",
      "[Epoch 101/200] [Batch 50/413] [D loss: 0.2286] [G loss: 0.0220] [GP: 0.0356] [W-dist: -0.2286]\n",
      "[Epoch 101/200] [Batch 100/413] [D loss: 0.1544] [G loss: 0.0731] [GP: 0.0522] [W-dist: -0.1544]\n",
      "[Epoch 101/200] [Batch 150/413] [D loss: 0.4334] [G loss: 0.1335] [GP: 0.0797] [W-dist: -0.4334]\n",
      "[Epoch 101/200] [Batch 200/413] [D loss: -0.2153] [G loss: 0.1760] [GP: 0.0077] [W-dist: 0.2153]\n",
      "[Epoch 101/200] [Batch 250/413] [D loss: 0.0064] [G loss: 0.1418] [GP: 0.0307] [W-dist: -0.0064]\n",
      "[Epoch 101/200] [Batch 300/413] [D loss: -0.3953] [G loss: 0.2686] [GP: 0.0095] [W-dist: 0.3953]\n",
      "[Epoch 101/200] [Batch 350/413] [D loss: 0.3611] [G loss: 0.2571] [GP: 0.0713] [W-dist: -0.3611]\n",
      "[Epoch 101/200] [Batch 400/413] [D loss: -0.3334] [G loss: 0.2561] [GP: 0.0111] [W-dist: 0.3334]\n"
     ]
    },
    {
     "name": "stderr",
     "output_type": "stream",
     "text": [
      " 51%|█████     | 102/200 [4:45:44<4:35:23, 168.61s/it]"
     ]
    },
    {
     "name": "stdout",
     "output_type": "stream",
     "text": [
      "[Epoch 102/200] [Batch 0/413] [D loss: -0.2260] [G loss: 0.2682] [GP: 0.0201] [W-dist: 0.2260]\n",
      "[Epoch 102/200] [Batch 50/413] [D loss: -0.0712] [G loss: 0.1705] [GP: 0.0220] [W-dist: 0.0712]\n",
      "[Epoch 102/200] [Batch 100/413] [D loss: 0.1617] [G loss: -0.1665] [GP: 0.0416] [W-dist: -0.1617]\n",
      "[Epoch 102/200] [Batch 150/413] [D loss: 0.1417] [G loss: 0.0296] [GP: 0.0337] [W-dist: -0.1417]\n",
      "[Epoch 102/200] [Batch 200/413] [D loss: -0.4991] [G loss: 0.3071] [GP: 0.0034] [W-dist: 0.4991]\n",
      "[Epoch 102/200] [Batch 250/413] [D loss: -0.3214] [G loss: 0.2136] [GP: 0.0098] [W-dist: 0.3214]\n",
      "[Epoch 102/200] [Batch 300/413] [D loss: -0.0075] [G loss: 0.2014] [GP: 0.0350] [W-dist: 0.0075]\n",
      "[Epoch 102/200] [Batch 350/413] [D loss: -0.3475] [G loss: 0.2005] [GP: 0.0146] [W-dist: 0.3475]\n",
      "[Epoch 102/200] [Batch 400/413] [D loss: -0.4269] [G loss: 0.2176] [GP: 0.0024] [W-dist: 0.4269]\n"
     ]
    },
    {
     "name": "stderr",
     "output_type": "stream",
     "text": [
      " 52%|█████▏    | 103/200 [4:48:32<4:32:33, 168.59s/it]"
     ]
    },
    {
     "name": "stdout",
     "output_type": "stream",
     "text": [
      "[Epoch 103/200] [Batch 0/413] [D loss: -0.3015] [G loss: 0.1658] [GP: 0.0110] [W-dist: 0.3015]\n",
      "[Epoch 103/200] [Batch 50/413] [D loss: -0.2258] [G loss: 0.2052] [GP: 0.0128] [W-dist: 0.2258]\n",
      "[Epoch 103/200] [Batch 100/413] [D loss: -0.1422] [G loss: 0.2906] [GP: 0.0309] [W-dist: 0.1422]\n",
      "[Epoch 103/200] [Batch 150/413] [D loss: -0.4123] [G loss: 0.2138] [GP: 0.0033] [W-dist: 0.4123]\n",
      "[Epoch 103/200] [Batch 200/413] [D loss: 0.1248] [G loss: 0.1736] [GP: 0.0460] [W-dist: -0.1248]\n",
      "[Epoch 103/200] [Batch 250/413] [D loss: -0.4258] [G loss: 0.2265] [GP: 0.0051] [W-dist: 0.4258]\n",
      "[Epoch 103/200] [Batch 300/413] [D loss: -0.2092] [G loss: 0.1934] [GP: 0.0159] [W-dist: 0.2092]\n",
      "[Epoch 103/200] [Batch 350/413] [D loss: 0.0562] [G loss: -0.0012] [GP: 0.0139] [W-dist: -0.0562]\n",
      "[Epoch 103/200] [Batch 400/413] [D loss: -0.3492] [G loss: 0.2100] [GP: 0.0047] [W-dist: 0.3492]\n"
     ]
    },
    {
     "name": "stderr",
     "output_type": "stream",
     "text": [
      " 52%|█████▏    | 104/200 [4:51:21<4:29:41, 168.56s/it]"
     ]
    },
    {
     "name": "stdout",
     "output_type": "stream",
     "text": [
      "[Epoch 104/200] [Batch 0/413] [D loss: 1.2876] [G loss: 0.0635] [GP: 0.1446] [W-dist: -1.2876]\n",
      "[Epoch 104/200] [Batch 50/413] [D loss: -0.1087] [G loss: 0.1376] [GP: 0.0157] [W-dist: 0.1087]\n",
      "[Epoch 104/200] [Batch 100/413] [D loss: -0.2523] [G loss: 0.2038] [GP: 0.0130] [W-dist: 0.2523]\n",
      "[Epoch 104/200] [Batch 150/413] [D loss: -0.1724] [G loss: 0.1824] [GP: 0.0134] [W-dist: 0.1724]\n",
      "[Epoch 104/200] [Batch 200/413] [D loss: 0.1089] [G loss: 0.1780] [GP: 0.0371] [W-dist: -0.1089]\n",
      "[Epoch 104/200] [Batch 250/413] [D loss: -0.2075] [G loss: 0.1449] [GP: 0.0058] [W-dist: 0.2075]\n",
      "[Epoch 104/200] [Batch 300/413] [D loss: -0.2733] [G loss: 0.1266] [GP: 0.0076] [W-dist: 0.2733]\n",
      "[Epoch 104/200] [Batch 350/413] [D loss: -0.2375] [G loss: 0.1779] [GP: 0.0134] [W-dist: 0.2375]\n",
      "[Epoch 104/200] [Batch 400/413] [D loss: -0.3263] [G loss: 0.2555] [GP: 0.0150] [W-dist: 0.3263]\n"
     ]
    },
    {
     "name": "stderr",
     "output_type": "stream",
     "text": [
      " 52%|█████▎    | 105/200 [4:54:09<4:26:53, 168.56s/it]"
     ]
    },
    {
     "name": "stdout",
     "output_type": "stream",
     "text": [
      "[Epoch 105/200] [Batch 0/413] [D loss: -0.1935] [G loss: 0.1461] [GP: 0.0041] [W-dist: 0.1935]\n",
      "[Epoch 105/200] [Batch 50/413] [D loss: -0.3061] [G loss: 0.1352] [GP: 0.0063] [W-dist: 0.3061]\n",
      "[Epoch 105/200] [Batch 100/413] [D loss: -0.3316] [G loss: 0.2540] [GP: 0.0108] [W-dist: 0.3316]\n",
      "[Epoch 105/200] [Batch 150/413] [D loss: -0.3189] [G loss: 0.1450] [GP: 0.0124] [W-dist: 0.3189]\n",
      "[Epoch 105/200] [Batch 200/413] [D loss: -0.1655] [G loss: 0.1677] [GP: 0.0173] [W-dist: 0.1655]\n",
      "[Epoch 105/200] [Batch 250/413] [D loss: -0.0788] [G loss: 0.0335] [GP: 0.0121] [W-dist: 0.0788]\n",
      "[Epoch 105/200] [Batch 300/413] [D loss: -0.2595] [G loss: 0.1707] [GP: 0.0112] [W-dist: 0.2595]\n",
      "[Epoch 105/200] [Batch 350/413] [D loss: -0.2373] [G loss: 0.2353] [GP: 0.0147] [W-dist: 0.2373]\n",
      "[Epoch 105/200] [Batch 400/413] [D loss: -0.0763] [G loss: 0.1074] [GP: 0.0331] [W-dist: 0.0763]\n"
     ]
    },
    {
     "name": "stderr",
     "output_type": "stream",
     "text": [
      " 53%|█████▎    | 106/200 [4:56:58<4:24:06, 168.58s/it]"
     ]
    },
    {
     "name": "stdout",
     "output_type": "stream",
     "text": [
      "[Epoch 106/200] [Batch 0/413] [D loss: 0.1385] [G loss: 0.0043] [GP: 0.0460] [W-dist: -0.1385]\n",
      "[Epoch 106/200] [Batch 50/413] [D loss: 0.2289] [G loss: 0.1468] [GP: 0.0604] [W-dist: -0.2289]\n",
      "[Epoch 106/200] [Batch 100/413] [D loss: 0.2949] [G loss: 0.2556] [GP: 0.0565] [W-dist: -0.2949]\n",
      "[Epoch 106/200] [Batch 150/413] [D loss: -0.3205] [G loss: 0.1831] [GP: 0.0057] [W-dist: 0.3205]\n",
      "[Epoch 106/200] [Batch 200/413] [D loss: -0.3094] [G loss: 0.1672] [GP: 0.0090] [W-dist: 0.3094]\n",
      "[Epoch 106/200] [Batch 250/413] [D loss: -0.3104] [G loss: 0.1685] [GP: 0.0049] [W-dist: 0.3104]\n",
      "[Epoch 106/200] [Batch 300/413] [D loss: -0.1735] [G loss: 0.1722] [GP: 0.0169] [W-dist: 0.1735]\n",
      "[Epoch 106/200] [Batch 350/413] [D loss: 0.3515] [G loss: 0.1438] [GP: 0.0591] [W-dist: -0.3515]\n",
      "[Epoch 106/200] [Batch 400/413] [D loss: -0.3643] [G loss: 0.2312] [GP: 0.0046] [W-dist: 0.3643]\n"
     ]
    },
    {
     "name": "stderr",
     "output_type": "stream",
     "text": [
      " 54%|█████▎    | 107/200 [4:59:47<4:21:19, 168.60s/it]"
     ]
    },
    {
     "name": "stdout",
     "output_type": "stream",
     "text": [
      "[Epoch 107/200] [Batch 0/413] [D loss: 0.2167] [G loss: 0.1720] [GP: 0.0419] [W-dist: -0.2167]\n",
      "[Epoch 107/200] [Batch 50/413] [D loss: -0.3265] [G loss: 0.2164] [GP: 0.0065] [W-dist: 0.3265]\n",
      "[Epoch 107/200] [Batch 100/413] [D loss: -0.1440] [G loss: 0.1762] [GP: 0.0201] [W-dist: 0.1440]\n",
      "[Epoch 107/200] [Batch 150/413] [D loss: -0.4094] [G loss: 0.2664] [GP: 0.0040] [W-dist: 0.4094]\n",
      "[Epoch 107/200] [Batch 200/413] [D loss: -0.3635] [G loss: 0.2295] [GP: 0.0085] [W-dist: 0.3635]\n",
      "[Epoch 107/200] [Batch 250/413] [D loss: 0.0658] [G loss: 0.0522] [GP: 0.0290] [W-dist: -0.0658]\n",
      "[Epoch 107/200] [Batch 300/413] [D loss: 0.2347] [G loss: 0.1713] [GP: 0.0635] [W-dist: -0.2347]\n",
      "[Epoch 107/200] [Batch 350/413] [D loss: -0.2047] [G loss: 0.1173] [GP: 0.0072] [W-dist: 0.2047]\n",
      "[Epoch 107/200] [Batch 400/413] [D loss: 0.2980] [G loss: 0.1487] [GP: 0.0464] [W-dist: -0.2980]\n"
     ]
    },
    {
     "name": "stderr",
     "output_type": "stream",
     "text": [
      " 54%|█████▍    | 108/200 [5:02:35<4:18:31, 168.61s/it]"
     ]
    },
    {
     "name": "stdout",
     "output_type": "stream",
     "text": [
      "[Epoch 108/200] [Batch 0/413] [D loss: 0.2208] [G loss: 0.1189] [GP: 0.0389] [W-dist: -0.2208]\n",
      "[Epoch 108/200] [Batch 50/413] [D loss: -0.0167] [G loss: 0.0936] [GP: 0.0147] [W-dist: 0.0167]\n",
      "[Epoch 108/200] [Batch 100/413] [D loss: -0.0330] [G loss: 0.1295] [GP: 0.0261] [W-dist: 0.0330]\n",
      "[Epoch 108/200] [Batch 150/413] [D loss: -0.3557] [G loss: 0.2095] [GP: 0.0054] [W-dist: 0.3557]\n",
      "[Epoch 108/200] [Batch 200/413] [D loss: 0.1566] [G loss: 0.0675] [GP: 0.0487] [W-dist: -0.1566]\n",
      "[Epoch 108/200] [Batch 250/413] [D loss: 0.3148] [G loss: 0.0212] [GP: 0.0507] [W-dist: -0.3148]\n",
      "[Epoch 108/200] [Batch 300/413] [D loss: -0.0202] [G loss: 0.0299] [GP: 0.0093] [W-dist: 0.0202]\n",
      "[Epoch 108/200] [Batch 350/413] [D loss: -0.1339] [G loss: 0.1182] [GP: 0.0129] [W-dist: 0.1339]\n",
      "[Epoch 108/200] [Batch 400/413] [D loss: -0.3318] [G loss: 0.2155] [GP: 0.0042] [W-dist: 0.3318]\n"
     ]
    },
    {
     "name": "stderr",
     "output_type": "stream",
     "text": [
      " 55%|█████▍    | 109/200 [5:05:24<4:15:41, 168.59s/it]"
     ]
    },
    {
     "name": "stdout",
     "output_type": "stream",
     "text": [
      "[Epoch 109/200] [Batch 0/413] [D loss: -0.1008] [G loss: 0.0416] [GP: 0.0057] [W-dist: 0.1008]\n",
      "[Epoch 109/200] [Batch 50/413] [D loss: -0.1903] [G loss: 0.1620] [GP: 0.0172] [W-dist: 0.1903]\n",
      "[Epoch 109/200] [Batch 100/413] [D loss: -0.1087] [G loss: 0.1279] [GP: 0.0160] [W-dist: 0.1087]\n",
      "[Epoch 109/200] [Batch 150/413] [D loss: 0.7422] [G loss: 0.0703] [GP: 0.0974] [W-dist: -0.7422]\n",
      "[Epoch 109/200] [Batch 200/413] [D loss: -0.3508] [G loss: 0.2153] [GP: 0.0042] [W-dist: 0.3508]\n",
      "[Epoch 109/200] [Batch 250/413] [D loss: -0.2841] [G loss: 0.1678] [GP: 0.0028] [W-dist: 0.2841]\n",
      "[Epoch 109/200] [Batch 300/413] [D loss: -0.3309] [G loss: 0.2122] [GP: 0.0062] [W-dist: 0.3309]\n",
      "[Epoch 109/200] [Batch 350/413] [D loss: -0.2573] [G loss: 0.2089] [GP: 0.0114] [W-dist: 0.2573]\n",
      "[Epoch 109/200] [Batch 400/413] [D loss: -0.2115] [G loss: 0.2006] [GP: 0.0149] [W-dist: 0.2115]\n"
     ]
    },
    {
     "name": "stderr",
     "output_type": "stream",
     "text": [
      " 55%|█████▌    | 110/200 [5:08:12<4:12:53, 168.59s/it]"
     ]
    },
    {
     "name": "stdout",
     "output_type": "stream",
     "text": [
      "[Epoch 110/200] [Batch 0/413] [D loss: -0.2294] [G loss: 0.1472] [GP: 0.0039] [W-dist: 0.2294]\n",
      "[Epoch 110/200] [Batch 50/413] [D loss: -0.1447] [G loss: 0.1291] [GP: 0.0112] [W-dist: 0.1447]\n",
      "[Epoch 110/200] [Batch 100/413] [D loss: -0.1422] [G loss: 0.1430] [GP: 0.0159] [W-dist: 0.1422]\n",
      "[Epoch 110/200] [Batch 150/413] [D loss: -0.4370] [G loss: 0.2620] [GP: 0.0042] [W-dist: 0.4370]\n",
      "[Epoch 110/200] [Batch 200/413] [D loss: -0.3528] [G loss: 0.2305] [GP: 0.0038] [W-dist: 0.3528]\n",
      "[Epoch 110/200] [Batch 250/413] [D loss: -0.4436] [G loss: 0.2498] [GP: 0.0026] [W-dist: 0.4436]\n",
      "[Epoch 110/200] [Batch 300/413] [D loss: -0.1128] [G loss: 0.2129] [GP: 0.0249] [W-dist: 0.1128]\n",
      "[Epoch 110/200] [Batch 350/413] [D loss: -0.0149] [G loss: 0.0335] [GP: 0.0359] [W-dist: 0.0149]\n",
      "[Epoch 110/200] [Batch 400/413] [D loss: -0.4654] [G loss: 0.2421] [GP: 0.0051] [W-dist: 0.4654]\n"
     ]
    },
    {
     "name": "stderr",
     "output_type": "stream",
     "text": [
      " 56%|█████▌    | 111/200 [5:11:01<4:09:59, 168.54s/it]"
     ]
    },
    {
     "name": "stdout",
     "output_type": "stream",
     "text": [
      "[Epoch 111/200] [Batch 0/413] [D loss: -0.4236] [G loss: 0.2329] [GP: 0.0034] [W-dist: 0.4236]\n",
      "[Epoch 111/200] [Batch 50/413] [D loss: -0.0509] [G loss: 0.2394] [GP: 0.0303] [W-dist: 0.0509]\n",
      "[Epoch 111/200] [Batch 100/413] [D loss: -0.3325] [G loss: 0.2058] [GP: 0.0057] [W-dist: 0.3325]\n",
      "[Epoch 111/200] [Batch 150/413] [D loss: 0.4070] [G loss: 0.0509] [GP: 0.0511] [W-dist: -0.4070]\n",
      "[Epoch 111/200] [Batch 200/413] [D loss: -0.0665] [G loss: -0.0208] [GP: 0.0161] [W-dist: 0.0665]\n",
      "[Epoch 111/200] [Batch 250/413] [D loss: -0.3987] [G loss: 0.2402] [GP: 0.0057] [W-dist: 0.3987]\n",
      "[Epoch 111/200] [Batch 300/413] [D loss: -0.2590] [G loss: 0.2198] [GP: 0.0113] [W-dist: 0.2590]\n",
      "[Epoch 111/200] [Batch 350/413] [D loss: -0.2130] [G loss: 0.1937] [GP: 0.0170] [W-dist: 0.2130]\n",
      "[Epoch 111/200] [Batch 400/413] [D loss: -0.3077] [G loss: 0.1855] [GP: 0.0120] [W-dist: 0.3077]\n"
     ]
    },
    {
     "name": "stderr",
     "output_type": "stream",
     "text": [
      " 56%|█████▌    | 112/200 [5:13:49<4:07:14, 168.58s/it]"
     ]
    },
    {
     "name": "stdout",
     "output_type": "stream",
     "text": [
      "[Epoch 112/200] [Batch 0/413] [D loss: -0.2695] [G loss: 0.1817] [GP: 0.0116] [W-dist: 0.2695]\n",
      "[Epoch 112/200] [Batch 50/413] [D loss: -0.4106] [G loss: 0.2543] [GP: 0.0060] [W-dist: 0.4106]\n",
      "[Epoch 112/200] [Batch 100/413] [D loss: -0.1968] [G loss: 0.1079] [GP: 0.0300] [W-dist: 0.1968]\n",
      "[Epoch 112/200] [Batch 150/413] [D loss: -0.3543] [G loss: 0.1985] [GP: 0.0095] [W-dist: 0.3543]\n",
      "[Epoch 112/200] [Batch 200/413] [D loss: 0.0317] [G loss: 0.0562] [GP: 0.0273] [W-dist: -0.0317]\n",
      "[Epoch 112/200] [Batch 250/413] [D loss: -0.4079] [G loss: 0.2381] [GP: 0.0088] [W-dist: 0.4079]\n",
      "[Epoch 112/200] [Batch 300/413] [D loss: -0.2127] [G loss: 0.1578] [GP: 0.0149] [W-dist: 0.2127]\n",
      "[Epoch 112/200] [Batch 350/413] [D loss: -0.0777] [G loss: 0.2336] [GP: 0.0260] [W-dist: 0.0777]\n",
      "[Epoch 112/200] [Batch 400/413] [D loss: -0.3987] [G loss: 0.2275] [GP: 0.0054] [W-dist: 0.3987]\n"
     ]
    },
    {
     "name": "stderr",
     "output_type": "stream",
     "text": [
      " 56%|█████▋    | 113/200 [5:16:38<4:04:25, 168.57s/it]"
     ]
    },
    {
     "name": "stdout",
     "output_type": "stream",
     "text": [
      "[Epoch 113/200] [Batch 0/413] [D loss: -0.2145] [G loss: 0.1375] [GP: 0.0043] [W-dist: 0.2145]\n",
      "[Epoch 113/200] [Batch 50/413] [D loss: -0.2518] [G loss: 0.2352] [GP: 0.0169] [W-dist: 0.2518]\n",
      "[Epoch 113/200] [Batch 100/413] [D loss: 0.0742] [G loss: -0.0844] [GP: 0.0351] [W-dist: -0.0742]\n",
      "[Epoch 113/200] [Batch 150/413] [D loss: -0.3428] [G loss: 0.2266] [GP: 0.0111] [W-dist: 0.3428]\n",
      "[Epoch 113/200] [Batch 200/413] [D loss: 0.3580] [G loss: 0.1755] [GP: 0.0742] [W-dist: -0.3580]\n",
      "[Epoch 113/200] [Batch 250/413] [D loss: -0.2253] [G loss: 0.1622] [GP: 0.0085] [W-dist: 0.2253]\n",
      "[Epoch 113/200] [Batch 300/413] [D loss: -0.3180] [G loss: 0.2713] [GP: 0.0115] [W-dist: 0.3180]\n",
      "[Epoch 113/200] [Batch 350/413] [D loss: -0.4075] [G loss: 0.2453] [GP: 0.0047] [W-dist: 0.4075]\n",
      "[Epoch 113/200] [Batch 400/413] [D loss: -0.4236] [G loss: 0.2509] [GP: 0.0042] [W-dist: 0.4236]\n"
     ]
    },
    {
     "name": "stderr",
     "output_type": "stream",
     "text": [
      " 57%|█████▋    | 114/200 [5:19:27<4:01:37, 168.57s/it]"
     ]
    },
    {
     "name": "stdout",
     "output_type": "stream",
     "text": [
      "[Epoch 114/200] [Batch 0/413] [D loss: -0.1601] [G loss: 0.1122] [GP: 0.0050] [W-dist: 0.1601]\n",
      "[Epoch 114/200] [Batch 50/413] [D loss: -0.1945] [G loss: 0.1307] [GP: 0.0237] [W-dist: 0.1945]\n",
      "[Epoch 114/200] [Batch 100/413] [D loss: 0.5570] [G loss: 0.0752] [GP: 0.0682] [W-dist: -0.5570]\n",
      "[Epoch 114/200] [Batch 150/413] [D loss: -0.3415] [G loss: 0.2223] [GP: 0.0088] [W-dist: 0.3415]\n",
      "[Epoch 114/200] [Batch 200/413] [D loss: -0.3155] [G loss: 0.1948] [GP: 0.0087] [W-dist: 0.3155]\n",
      "[Epoch 114/200] [Batch 250/413] [D loss: -0.1487] [G loss: 0.1580] [GP: 0.0082] [W-dist: 0.1487]\n",
      "[Epoch 114/200] [Batch 300/413] [D loss: -0.1048] [G loss: 0.0953] [GP: 0.0329] [W-dist: 0.1048]\n",
      "[Epoch 114/200] [Batch 350/413] [D loss: -0.3722] [G loss: 0.2233] [GP: 0.0068] [W-dist: 0.3722]\n",
      "[Epoch 114/200] [Batch 400/413] [D loss: -0.4058] [G loss: 0.2564] [GP: 0.0032] [W-dist: 0.4058]\n"
     ]
    },
    {
     "name": "stderr",
     "output_type": "stream",
     "text": [
      " 57%|█████▊    | 115/200 [5:22:15<3:58:48, 168.57s/it]"
     ]
    },
    {
     "name": "stdout",
     "output_type": "stream",
     "text": [
      "[Epoch 115/200] [Batch 0/413] [D loss: -0.4561] [G loss: 0.2694] [GP: 0.0041] [W-dist: 0.4561]\n",
      "[Epoch 115/200] [Batch 50/413] [D loss: -0.2666] [G loss: 0.2052] [GP: 0.0123] [W-dist: 0.2666]\n",
      "[Epoch 115/200] [Batch 100/413] [D loss: -0.4030] [G loss: 0.2360] [GP: 0.0063] [W-dist: 0.4030]\n",
      "[Epoch 115/200] [Batch 150/413] [D loss: 0.8287] [G loss: 0.1898] [GP: 0.1025] [W-dist: -0.8287]\n",
      "[Epoch 115/200] [Batch 200/413] [D loss: -0.2069] [G loss: 0.1477] [GP: 0.0048] [W-dist: 0.2069]\n",
      "[Epoch 115/200] [Batch 250/413] [D loss: -0.3941] [G loss: 0.2460] [GP: 0.0095] [W-dist: 0.3941]\n",
      "[Epoch 115/200] [Batch 300/413] [D loss: -0.3106] [G loss: 0.2168] [GP: 0.0100] [W-dist: 0.3106]\n",
      "[Epoch 115/200] [Batch 350/413] [D loss: 2.7076] [G loss: 0.1133] [GP: 0.2800] [W-dist: -2.7076]\n",
      "[Epoch 115/200] [Batch 400/413] [D loss: -0.2834] [G loss: 0.1615] [GP: 0.0036] [W-dist: 0.2834]\n"
     ]
    },
    {
     "name": "stderr",
     "output_type": "stream",
     "text": [
      " 58%|█████▊    | 116/200 [5:25:03<3:55:52, 168.48s/it]"
     ]
    },
    {
     "name": "stdout",
     "output_type": "stream",
     "text": [
      "[Epoch 116/200] [Batch 0/413] [D loss: -0.0856] [G loss: 0.0644] [GP: 0.0088] [W-dist: 0.0856]\n",
      "[Epoch 116/200] [Batch 50/413] [D loss: -0.2998] [G loss: 0.2030] [GP: 0.0139] [W-dist: 0.2998]\n",
      "[Epoch 116/200] [Batch 100/413] [D loss: -0.3946] [G loss: 0.2336] [GP: 0.0037] [W-dist: 0.3946]\n",
      "[Epoch 116/200] [Batch 150/413] [D loss: 0.1692] [G loss: 0.0492] [GP: 0.0399] [W-dist: -0.1692]\n",
      "[Epoch 116/200] [Batch 200/413] [D loss: 0.4460] [G loss: 0.2105] [GP: 0.0667] [W-dist: -0.4460]\n",
      "[Epoch 116/200] [Batch 250/413] [D loss: -0.2081] [G loss: 0.1067] [GP: 0.0134] [W-dist: 0.2081]\n",
      "[Epoch 116/200] [Batch 300/413] [D loss: -0.0732] [G loss: 0.2110] [GP: 0.0339] [W-dist: 0.0732]\n",
      "[Epoch 116/200] [Batch 350/413] [D loss: -0.2845] [G loss: 0.1834] [GP: 0.0077] [W-dist: 0.2845]\n",
      "[Epoch 116/200] [Batch 400/413] [D loss: -0.3847] [G loss: 0.2252] [GP: 0.0089] [W-dist: 0.3847]\n"
     ]
    },
    {
     "name": "stderr",
     "output_type": "stream",
     "text": [
      " 58%|█████▊    | 117/200 [5:27:52<3:53:14, 168.61s/it]"
     ]
    },
    {
     "name": "stdout",
     "output_type": "stream",
     "text": [
      "[Epoch 117/200] [Batch 0/413] [D loss: -0.3408] [G loss: 0.1936] [GP: 0.0043] [W-dist: 0.3408]\n",
      "[Epoch 117/200] [Batch 50/413] [D loss: -0.2435] [G loss: 0.1756] [GP: 0.0033] [W-dist: 0.2435]\n",
      "[Epoch 117/200] [Batch 100/413] [D loss: -0.2189] [G loss: 0.1821] [GP: 0.0064] [W-dist: 0.2189]\n",
      "[Epoch 117/200] [Batch 150/413] [D loss: 0.0234] [G loss: -0.0623] [GP: 0.0443] [W-dist: -0.0234]\n",
      "[Epoch 117/200] [Batch 200/413] [D loss: 0.1321] [G loss: 0.1905] [GP: 0.0385] [W-dist: -0.1321]\n",
      "[Epoch 117/200] [Batch 250/413] [D loss: -0.3638] [G loss: 0.2176] [GP: 0.0037] [W-dist: 0.3638]\n",
      "[Epoch 117/200] [Batch 300/413] [D loss: -0.3265] [G loss: 0.2050] [GP: 0.0060] [W-dist: 0.3265]\n",
      "[Epoch 117/200] [Batch 350/413] [D loss: -0.3561] [G loss: 0.2332] [GP: 0.0123] [W-dist: 0.3561]\n",
      "[Epoch 117/200] [Batch 400/413] [D loss: -0.2068] [G loss: 0.1470] [GP: 0.0088] [W-dist: 0.2068]\n"
     ]
    },
    {
     "name": "stderr",
     "output_type": "stream",
     "text": [
      " 59%|█████▉    | 118/200 [5:30:42<3:50:59, 169.02s/it]"
     ]
    },
    {
     "name": "stdout",
     "output_type": "stream",
     "text": [
      "[Epoch 118/200] [Batch 0/413] [D loss: -0.2228] [G loss: 0.1606] [GP: 0.0141] [W-dist: 0.2228]\n",
      "[Epoch 118/200] [Batch 50/413] [D loss: -0.1531] [G loss: 0.1315] [GP: 0.0243] [W-dist: 0.1531]\n",
      "[Epoch 118/200] [Batch 100/413] [D loss: -0.1551] [G loss: 0.2400] [GP: 0.0258] [W-dist: 0.1551]\n",
      "[Epoch 118/200] [Batch 150/413] [D loss: -0.4055] [G loss: 0.2254] [GP: 0.0034] [W-dist: 0.4055]\n",
      "[Epoch 118/200] [Batch 200/413] [D loss: -0.4189] [G loss: 0.2571] [GP: 0.0064] [W-dist: 0.4189]\n",
      "[Epoch 118/200] [Batch 250/413] [D loss: 0.1286] [G loss: 0.0709] [GP: 0.0380] [W-dist: -0.1286]\n",
      "[Epoch 118/200] [Batch 300/413] [D loss: -0.3848] [G loss: 0.2115] [GP: 0.0054] [W-dist: 0.3848]\n",
      "[Epoch 118/200] [Batch 350/413] [D loss: -0.3515] [G loss: 0.1799] [GP: 0.0064] [W-dist: 0.3515]\n",
      "[Epoch 118/200] [Batch 400/413] [D loss: 0.0577] [G loss: -0.0089] [GP: 0.0438] [W-dist: -0.0577]\n"
     ]
    },
    {
     "name": "stderr",
     "output_type": "stream",
     "text": [
      " 60%|█████▉    | 119/200 [5:33:31<3:48:05, 168.96s/it]"
     ]
    },
    {
     "name": "stdout",
     "output_type": "stream",
     "text": [
      "[Epoch 119/200] [Batch 0/413] [D loss: -0.3870] [G loss: 0.2313] [GP: 0.0062] [W-dist: 0.3870]\n",
      "[Epoch 119/200] [Batch 50/413] [D loss: 0.6895] [G loss: 0.2197] [GP: 0.1014] [W-dist: -0.6895]\n",
      "[Epoch 119/200] [Batch 100/413] [D loss: -0.2223] [G loss: 0.1255] [GP: 0.0202] [W-dist: 0.2223]\n",
      "[Epoch 119/200] [Batch 150/413] [D loss: -0.3905] [G loss: 0.2212] [GP: 0.0076] [W-dist: 0.3905]\n",
      "[Epoch 119/200] [Batch 200/413] [D loss: -0.3165] [G loss: 0.2260] [GP: 0.0130] [W-dist: 0.3165]\n",
      "[Epoch 119/200] [Batch 250/413] [D loss: -0.3720] [G loss: 0.2261] [GP: 0.0056] [W-dist: 0.3720]\n",
      "[Epoch 119/200] [Batch 300/413] [D loss: -0.0540] [G loss: 0.2038] [GP: 0.0249] [W-dist: 0.0540]\n",
      "[Epoch 119/200] [Batch 350/413] [D loss: -0.4375] [G loss: 0.2480] [GP: 0.0024] [W-dist: 0.4375]\n",
      "[Epoch 119/200] [Batch 400/413] [D loss: 0.3504] [G loss: 0.0787] [GP: 0.0429] [W-dist: -0.3504]\n"
     ]
    },
    {
     "name": "stderr",
     "output_type": "stream",
     "text": [
      " 60%|██████    | 120/200 [5:36:20<3:45:09, 168.87s/it]"
     ]
    },
    {
     "name": "stdout",
     "output_type": "stream",
     "text": [
      "[Epoch 120/200] [Batch 0/413] [D loss: -0.2579] [G loss: 0.1646] [GP: 0.0107] [W-dist: 0.2579]\n",
      "[Epoch 120/200] [Batch 50/413] [D loss: -0.4025] [G loss: 0.2141] [GP: 0.0041] [W-dist: 0.4025]\n",
      "[Epoch 120/200] [Batch 100/413] [D loss: -0.3007] [G loss: 0.1938] [GP: 0.0112] [W-dist: 0.3007]\n",
      "[Epoch 120/200] [Batch 150/413] [D loss: 0.1035] [G loss: 0.0096] [GP: 0.0084] [W-dist: -0.1035]\n",
      "[Epoch 120/200] [Batch 200/413] [D loss: -0.3761] [G loss: 0.2391] [GP: 0.0093] [W-dist: 0.3761]\n",
      "[Epoch 120/200] [Batch 250/413] [D loss: -0.3029] [G loss: 0.2102] [GP: 0.0093] [W-dist: 0.3029]\n",
      "[Epoch 120/200] [Batch 300/413] [D loss: -0.3252] [G loss: 0.2045] [GP: 0.0119] [W-dist: 0.3252]\n",
      "[Epoch 120/200] [Batch 350/413] [D loss: -0.4295] [G loss: 0.2277] [GP: 0.0030] [W-dist: 0.4295]\n",
      "[Epoch 120/200] [Batch 400/413] [D loss: -0.2230] [G loss: 0.2259] [GP: 0.0229] [W-dist: 0.2230]\n"
     ]
    },
    {
     "name": "stderr",
     "output_type": "stream",
     "text": [
      " 60%|██████    | 121/200 [5:39:09<3:42:20, 168.87s/it]"
     ]
    },
    {
     "name": "stdout",
     "output_type": "stream",
     "text": [
      "[Epoch 121/200] [Batch 0/413] [D loss: -0.2824] [G loss: 0.2196] [GP: 0.0138] [W-dist: 0.2824]\n",
      "[Epoch 121/200] [Batch 50/413] [D loss: 1.5929] [G loss: -0.0473] [GP: 0.1514] [W-dist: -1.5929]\n",
      "[Epoch 121/200] [Batch 100/413] [D loss: 1.9164] [G loss: -0.0827] [GP: 0.1853] [W-dist: -1.9164]\n",
      "[Epoch 121/200] [Batch 150/413] [D loss: 2.8486] [G loss: -0.1044] [GP: 0.2778] [W-dist: -2.8486]\n",
      "[Epoch 121/200] [Batch 200/413] [D loss: 2.6100] [G loss: -0.1104] [GP: 0.2528] [W-dist: -2.6100]\n",
      "[Epoch 121/200] [Batch 250/413] [D loss: 2.8375] [G loss: -0.0436] [GP: 0.2875] [W-dist: -2.8375]\n",
      "[Epoch 121/200] [Batch 300/413] [D loss: 2.8879] [G loss: -0.0735] [GP: 0.2864] [W-dist: -2.8879]\n",
      "[Epoch 121/200] [Batch 350/413] [D loss: 2.7931] [G loss: -0.0930] [GP: 0.2711] [W-dist: -2.7931]\n",
      "[Epoch 121/200] [Batch 400/413] [D loss: 3.7342] [G loss: -0.0122] [GP: 0.3692] [W-dist: -3.7342]\n"
     ]
    },
    {
     "name": "stderr",
     "output_type": "stream",
     "text": [
      " 61%|██████    | 122/200 [5:41:57<3:39:27, 168.82s/it]"
     ]
    },
    {
     "name": "stdout",
     "output_type": "stream",
     "text": [
      "[Epoch 122/200] [Batch 0/413] [D loss: 2.1642] [G loss: -0.0439] [GP: 0.2141] [W-dist: -2.1642]\n",
      "[Epoch 122/200] [Batch 50/413] [D loss: 2.6888] [G loss: -0.0574] [GP: 0.2676] [W-dist: -2.6888]\n",
      "[Epoch 122/200] [Batch 100/413] [D loss: 3.5272] [G loss: -0.0483] [GP: 0.3461] [W-dist: -3.5272]\n",
      "[Epoch 122/200] [Batch 150/413] [D loss: 1.8637] [G loss: -0.0530] [GP: 0.1872] [W-dist: -1.8637]\n",
      "[Epoch 122/200] [Batch 200/413] [D loss: 1.0556] [G loss: -0.0633] [GP: 0.0989] [W-dist: -1.0556]\n",
      "[Epoch 122/200] [Batch 250/413] [D loss: 4.7992] [G loss: -0.0638] [GP: 0.4754] [W-dist: -4.7992]\n",
      "[Epoch 122/200] [Batch 300/413] [D loss: 0.5702] [G loss: -0.0268] [GP: 0.0571] [W-dist: -0.5702]\n",
      "[Epoch 122/200] [Batch 350/413] [D loss: 4.0311] [G loss: -0.0675] [GP: 0.4032] [W-dist: -4.0311]\n",
      "[Epoch 122/200] [Batch 400/413] [D loss: 0.8301] [G loss: -0.0310] [GP: 0.0783] [W-dist: -0.8301]\n"
     ]
    },
    {
     "name": "stderr",
     "output_type": "stream",
     "text": [
      " 62%|██████▏   | 123/200 [5:44:46<3:36:32, 168.73s/it]"
     ]
    },
    {
     "name": "stdout",
     "output_type": "stream",
     "text": [
      "[Epoch 123/200] [Batch 0/413] [D loss: 2.3295] [G loss: -0.0276] [GP: 0.2314] [W-dist: -2.3295]\n",
      "[Epoch 123/200] [Batch 50/413] [D loss: 0.6636] [G loss: -0.0333] [GP: 0.0622] [W-dist: -0.6636]\n",
      "[Epoch 123/200] [Batch 100/413] [D loss: 3.9930] [G loss: -0.0700] [GP: 0.4062] [W-dist: -3.9930]\n",
      "[Epoch 123/200] [Batch 150/413] [D loss: 3.1857] [G loss: -0.0425] [GP: 0.3170] [W-dist: -3.1857]\n",
      "[Epoch 123/200] [Batch 200/413] [D loss: 2.4463] [G loss: -0.0825] [GP: 0.2410] [W-dist: -2.4463]\n",
      "[Epoch 123/200] [Batch 250/413] [D loss: 2.2745] [G loss: -0.0897] [GP: 0.2229] [W-dist: -2.2745]\n",
      "[Epoch 123/200] [Batch 300/413] [D loss: 2.8813] [G loss: -0.0473] [GP: 0.2832] [W-dist: -2.8813]\n",
      "[Epoch 123/200] [Batch 350/413] [D loss: 1.5367] [G loss: -0.0725] [GP: 0.1547] [W-dist: -1.5367]\n",
      "[Epoch 123/200] [Batch 400/413] [D loss: 2.1893] [G loss: -0.0537] [GP: 0.2159] [W-dist: -2.1893]\n"
     ]
    },
    {
     "name": "stderr",
     "output_type": "stream",
     "text": [
      " 62%|██████▏   | 124/200 [5:47:35<3:33:44, 168.75s/it]"
     ]
    },
    {
     "name": "stdout",
     "output_type": "stream",
     "text": [
      "[Epoch 124/200] [Batch 0/413] [D loss: 2.7721] [G loss: -0.1186] [GP: 0.2781] [W-dist: -2.7721]\n",
      "[Epoch 124/200] [Batch 50/413] [D loss: 1.0147] [G loss: -0.0333] [GP: 0.1014] [W-dist: -1.0147]\n",
      "[Epoch 124/200] [Batch 100/413] [D loss: 2.7882] [G loss: -0.0972] [GP: 0.2826] [W-dist: -2.7882]\n",
      "[Epoch 124/200] [Batch 150/413] [D loss: 2.2018] [G loss: 0.0119] [GP: 0.2164] [W-dist: -2.2018]\n",
      "[Epoch 124/200] [Batch 200/413] [D loss: 2.3049] [G loss: -0.0153] [GP: 0.2259] [W-dist: -2.3049]\n",
      "[Epoch 124/200] [Batch 250/413] [D loss: 1.6174] [G loss: -0.0354] [GP: 0.1589] [W-dist: -1.6174]\n",
      "[Epoch 124/200] [Batch 300/413] [D loss: 1.2507] [G loss: -0.0620] [GP: 0.1201] [W-dist: -1.2507]\n",
      "[Epoch 124/200] [Batch 350/413] [D loss: 1.5096] [G loss: -0.0299] [GP: 0.1468] [W-dist: -1.5096]\n",
      "[Epoch 124/200] [Batch 400/413] [D loss: 0.9350] [G loss: -0.0104] [GP: 0.0915] [W-dist: -0.9350]\n"
     ]
    },
    {
     "name": "stderr",
     "output_type": "stream",
     "text": [
      " 62%|██████▎   | 125/200 [5:50:23<3:30:56, 168.75s/it]"
     ]
    },
    {
     "name": "stdout",
     "output_type": "stream",
     "text": [
      "[Epoch 125/200] [Batch 0/413] [D loss: 0.7942] [G loss: -0.0017] [GP: 0.0808] [W-dist: -0.7942]\n",
      "[Epoch 125/200] [Batch 50/413] [D loss: 2.1995] [G loss: -0.0325] [GP: 0.2154] [W-dist: -2.1995]\n",
      "[Epoch 125/200] [Batch 100/413] [D loss: 1.6662] [G loss: -0.0314] [GP: 0.1642] [W-dist: -1.6662]\n",
      "[Epoch 125/200] [Batch 150/413] [D loss: 1.9440] [G loss: -0.0676] [GP: 0.1942] [W-dist: -1.9440]\n",
      "[Epoch 125/200] [Batch 200/413] [D loss: 1.3230] [G loss: -0.0602] [GP: 0.1310] [W-dist: -1.3230]\n",
      "[Epoch 125/200] [Batch 250/413] [D loss: 1.7425] [G loss: -0.0398] [GP: 0.1740] [W-dist: -1.7425]\n",
      "[Epoch 125/200] [Batch 300/413] [D loss: 3.9699] [G loss: -0.0283] [GP: 0.3972] [W-dist: -3.9699]\n",
      "[Epoch 125/200] [Batch 350/413] [D loss: 1.6764] [G loss: -0.0624] [GP: 0.1677] [W-dist: -1.6764]\n",
      "[Epoch 125/200] [Batch 400/413] [D loss: 2.7961] [G loss: -0.0548] [GP: 0.2782] [W-dist: -2.7961]\n"
     ]
    },
    {
     "name": "stderr",
     "output_type": "stream",
     "text": [
      " 63%|██████▎   | 126/200 [5:53:12<3:28:08, 168.77s/it]"
     ]
    },
    {
     "name": "stdout",
     "output_type": "stream",
     "text": [
      "[Epoch 126/200] [Batch 0/413] [D loss: 2.0620] [G loss: -0.0280] [GP: 0.2052] [W-dist: -2.0620]\n",
      "[Epoch 126/200] [Batch 50/413] [D loss: 1.2660] [G loss: -0.0519] [GP: 0.1251] [W-dist: -1.2660]\n",
      "[Epoch 126/200] [Batch 100/413] [D loss: 1.3774] [G loss: -0.0263] [GP: 0.1377] [W-dist: -1.3774]\n",
      "[Epoch 126/200] [Batch 150/413] [D loss: 2.4938] [G loss: -0.0446] [GP: 0.2466] [W-dist: -2.4938]\n",
      "[Epoch 126/200] [Batch 200/413] [D loss: 1.7934] [G loss: -0.0644] [GP: 0.1814] [W-dist: -1.7934]\n",
      "[Epoch 126/200] [Batch 250/413] [D loss: 1.2938] [G loss: -0.0246] [GP: 0.1280] [W-dist: -1.2938]\n",
      "[Epoch 126/200] [Batch 300/413] [D loss: 1.3848] [G loss: -0.0279] [GP: 0.1373] [W-dist: -1.3848]\n",
      "[Epoch 126/200] [Batch 350/413] [D loss: 2.2849] [G loss: -0.0522] [GP: 0.2271] [W-dist: -2.2849]\n",
      "[Epoch 126/200] [Batch 400/413] [D loss: 1.9191] [G loss: -0.0563] [GP: 0.1895] [W-dist: -1.9191]\n"
     ]
    },
    {
     "name": "stderr",
     "output_type": "stream",
     "text": [
      " 64%|██████▎   | 127/200 [5:56:01<3:25:18, 168.75s/it]"
     ]
    },
    {
     "name": "stdout",
     "output_type": "stream",
     "text": [
      "[Epoch 127/200] [Batch 0/413] [D loss: 1.6160] [G loss: -0.0417] [GP: 0.1598] [W-dist: -1.6160]\n",
      "[Epoch 127/200] [Batch 50/413] [D loss: 5.0115] [G loss: -0.0523] [GP: 0.4991] [W-dist: -5.0115]\n",
      "[Epoch 127/200] [Batch 100/413] [D loss: 1.5057] [G loss: -0.0197] [GP: 0.1499] [W-dist: -1.5057]\n",
      "[Epoch 127/200] [Batch 150/413] [D loss: 8.0745] [G loss: -0.0732] [GP: 0.8026] [W-dist: -8.0745]\n",
      "[Epoch 127/200] [Batch 200/413] [D loss: 1.7240] [G loss: -0.0217] [GP: 0.1714] [W-dist: -1.7240]\n",
      "[Epoch 127/200] [Batch 250/413] [D loss: 1.5526] [G loss: -0.0496] [GP: 0.1565] [W-dist: -1.5526]\n",
      "[Epoch 127/200] [Batch 300/413] [D loss: 1.7326] [G loss: -0.0735] [GP: 0.1733] [W-dist: -1.7326]\n",
      "[Epoch 127/200] [Batch 350/413] [D loss: 1.6679] [G loss: -0.0298] [GP: 0.1655] [W-dist: -1.6679]\n",
      "[Epoch 127/200] [Batch 400/413] [D loss: 3.1551] [G loss: -0.0107] [GP: 0.3142] [W-dist: -3.1551]\n"
     ]
    },
    {
     "name": "stderr",
     "output_type": "stream",
     "text": [
      " 64%|██████▍   | 128/200 [5:58:50<3:22:31, 168.78s/it]"
     ]
    },
    {
     "name": "stdout",
     "output_type": "stream",
     "text": [
      "[Epoch 128/200] [Batch 0/413] [D loss: 3.3173] [G loss: -0.0850] [GP: 0.3275] [W-dist: -3.3173]\n",
      "[Epoch 128/200] [Batch 50/413] [D loss: 2.2418] [G loss: -0.0770] [GP: 0.2218] [W-dist: -2.2418]\n",
      "[Epoch 128/200] [Batch 100/413] [D loss: 2.8341] [G loss: -0.0286] [GP: 0.2797] [W-dist: -2.8341]\n",
      "[Epoch 128/200] [Batch 150/413] [D loss: 1.6158] [G loss: -0.0252] [GP: 0.1596] [W-dist: -1.6158]\n",
      "[Epoch 128/200] [Batch 200/413] [D loss: 2.4193] [G loss: -0.0310] [GP: 0.2388] [W-dist: -2.4193]\n",
      "[Epoch 128/200] [Batch 250/413] [D loss: 1.1180] [G loss: -0.0454] [GP: 0.1123] [W-dist: -1.1180]\n",
      "[Epoch 128/200] [Batch 300/413] [D loss: 1.5669] [G loss: -0.0491] [GP: 0.1579] [W-dist: -1.5669]\n",
      "[Epoch 128/200] [Batch 350/413] [D loss: 2.3056] [G loss: -0.0062] [GP: 0.2269] [W-dist: -2.3056]\n",
      "[Epoch 128/200] [Batch 400/413] [D loss: 1.4975] [G loss: -0.0249] [GP: 0.1502] [W-dist: -1.4975]\n"
     ]
    },
    {
     "name": "stderr",
     "output_type": "stream",
     "text": [
      " 64%|██████▍   | 129/200 [6:01:38<3:19:41, 168.76s/it]"
     ]
    },
    {
     "name": "stdout",
     "output_type": "stream",
     "text": [
      "[Epoch 129/200] [Batch 0/413] [D loss: 1.9114] [G loss: -0.0286] [GP: 0.1909] [W-dist: -1.9114]\n",
      "[Epoch 129/200] [Batch 50/413] [D loss: 1.5823] [G loss: -0.0640] [GP: 0.1604] [W-dist: -1.5823]\n",
      "[Epoch 129/200] [Batch 100/413] [D loss: 4.3490] [G loss: -0.0206] [GP: 0.4374] [W-dist: -4.3490]\n",
      "[Epoch 129/200] [Batch 150/413] [D loss: 2.0867] [G loss: -0.0383] [GP: 0.2048] [W-dist: -2.0867]\n",
      "[Epoch 129/200] [Batch 200/413] [D loss: 0.7708] [G loss: -0.0244] [GP: 0.0785] [W-dist: -0.7708]\n",
      "[Epoch 129/200] [Batch 250/413] [D loss: 1.6252] [G loss: -0.0237] [GP: 0.1610] [W-dist: -1.6252]\n",
      "[Epoch 129/200] [Batch 300/413] [D loss: 1.5730] [G loss: -0.0323] [GP: 0.1549] [W-dist: -1.5730]\n",
      "[Epoch 129/200] [Batch 350/413] [D loss: 2.2900] [G loss: -0.0561] [GP: 0.2271] [W-dist: -2.2900]\n",
      "[Epoch 129/200] [Batch 400/413] [D loss: 1.4908] [G loss: -0.0488] [GP: 0.1488] [W-dist: -1.4908]\n"
     ]
    },
    {
     "name": "stderr",
     "output_type": "stream",
     "text": [
      " 65%|██████▌   | 130/200 [6:04:27<3:16:53, 168.77s/it]"
     ]
    },
    {
     "name": "stdout",
     "output_type": "stream",
     "text": [
      "[Epoch 130/200] [Batch 0/413] [D loss: 1.8879] [G loss: -0.0822] [GP: 0.1908] [W-dist: -1.8879]\n",
      "[Epoch 130/200] [Batch 50/413] [D loss: 0.9492] [G loss: -0.0239] [GP: 0.0928] [W-dist: -0.9492]\n",
      "[Epoch 130/200] [Batch 100/413] [D loss: 1.7152] [G loss: -0.0247] [GP: 0.1746] [W-dist: -1.7152]\n",
      "[Epoch 130/200] [Batch 150/413] [D loss: 1.8904] [G loss: -0.0775] [GP: 0.1871] [W-dist: -1.8904]\n",
      "[Epoch 130/200] [Batch 200/413] [D loss: 1.2521] [G loss: -0.0611] [GP: 0.1243] [W-dist: -1.2521]\n",
      "[Epoch 130/200] [Batch 250/413] [D loss: 1.5532] [G loss: -0.0217] [GP: 0.1551] [W-dist: -1.5532]\n",
      "[Epoch 130/200] [Batch 300/413] [D loss: 1.3620] [G loss: -0.0571] [GP: 0.1344] [W-dist: -1.3620]\n",
      "[Epoch 130/200] [Batch 350/413] [D loss: 2.9653] [G loss: -0.0736] [GP: 0.2973] [W-dist: -2.9653]\n",
      "[Epoch 130/200] [Batch 400/413] [D loss: 1.7588] [G loss: -0.0377] [GP: 0.1730] [W-dist: -1.7588]\n"
     ]
    },
    {
     "name": "stderr",
     "output_type": "stream",
     "text": [
      " 66%|██████▌   | 131/200 [6:07:16<3:14:03, 168.74s/it]"
     ]
    },
    {
     "name": "stdout",
     "output_type": "stream",
     "text": [
      "[Epoch 131/200] [Batch 0/413] [D loss: 3.2787] [G loss: -0.0202] [GP: 0.3294] [W-dist: -3.2787]\n",
      "[Epoch 131/200] [Batch 50/413] [D loss: 1.7902] [G loss: -0.0439] [GP: 0.1768] [W-dist: -1.7902]\n",
      "[Epoch 131/200] [Batch 100/413] [D loss: 1.5144] [G loss: -0.0563] [GP: 0.1482] [W-dist: -1.5144]\n",
      "[Epoch 131/200] [Batch 150/413] [D loss: 1.2271] [G loss: -0.0872] [GP: 0.1228] [W-dist: -1.2271]\n",
      "[Epoch 131/200] [Batch 200/413] [D loss: 3.0543] [G loss: -0.0100] [GP: 0.3070] [W-dist: -3.0543]\n",
      "[Epoch 131/200] [Batch 250/413] [D loss: 2.0106] [G loss: -0.0872] [GP: 0.2016] [W-dist: -2.0106]\n",
      "[Epoch 131/200] [Batch 300/413] [D loss: 1.6272] [G loss: -0.0759] [GP: 0.1629] [W-dist: -1.6272]\n",
      "[Epoch 131/200] [Batch 350/413] [D loss: 1.2894] [G loss: -0.0488] [GP: 0.1258] [W-dist: -1.2894]\n",
      "[Epoch 131/200] [Batch 400/413] [D loss: 2.5240] [G loss: -0.0536] [GP: 0.2512] [W-dist: -2.5240]\n"
     ]
    },
    {
     "name": "stderr",
     "output_type": "stream",
     "text": [
      " 66%|██████▌   | 132/200 [6:10:05<3:11:14, 168.75s/it]"
     ]
    },
    {
     "name": "stdout",
     "output_type": "stream",
     "text": [
      "[Epoch 132/200] [Batch 0/413] [D loss: 2.0051] [G loss: -0.0572] [GP: 0.1995] [W-dist: -2.0051]\n",
      "[Epoch 132/200] [Batch 50/413] [D loss: 1.3601] [G loss: -0.0524] [GP: 0.1333] [W-dist: -1.3601]\n",
      "[Epoch 132/200] [Batch 100/413] [D loss: 2.1737] [G loss: -0.0310] [GP: 0.2185] [W-dist: -2.1737]\n",
      "[Epoch 132/200] [Batch 150/413] [D loss: 2.0891] [G loss: -0.0589] [GP: 0.2049] [W-dist: -2.0891]\n",
      "[Epoch 132/200] [Batch 200/413] [D loss: 1.6293] [G loss: -0.0559] [GP: 0.1602] [W-dist: -1.6293]\n",
      "[Epoch 132/200] [Batch 250/413] [D loss: 2.3333] [G loss: -0.0524] [GP: 0.2299] [W-dist: -2.3333]\n",
      "[Epoch 132/200] [Batch 300/413] [D loss: 3.5810] [G loss: 0.0251] [GP: 0.3609] [W-dist: -3.5810]\n",
      "[Epoch 132/200] [Batch 350/413] [D loss: 1.8132] [G loss: -0.0652] [GP: 0.1800] [W-dist: -1.8132]\n",
      "[Epoch 132/200] [Batch 400/413] [D loss: 2.0566] [G loss: -0.0415] [GP: 0.2015] [W-dist: -2.0566]\n"
     ]
    },
    {
     "name": "stderr",
     "output_type": "stream",
     "text": [
      " 66%|██████▋   | 133/200 [6:12:53<3:08:26, 168.75s/it]"
     ]
    },
    {
     "name": "stdout",
     "output_type": "stream",
     "text": [
      "[Epoch 133/200] [Batch 0/413] [D loss: 1.5919] [G loss: -0.0482] [GP: 0.1580] [W-dist: -1.5919]\n",
      "[Epoch 133/200] [Batch 50/413] [D loss: 1.7015] [G loss: -0.0636] [GP: 0.1705] [W-dist: -1.7015]\n",
      "[Epoch 133/200] [Batch 100/413] [D loss: 0.9241] [G loss: -0.0477] [GP: 0.0925] [W-dist: -0.9241]\n",
      "[Epoch 133/200] [Batch 150/413] [D loss: 1.2079] [G loss: -0.0436] [GP: 0.1185] [W-dist: -1.2079]\n",
      "[Epoch 133/200] [Batch 200/413] [D loss: 1.1240] [G loss: -0.0188] [GP: 0.1132] [W-dist: -1.1240]\n",
      "[Epoch 133/200] [Batch 250/413] [D loss: 1.7669] [G loss: -0.0555] [GP: 0.1737] [W-dist: -1.7669]\n",
      "[Epoch 133/200] [Batch 300/413] [D loss: 1.6077] [G loss: -0.0370] [GP: 0.1631] [W-dist: -1.6077]\n",
      "[Epoch 133/200] [Batch 350/413] [D loss: 1.6092] [G loss: -0.0625] [GP: 0.1586] [W-dist: -1.6092]\n",
      "[Epoch 133/200] [Batch 400/413] [D loss: 1.8260] [G loss: -0.0620] [GP: 0.1795] [W-dist: -1.8260]\n"
     ]
    },
    {
     "name": "stderr",
     "output_type": "stream",
     "text": [
      " 67%|██████▋   | 134/200 [6:15:42<3:05:37, 168.76s/it]"
     ]
    },
    {
     "name": "stdout",
     "output_type": "stream",
     "text": [
      "[Epoch 134/200] [Batch 0/413] [D loss: 1.8028] [G loss: -0.0581] [GP: 0.1766] [W-dist: -1.8028]\n",
      "[Epoch 134/200] [Batch 50/413] [D loss: 1.6415] [G loss: -0.0402] [GP: 0.1608] [W-dist: -1.6415]\n",
      "[Epoch 134/200] [Batch 100/413] [D loss: 1.2304] [G loss: -0.0775] [GP: 0.1209] [W-dist: -1.2304]\n",
      "[Epoch 134/200] [Batch 150/413] [D loss: 2.8616] [G loss: -0.0205] [GP: 0.2822] [W-dist: -2.8616]\n",
      "[Epoch 134/200] [Batch 200/413] [D loss: 1.8027] [G loss: -0.0365] [GP: 0.1772] [W-dist: -1.8027]\n",
      "[Epoch 134/200] [Batch 250/413] [D loss: 1.6769] [G loss: -0.0323] [GP: 0.1682] [W-dist: -1.6769]\n",
      "[Epoch 134/200] [Batch 300/413] [D loss: 1.3999] [G loss: -0.0654] [GP: 0.1405] [W-dist: -1.3999]\n",
      "[Epoch 134/200] [Batch 350/413] [D loss: 1.6903] [G loss: -0.0596] [GP: 0.1660] [W-dist: -1.6903]\n",
      "[Epoch 134/200] [Batch 400/413] [D loss: 1.9725] [G loss: -0.0169] [GP: 0.1989] [W-dist: -1.9725]\n"
     ]
    },
    {
     "name": "stderr",
     "output_type": "stream",
     "text": [
      " 68%|██████▊   | 135/200 [6:18:31<3:02:47, 168.72s/it]"
     ]
    },
    {
     "name": "stdout",
     "output_type": "stream",
     "text": [
      "[Epoch 135/200] [Batch 0/413] [D loss: 1.4444] [G loss: -0.0738] [GP: 0.1448] [W-dist: -1.4444]\n",
      "[Epoch 135/200] [Batch 50/413] [D loss: 1.2597] [G loss: -0.0880] [GP: 0.1285] [W-dist: -1.2597]\n",
      "[Epoch 135/200] [Batch 100/413] [D loss: 1.4180] [G loss: -0.0605] [GP: 0.1434] [W-dist: -1.4180]\n",
      "[Epoch 135/200] [Batch 150/413] [D loss: 1.5342] [G loss: -0.0586] [GP: 0.1539] [W-dist: -1.5342]\n",
      "[Epoch 135/200] [Batch 200/413] [D loss: 1.3463] [G loss: -0.0453] [GP: 0.1332] [W-dist: -1.3463]\n",
      "[Epoch 135/200] [Batch 250/413] [D loss: 2.8013] [G loss: -0.0382] [GP: 0.2770] [W-dist: -2.8013]\n",
      "[Epoch 135/200] [Batch 300/413] [D loss: 1.3828] [G loss: -0.0413] [GP: 0.1392] [W-dist: -1.3828]\n",
      "[Epoch 135/200] [Batch 350/413] [D loss: 1.2690] [G loss: -0.0465] [GP: 0.1274] [W-dist: -1.2690]\n",
      "[Epoch 135/200] [Batch 400/413] [D loss: 2.2321] [G loss: -0.0362] [GP: 0.2188] [W-dist: -2.2321]\n"
     ]
    },
    {
     "name": "stderr",
     "output_type": "stream",
     "text": [
      " 68%|██████▊   | 136/200 [6:21:20<2:59:59, 168.74s/it]"
     ]
    },
    {
     "name": "stdout",
     "output_type": "stream",
     "text": [
      "[Epoch 136/200] [Batch 0/413] [D loss: 2.2790] [G loss: -0.0483] [GP: 0.2235] [W-dist: -2.2790]\n",
      "[Epoch 136/200] [Batch 50/413] [D loss: 1.8489] [G loss: -0.0543] [GP: 0.1845] [W-dist: -1.8489]\n",
      "[Epoch 136/200] [Batch 100/413] [D loss: 1.8952] [G loss: -0.0771] [GP: 0.1851] [W-dist: -1.8952]\n",
      "[Epoch 136/200] [Batch 150/413] [D loss: 1.6717] [G loss: -0.0325] [GP: 0.1651] [W-dist: -1.6717]\n",
      "[Epoch 136/200] [Batch 200/413] [D loss: 2.9736] [G loss: -0.0495] [GP: 0.2927] [W-dist: -2.9736]\n",
      "[Epoch 136/200] [Batch 250/413] [D loss: 1.2036] [G loss: -0.0579] [GP: 0.1200] [W-dist: -1.2036]\n",
      "[Epoch 136/200] [Batch 300/413] [D loss: 1.9474] [G loss: -0.0607] [GP: 0.1922] [W-dist: -1.9474]\n",
      "[Epoch 136/200] [Batch 350/413] [D loss: 2.1303] [G loss: -0.0471] [GP: 0.2087] [W-dist: -2.1303]\n",
      "[Epoch 136/200] [Batch 400/413] [D loss: 1.6940] [G loss: -0.0415] [GP: 0.1701] [W-dist: -1.6940]\n"
     ]
    },
    {
     "name": "stderr",
     "output_type": "stream",
     "text": [
      " 68%|██████▊   | 137/200 [6:24:08<2:57:05, 168.66s/it]"
     ]
    },
    {
     "name": "stdout",
     "output_type": "stream",
     "text": [
      "[Epoch 137/200] [Batch 0/413] [D loss: 2.0008] [G loss: -0.0612] [GP: 0.2037] [W-dist: -2.0008]\n",
      "[Epoch 137/200] [Batch 50/413] [D loss: 2.0492] [G loss: -0.0996] [GP: 0.2044] [W-dist: -2.0492]\n",
      "[Epoch 137/200] [Batch 100/413] [D loss: 1.5271] [G loss: -0.0541] [GP: 0.1516] [W-dist: -1.5271]\n",
      "[Epoch 137/200] [Batch 150/413] [D loss: 3.2031] [G loss: -0.0351] [GP: 0.3165] [W-dist: -3.2031]\n",
      "[Epoch 137/200] [Batch 200/413] [D loss: 1.9570] [G loss: -0.0793] [GP: 0.1965] [W-dist: -1.9570]\n",
      "[Epoch 137/200] [Batch 250/413] [D loss: 1.4611] [G loss: -0.0038] [GP: 0.1450] [W-dist: -1.4611]\n",
      "[Epoch 137/200] [Batch 300/413] [D loss: 1.3055] [G loss: -0.0313] [GP: 0.1274] [W-dist: -1.3055]\n",
      "[Epoch 137/200] [Batch 350/413] [D loss: 2.3376] [G loss: -0.0301] [GP: 0.2286] [W-dist: -2.3376]\n",
      "[Epoch 137/200] [Batch 400/413] [D loss: 1.7982] [G loss: -0.0184] [GP: 0.1765] [W-dist: -1.7982]\n"
     ]
    },
    {
     "name": "stderr",
     "output_type": "stream",
     "text": [
      " 69%|██████▉   | 138/200 [6:26:57<2:54:18, 168.69s/it]"
     ]
    },
    {
     "name": "stdout",
     "output_type": "stream",
     "text": [
      "[Epoch 138/200] [Batch 0/413] [D loss: 1.8937] [G loss: 0.0377] [GP: 0.1851] [W-dist: -1.8937]\n",
      "[Epoch 138/200] [Batch 50/413] [D loss: 1.4085] [G loss: -0.0052] [GP: 0.1397] [W-dist: -1.4085]\n",
      "[Epoch 138/200] [Batch 100/413] [D loss: 5.8912] [G loss: -0.0406] [GP: 0.5840] [W-dist: -5.8912]\n",
      "[Epoch 138/200] [Batch 150/413] [D loss: 1.7698] [G loss: -0.0099] [GP: 0.1752] [W-dist: -1.7698]\n",
      "[Epoch 138/200] [Batch 200/413] [D loss: 1.5813] [G loss: -0.0330] [GP: 0.1533] [W-dist: -1.5813]\n",
      "[Epoch 138/200] [Batch 250/413] [D loss: 2.2584] [G loss: -0.0505] [GP: 0.2219] [W-dist: -2.2584]\n",
      "[Epoch 138/200] [Batch 300/413] [D loss: 2.3389] [G loss: 0.0056] [GP: 0.2311] [W-dist: -2.3389]\n",
      "[Epoch 138/200] [Batch 350/413] [D loss: 1.9046] [G loss: -0.0268] [GP: 0.1886] [W-dist: -1.9046]\n",
      "[Epoch 138/200] [Batch 400/413] [D loss: 2.5324] [G loss: -0.0093] [GP: 0.2545] [W-dist: -2.5324]\n"
     ]
    },
    {
     "name": "stderr",
     "output_type": "stream",
     "text": [
      " 70%|██████▉   | 139/200 [6:29:46<2:51:35, 168.77s/it]"
     ]
    },
    {
     "name": "stdout",
     "output_type": "stream",
     "text": [
      "[Epoch 139/200] [Batch 0/413] [D loss: 2.2983] [G loss: -0.0435] [GP: 0.2313] [W-dist: -2.2983]\n",
      "[Epoch 139/200] [Batch 50/413] [D loss: 1.8470] [G loss: 0.0092] [GP: 0.1820] [W-dist: -1.8470]\n",
      "[Epoch 139/200] [Batch 100/413] [D loss: 1.5004] [G loss: 0.0111] [GP: 0.1474] [W-dist: -1.5004]\n",
      "[Epoch 139/200] [Batch 150/413] [D loss: 2.7907] [G loss: -0.0772] [GP: 0.2809] [W-dist: -2.7907]\n",
      "[Epoch 139/200] [Batch 200/413] [D loss: 1.6675] [G loss: -0.0612] [GP: 0.1680] [W-dist: -1.6675]\n",
      "[Epoch 139/200] [Batch 250/413] [D loss: 3.2084] [G loss: -0.0767] [GP: 0.3239] [W-dist: -3.2084]\n",
      "[Epoch 139/200] [Batch 300/413] [D loss: 1.7601] [G loss: -0.0630] [GP: 0.1778] [W-dist: -1.7601]\n",
      "[Epoch 139/200] [Batch 350/413] [D loss: 1.1981] [G loss: -0.0581] [GP: 0.1186] [W-dist: -1.1981]\n",
      "[Epoch 139/200] [Batch 400/413] [D loss: 1.4043] [G loss: -0.0538] [GP: 0.1380] [W-dist: -1.4043]\n"
     ]
    },
    {
     "name": "stderr",
     "output_type": "stream",
     "text": [
      " 70%|███████   | 140/200 [6:32:35<2:48:45, 168.76s/it]"
     ]
    },
    {
     "name": "stdout",
     "output_type": "stream",
     "text": [
      "[Epoch 140/200] [Batch 0/413] [D loss: 1.9447] [G loss: -0.0245] [GP: 0.1991] [W-dist: -1.9447]\n",
      "[Epoch 140/200] [Batch 50/413] [D loss: 1.7066] [G loss: -0.0325] [GP: 0.1671] [W-dist: -1.7066]\n",
      "[Epoch 140/200] [Batch 100/413] [D loss: 1.1388] [G loss: -0.0075] [GP: 0.1119] [W-dist: -1.1388]\n",
      "[Epoch 140/200] [Batch 150/413] [D loss: 2.1066] [G loss: -0.0147] [GP: 0.2068] [W-dist: -2.1066]\n",
      "[Epoch 140/200] [Batch 200/413] [D loss: 0.9107] [G loss: -0.0451] [GP: 0.0896] [W-dist: -0.9107]\n",
      "[Epoch 140/200] [Batch 250/413] [D loss: 1.5842] [G loss: -0.0149] [GP: 0.1546] [W-dist: -1.5842]\n",
      "[Epoch 140/200] [Batch 300/413] [D loss: 1.2237] [G loss: -0.0438] [GP: 0.1200] [W-dist: -1.2237]\n",
      "[Epoch 140/200] [Batch 350/413] [D loss: 1.5833] [G loss: -0.0424] [GP: 0.1557] [W-dist: -1.5833]\n",
      "[Epoch 140/200] [Batch 400/413] [D loss: 1.6957] [G loss: 0.0039] [GP: 0.1656] [W-dist: -1.6957]\n"
     ]
    },
    {
     "name": "stderr",
     "output_type": "stream",
     "text": [
      " 70%|███████   | 141/200 [6:35:23<2:45:55, 168.74s/it]"
     ]
    },
    {
     "name": "stdout",
     "output_type": "stream",
     "text": [
      "[Epoch 141/200] [Batch 0/413] [D loss: 1.3706] [G loss: -0.0211] [GP: 0.1349] [W-dist: -1.3706]\n",
      "[Epoch 141/200] [Batch 50/413] [D loss: 1.4379] [G loss: -0.0150] [GP: 0.1394] [W-dist: -1.4379]\n",
      "[Epoch 141/200] [Batch 100/413] [D loss: 2.0423] [G loss: -0.0117] [GP: 0.2013] [W-dist: -2.0423]\n",
      "[Epoch 141/200] [Batch 150/413] [D loss: 1.6355] [G loss: -0.0421] [GP: 0.1608] [W-dist: -1.6355]\n",
      "[Epoch 141/200] [Batch 200/413] [D loss: 0.9321] [G loss: -0.0542] [GP: 0.0923] [W-dist: -0.9321]\n",
      "[Epoch 141/200] [Batch 250/413] [D loss: 1.9436] [G loss: 0.0183] [GP: 0.1898] [W-dist: -1.9436]\n",
      "[Epoch 141/200] [Batch 300/413] [D loss: 1.3407] [G loss: -0.0591] [GP: 0.1305] [W-dist: -1.3407]\n",
      "[Epoch 141/200] [Batch 350/413] [D loss: 1.0919] [G loss: -0.0362] [GP: 0.1069] [W-dist: -1.0919]\n",
      "[Epoch 141/200] [Batch 400/413] [D loss: 3.8304] [G loss: -0.0517] [GP: 0.3768] [W-dist: -3.8304]\n"
     ]
    },
    {
     "name": "stderr",
     "output_type": "stream",
     "text": [
      " 71%|███████   | 142/200 [6:38:12<2:43:06, 168.73s/it]"
     ]
    },
    {
     "name": "stdout",
     "output_type": "stream",
     "text": [
      "[Epoch 142/200] [Batch 0/413] [D loss: 2.3227] [G loss: -0.0320] [GP: 0.2268] [W-dist: -2.3227]\n",
      "[Epoch 142/200] [Batch 50/413] [D loss: 2.0499] [G loss: -0.0300] [GP: 0.2009] [W-dist: -2.0499]\n",
      "[Epoch 142/200] [Batch 100/413] [D loss: 2.8711] [G loss: -0.0230] [GP: 0.2824] [W-dist: -2.8711]\n",
      "[Epoch 142/200] [Batch 150/413] [D loss: 1.8786] [G loss: -0.0575] [GP: 0.1888] [W-dist: -1.8786]\n",
      "[Epoch 142/200] [Batch 200/413] [D loss: 2.5840] [G loss: -0.0279] [GP: 0.2538] [W-dist: -2.5840]\n",
      "[Epoch 142/200] [Batch 250/413] [D loss: 3.5774] [G loss: 0.0011] [GP: 0.3589] [W-dist: -3.5774]\n",
      "[Epoch 142/200] [Batch 300/413] [D loss: 1.8848] [G loss: -0.0349] [GP: 0.1848] [W-dist: -1.8848]\n",
      "[Epoch 142/200] [Batch 350/413] [D loss: 3.0295] [G loss: -0.0731] [GP: 0.3065] [W-dist: -3.0295]\n",
      "[Epoch 142/200] [Batch 400/413] [D loss: 4.5409] [G loss: -0.0524] [GP: 0.4496] [W-dist: -4.5409]\n"
     ]
    },
    {
     "name": "stderr",
     "output_type": "stream",
     "text": [
      " 72%|███████▏  | 143/200 [6:41:01<2:40:18, 168.74s/it]"
     ]
    },
    {
     "name": "stdout",
     "output_type": "stream",
     "text": [
      "[Epoch 143/200] [Batch 0/413] [D loss: 3.8248] [G loss: -0.0736] [GP: 0.3792] [W-dist: -3.8248]\n",
      "[Epoch 143/200] [Batch 50/413] [D loss: 2.5745] [G loss: -0.0559] [GP: 0.2521] [W-dist: -2.5745]\n",
      "[Epoch 143/200] [Batch 100/413] [D loss: 2.5200] [G loss: -0.0371] [GP: 0.2500] [W-dist: -2.5200]\n",
      "[Epoch 143/200] [Batch 150/413] [D loss: 3.7014] [G loss: -0.0159] [GP: 0.3633] [W-dist: -3.7014]\n",
      "[Epoch 143/200] [Batch 200/413] [D loss: 2.4059] [G loss: -0.0323] [GP: 0.2386] [W-dist: -2.4059]\n",
      "[Epoch 143/200] [Batch 250/413] [D loss: 5.4596] [G loss: -0.0507] [GP: 0.5427] [W-dist: -5.4596]\n",
      "[Epoch 143/200] [Batch 300/413] [D loss: 1.9477] [G loss: -0.0508] [GP: 0.1967] [W-dist: -1.9477]\n",
      "[Epoch 143/200] [Batch 350/413] [D loss: 6.5893] [G loss: -0.0878] [GP: 0.6516] [W-dist: -6.5893]\n",
      "[Epoch 143/200] [Batch 400/413] [D loss: 1.6252] [G loss: -0.0185] [GP: 0.1615] [W-dist: -1.6252]\n"
     ]
    },
    {
     "name": "stderr",
     "output_type": "stream",
     "text": [
      " 72%|███████▏  | 144/200 [6:43:50<2:37:29, 168.75s/it]"
     ]
    },
    {
     "name": "stdout",
     "output_type": "stream",
     "text": [
      "[Epoch 144/200] [Batch 0/413] [D loss: 2.0449] [G loss: -0.0048] [GP: 0.2010] [W-dist: -2.0449]\n",
      "[Epoch 144/200] [Batch 50/413] [D loss: 1.5184] [G loss: 0.0018] [GP: 0.1522] [W-dist: -1.5184]\n",
      "[Epoch 144/200] [Batch 100/413] [D loss: 2.5793] [G loss: -0.0510] [GP: 0.2548] [W-dist: -2.5793]\n",
      "[Epoch 144/200] [Batch 150/413] [D loss: 2.8056] [G loss: 0.0221] [GP: 0.2779] [W-dist: -2.8056]\n",
      "[Epoch 144/200] [Batch 200/413] [D loss: 3.1159] [G loss: 0.0403] [GP: 0.3062] [W-dist: -3.1159]\n",
      "[Epoch 144/200] [Batch 250/413] [D loss: 1.3987] [G loss: -0.0136] [GP: 0.1348] [W-dist: -1.3987]\n",
      "[Epoch 144/200] [Batch 300/413] [D loss: 1.9492] [G loss: -0.0452] [GP: 0.1885] [W-dist: -1.9492]\n",
      "[Epoch 144/200] [Batch 350/413] [D loss: 2.0988] [G loss: 0.0502] [GP: 0.2079] [W-dist: -2.0988]\n",
      "[Epoch 144/200] [Batch 400/413] [D loss: 2.5705] [G loss: 0.0852] [GP: 0.2602] [W-dist: -2.5705]\n"
     ]
    },
    {
     "name": "stderr",
     "output_type": "stream",
     "text": [
      " 72%|███████▎  | 145/200 [6:46:38<2:34:42, 168.77s/it]"
     ]
    },
    {
     "name": "stdout",
     "output_type": "stream",
     "text": [
      "[Epoch 145/200] [Batch 0/413] [D loss: 1.7313] [G loss: -0.0235] [GP: 0.1702] [W-dist: -1.7313]\n",
      "[Epoch 145/200] [Batch 50/413] [D loss: 1.4248] [G loss: -0.0564] [GP: 0.1461] [W-dist: -1.4248]\n",
      "[Epoch 145/200] [Batch 100/413] [D loss: 0.7793] [G loss: -0.0463] [GP: 0.0755] [W-dist: -0.7793]\n",
      "[Epoch 145/200] [Batch 150/413] [D loss: 1.3478] [G loss: -0.0190] [GP: 0.1360] [W-dist: -1.3478]\n",
      "[Epoch 145/200] [Batch 200/413] [D loss: 1.6612] [G loss: -0.0597] [GP: 0.1616] [W-dist: -1.6612]\n",
      "[Epoch 145/200] [Batch 250/413] [D loss: 1.4876] [G loss: -0.0308] [GP: 0.1499] [W-dist: -1.4876]\n",
      "[Epoch 145/200] [Batch 300/413] [D loss: 1.4029] [G loss: -0.0600] [GP: 0.1405] [W-dist: -1.4029]\n",
      "[Epoch 145/200] [Batch 350/413] [D loss: 1.5448] [G loss: -0.0355] [GP: 0.1535] [W-dist: -1.5448]\n",
      "[Epoch 145/200] [Batch 400/413] [D loss: 1.1159] [G loss: -0.0163] [GP: 0.1078] [W-dist: -1.1159]\n"
     ]
    },
    {
     "name": "stderr",
     "output_type": "stream",
     "text": [
      " 73%|███████▎  | 146/200 [6:49:27<2:31:51, 168.74s/it]"
     ]
    },
    {
     "name": "stdout",
     "output_type": "stream",
     "text": [
      "[Epoch 146/200] [Batch 0/413] [D loss: 1.0810] [G loss: -0.0395] [GP: 0.1074] [W-dist: -1.0810]\n",
      "[Epoch 146/200] [Batch 50/413] [D loss: 1.8590] [G loss: -0.0734] [GP: 0.1904] [W-dist: -1.8590]\n",
      "[Epoch 146/200] [Batch 100/413] [D loss: 2.3863] [G loss: 0.0486] [GP: 0.2379] [W-dist: -2.3863]\n",
      "[Epoch 146/200] [Batch 150/413] [D loss: 1.9552] [G loss: -0.0523] [GP: 0.1984] [W-dist: -1.9552]\n",
      "[Epoch 146/200] [Batch 200/413] [D loss: 1.8103] [G loss: 0.0363] [GP: 0.1809] [W-dist: -1.8103]\n",
      "[Epoch 146/200] [Batch 250/413] [D loss: 1.5079] [G loss: -0.0258] [GP: 0.1493] [W-dist: -1.5079]\n",
      "[Epoch 146/200] [Batch 300/413] [D loss: 1.5656] [G loss: -0.0176] [GP: 0.1529] [W-dist: -1.5656]\n",
      "[Epoch 146/200] [Batch 350/413] [D loss: 1.1305] [G loss: -0.0418] [GP: 0.1133] [W-dist: -1.1305]\n",
      "[Epoch 146/200] [Batch 400/413] [D loss: 1.7130] [G loss: -0.0098] [GP: 0.1668] [W-dist: -1.7130]\n"
     ]
    },
    {
     "name": "stderr",
     "output_type": "stream",
     "text": [
      " 74%|███████▎  | 147/200 [6:52:16<2:29:05, 168.79s/it]"
     ]
    },
    {
     "name": "stdout",
     "output_type": "stream",
     "text": [
      "[Epoch 147/200] [Batch 0/413] [D loss: 2.5323] [G loss: -0.0283] [GP: 0.2500] [W-dist: -2.5323]\n",
      "[Epoch 147/200] [Batch 50/413] [D loss: 2.1924] [G loss: -0.0038] [GP: 0.2152] [W-dist: -2.1924]\n",
      "[Epoch 147/200] [Batch 100/413] [D loss: 1.8156] [G loss: -0.0669] [GP: 0.1811] [W-dist: -1.8156]\n",
      "[Epoch 147/200] [Batch 150/413] [D loss: 0.5982] [G loss: -0.0104] [GP: 0.0593] [W-dist: -0.5982]\n",
      "[Epoch 147/200] [Batch 200/413] [D loss: 1.4294] [G loss: -0.0182] [GP: 0.1410] [W-dist: -1.4294]\n",
      "[Epoch 147/200] [Batch 250/413] [D loss: 1.4737] [G loss: 0.0330] [GP: 0.1509] [W-dist: -1.4737]\n",
      "[Epoch 147/200] [Batch 300/413] [D loss: 1.9721] [G loss: -0.0127] [GP: 0.1964] [W-dist: -1.9721]\n",
      "[Epoch 147/200] [Batch 350/413] [D loss: 2.0453] [G loss: 0.0022] [GP: 0.2026] [W-dist: -2.0453]\n",
      "[Epoch 147/200] [Batch 400/413] [D loss: 1.6801] [G loss: -0.0478] [GP: 0.1694] [W-dist: -1.6801]\n"
     ]
    },
    {
     "name": "stderr",
     "output_type": "stream",
     "text": [
      " 74%|███████▍  | 148/200 [6:55:05<2:26:17, 168.79s/it]"
     ]
    },
    {
     "name": "stdout",
     "output_type": "stream",
     "text": [
      "[Epoch 148/200] [Batch 0/413] [D loss: 2.4485] [G loss: -0.0576] [GP: 0.2423] [W-dist: -2.4485]\n",
      "[Epoch 148/200] [Batch 50/413] [D loss: 1.4901] [G loss: -0.0524] [GP: 0.1462] [W-dist: -1.4901]\n",
      "[Epoch 148/200] [Batch 100/413] [D loss: 1.7815] [G loss: 0.0274] [GP: 0.1750] [W-dist: -1.7815]\n",
      "[Epoch 148/200] [Batch 150/413] [D loss: 0.7893] [G loss: 0.0020] [GP: 0.0771] [W-dist: -0.7893]\n",
      "[Epoch 148/200] [Batch 200/413] [D loss: 1.8839] [G loss: 0.0059] [GP: 0.1838] [W-dist: -1.8839]\n",
      "[Epoch 148/200] [Batch 250/413] [D loss: 2.1859] [G loss: -0.0446] [GP: 0.2152] [W-dist: -2.1859]\n",
      "[Epoch 148/200] [Batch 300/413] [D loss: 1.0814] [G loss: -0.0043] [GP: 0.1066] [W-dist: -1.0814]\n",
      "[Epoch 148/200] [Batch 350/413] [D loss: 1.4557] [G loss: -0.0346] [GP: 0.1468] [W-dist: -1.4557]\n",
      "[Epoch 148/200] [Batch 400/413] [D loss: 2.2460] [G loss: -0.0545] [GP: 0.2252] [W-dist: -2.2460]\n"
     ]
    },
    {
     "name": "stderr",
     "output_type": "stream",
     "text": [
      " 74%|███████▍  | 149/200 [6:57:53<2:23:25, 168.73s/it]"
     ]
    },
    {
     "name": "stdout",
     "output_type": "stream",
     "text": [
      "[Epoch 149/200] [Batch 0/413] [D loss: 2.5878] [G loss: -0.0147] [GP: 0.2575] [W-dist: -2.5878]\n",
      "[Epoch 149/200] [Batch 50/413] [D loss: 8.5113] [G loss: -0.0536] [GP: 0.8486] [W-dist: -8.5113]\n",
      "[Epoch 149/200] [Batch 100/413] [D loss: 1.9017] [G loss: 0.0271] [GP: 0.1863] [W-dist: -1.9017]\n",
      "[Epoch 149/200] [Batch 150/413] [D loss: 2.2094] [G loss: 0.0217] [GP: 0.2185] [W-dist: -2.2094]\n",
      "[Epoch 149/200] [Batch 200/413] [D loss: 1.7603] [G loss: 0.0172] [GP: 0.1793] [W-dist: -1.7603]\n",
      "[Epoch 149/200] [Batch 250/413] [D loss: 1.0094] [G loss: 0.0518] [GP: 0.1021] [W-dist: -1.0094]\n",
      "[Epoch 149/200] [Batch 300/413] [D loss: 1.5095] [G loss: 0.0024] [GP: 0.1484] [W-dist: -1.5095]\n",
      "[Epoch 149/200] [Batch 350/413] [D loss: 1.4542] [G loss: 0.0240] [GP: 0.1462] [W-dist: -1.4542]\n",
      "[Epoch 149/200] [Batch 400/413] [D loss: 1.6181] [G loss: -0.0254] [GP: 0.1606] [W-dist: -1.6181]\n"
     ]
    },
    {
     "name": "stderr",
     "output_type": "stream",
     "text": [
      " 75%|███████▌  | 150/200 [7:00:42<2:20:36, 168.74s/it]"
     ]
    },
    {
     "name": "stdout",
     "output_type": "stream",
     "text": [
      "[Epoch 150/200] [Batch 0/413] [D loss: 2.6951] [G loss: 0.0128] [GP: 0.2651] [W-dist: -2.6951]\n",
      "[Epoch 150/200] [Batch 50/413] [D loss: 1.5000] [G loss: -0.0061] [GP: 0.1469] [W-dist: -1.5000]\n",
      "[Epoch 150/200] [Batch 100/413] [D loss: 3.2426] [G loss: -0.0430] [GP: 0.3223] [W-dist: -3.2426]\n",
      "[Epoch 150/200] [Batch 150/413] [D loss: 1.4208] [G loss: -0.0053] [GP: 0.1404] [W-dist: -1.4208]\n",
      "[Epoch 150/200] [Batch 200/413] [D loss: 1.4580] [G loss: -0.0076] [GP: 0.1453] [W-dist: -1.4580]\n",
      "[Epoch 150/200] [Batch 250/413] [D loss: 0.4615] [G loss: 0.0452] [GP: 0.0485] [W-dist: -0.4615]\n",
      "[Epoch 150/200] [Batch 300/413] [D loss: 1.3272] [G loss: 0.0301] [GP: 0.1287] [W-dist: -1.3272]\n",
      "[Epoch 150/200] [Batch 350/413] [D loss: 2.0184] [G loss: -0.0586] [GP: 0.1954] [W-dist: -2.0184]\n",
      "[Epoch 150/200] [Batch 400/413] [D loss: 2.0842] [G loss: 0.0422] [GP: 0.2025] [W-dist: -2.0842]\n"
     ]
    },
    {
     "name": "stderr",
     "output_type": "stream",
     "text": [
      " 76%|███████▌  | 151/200 [7:03:31<2:17:52, 168.82s/it]"
     ]
    },
    {
     "name": "stdout",
     "output_type": "stream",
     "text": [
      "[Epoch 151/200] [Batch 0/413] [D loss: 0.9620] [G loss: -0.0297] [GP: 0.0939] [W-dist: -0.9620]\n",
      "[Epoch 151/200] [Batch 50/413] [D loss: 0.9104] [G loss: -0.0071] [GP: 0.0884] [W-dist: -0.9104]\n",
      "[Epoch 151/200] [Batch 100/413] [D loss: 1.5109] [G loss: 0.0067] [GP: 0.1525] [W-dist: -1.5109]\n",
      "[Epoch 151/200] [Batch 150/413] [D loss: 1.1618] [G loss: 0.0133] [GP: 0.1182] [W-dist: -1.1618]\n",
      "[Epoch 151/200] [Batch 200/413] [D loss: 1.5905] [G loss: -0.0181] [GP: 0.1585] [W-dist: -1.5905]\n",
      "[Epoch 151/200] [Batch 250/413] [D loss: 0.8050] [G loss: -0.0293] [GP: 0.0802] [W-dist: -0.8050]\n",
      "[Epoch 151/200] [Batch 300/413] [D loss: 2.4382] [G loss: -0.0156] [GP: 0.2398] [W-dist: -2.4382]\n",
      "[Epoch 151/200] [Batch 350/413] [D loss: 1.6172] [G loss: -0.0201] [GP: 0.1652] [W-dist: -1.6172]\n",
      "[Epoch 151/200] [Batch 400/413] [D loss: 1.4490] [G loss: -0.0064] [GP: 0.1425] [W-dist: -1.4490]\n"
     ]
    },
    {
     "name": "stderr",
     "output_type": "stream",
     "text": [
      " 76%|███████▌  | 152/200 [7:06:19<2:14:51, 168.57s/it]"
     ]
    },
    {
     "name": "stdout",
     "output_type": "stream",
     "text": [
      "[Epoch 152/200] [Batch 0/413] [D loss: 0.9484] [G loss: -0.0293] [GP: 0.0958] [W-dist: -0.9484]\n",
      "[Epoch 152/200] [Batch 50/413] [D loss: 1.8672] [G loss: -0.0236] [GP: 0.1896] [W-dist: -1.8672]\n",
      "[Epoch 152/200] [Batch 100/413] [D loss: 1.2491] [G loss: -0.0273] [GP: 0.1229] [W-dist: -1.2491]\n",
      "[Epoch 152/200] [Batch 150/413] [D loss: 2.1110] [G loss: 0.0193] [GP: 0.2112] [W-dist: -2.1110]\n",
      "[Epoch 152/200] [Batch 200/413] [D loss: 1.9758] [G loss: -0.0224] [GP: 0.1966] [W-dist: -1.9758]\n",
      "[Epoch 152/200] [Batch 250/413] [D loss: 1.5019] [G loss: 0.0101] [GP: 0.1512] [W-dist: -1.5019]\n",
      "[Epoch 152/200] [Batch 300/413] [D loss: 1.2916] [G loss: -0.0207] [GP: 0.1271] [W-dist: -1.2916]\n",
      "[Epoch 152/200] [Batch 350/413] [D loss: 1.8488] [G loss: -0.0351] [GP: 0.1841] [W-dist: -1.8488]\n",
      "[Epoch 152/200] [Batch 400/413] [D loss: 1.7410] [G loss: 0.0471] [GP: 0.1745] [W-dist: -1.7410]\n"
     ]
    },
    {
     "name": "stderr",
     "output_type": "stream",
     "text": [
      " 76%|███████▋  | 153/200 [7:09:08<2:12:07, 168.68s/it]"
     ]
    },
    {
     "name": "stdout",
     "output_type": "stream",
     "text": [
      "[Epoch 153/200] [Batch 0/413] [D loss: 1.4844] [G loss: -0.0068] [GP: 0.1446] [W-dist: -1.4844]\n",
      "[Epoch 153/200] [Batch 50/413] [D loss: 1.8437] [G loss: -0.0588] [GP: 0.1841] [W-dist: -1.8437]\n",
      "[Epoch 153/200] [Batch 100/413] [D loss: 1.8542] [G loss: 0.0375] [GP: 0.1804] [W-dist: -1.8542]\n",
      "[Epoch 153/200] [Batch 150/413] [D loss: 1.8035] [G loss: 0.0110] [GP: 0.1817] [W-dist: -1.8035]\n",
      "[Epoch 153/200] [Batch 200/413] [D loss: 1.8050] [G loss: -0.0310] [GP: 0.1854] [W-dist: -1.8050]\n",
      "[Epoch 153/200] [Batch 250/413] [D loss: 1.2233] [G loss: 0.0217] [GP: 0.1201] [W-dist: -1.2233]\n",
      "[Epoch 153/200] [Batch 300/413] [D loss: 1.3133] [G loss: 0.0024] [GP: 0.1308] [W-dist: -1.3133]\n",
      "[Epoch 153/200] [Batch 350/413] [D loss: 1.4456] [G loss: -0.0036] [GP: 0.1432] [W-dist: -1.4456]\n",
      "[Epoch 153/200] [Batch 400/413] [D loss: 2.2315] [G loss: -0.0726] [GP: 0.2212] [W-dist: -2.2315]\n"
     ]
    },
    {
     "name": "stderr",
     "output_type": "stream",
     "text": [
      " 77%|███████▋  | 154/200 [7:11:57<2:09:22, 168.75s/it]"
     ]
    },
    {
     "name": "stdout",
     "output_type": "stream",
     "text": [
      "[Epoch 154/200] [Batch 0/413] [D loss: 1.0668] [G loss: -0.0155] [GP: 0.1044] [W-dist: -1.0668]\n",
      "[Epoch 154/200] [Batch 50/413] [D loss: 1.2539] [G loss: -0.0415] [GP: 0.1233] [W-dist: -1.2539]\n",
      "[Epoch 154/200] [Batch 100/413] [D loss: 1.5024] [G loss: -0.0220] [GP: 0.1502] [W-dist: -1.5024]\n",
      "[Epoch 154/200] [Batch 150/413] [D loss: 1.9496] [G loss: -0.0131] [GP: 0.1932] [W-dist: -1.9496]\n",
      "[Epoch 154/200] [Batch 200/413] [D loss: 1.3568] [G loss: -0.0331] [GP: 0.1350] [W-dist: -1.3568]\n",
      "[Epoch 154/200] [Batch 250/413] [D loss: 0.9518] [G loss: -0.0261] [GP: 0.0962] [W-dist: -0.9518]\n",
      "[Epoch 154/200] [Batch 300/413] [D loss: 0.6329] [G loss: 0.0027] [GP: 0.0673] [W-dist: -0.6329]\n",
      "[Epoch 154/200] [Batch 350/413] [D loss: 0.4039] [G loss: 0.0008] [GP: 0.0436] [W-dist: -0.4039]\n",
      "[Epoch 154/200] [Batch 400/413] [D loss: 0.9052] [G loss: -0.0177] [GP: 0.0897] [W-dist: -0.9052]\n"
     ]
    },
    {
     "name": "stderr",
     "output_type": "stream",
     "text": [
      " 78%|███████▊  | 155/200 [7:14:46<2:06:35, 168.79s/it]"
     ]
    },
    {
     "name": "stdout",
     "output_type": "stream",
     "text": [
      "[Epoch 155/200] [Batch 0/413] [D loss: 0.6895] [G loss: -0.0468] [GP: 0.0671] [W-dist: -0.6895]\n",
      "[Epoch 155/200] [Batch 50/413] [D loss: 1.6545] [G loss: -0.0144] [GP: 0.1659] [W-dist: -1.6545]\n",
      "[Epoch 155/200] [Batch 100/413] [D loss: 1.1854] [G loss: -0.0149] [GP: 0.1169] [W-dist: -1.1854]\n",
      "[Epoch 155/200] [Batch 150/413] [D loss: 1.0454] [G loss: -0.0272] [GP: 0.1025] [W-dist: -1.0454]\n",
      "[Epoch 155/200] [Batch 200/413] [D loss: 1.8034] [G loss: -0.0239] [GP: 0.1805] [W-dist: -1.8034]\n",
      "[Epoch 155/200] [Batch 250/413] [D loss: 0.8005] [G loss: -0.0133] [GP: 0.0765] [W-dist: -0.8005]\n",
      "[Epoch 155/200] [Batch 300/413] [D loss: 1.0971] [G loss: -0.0246] [GP: 0.1092] [W-dist: -1.0971]\n",
      "[Epoch 155/200] [Batch 350/413] [D loss: 1.4751] [G loss: -0.0020] [GP: 0.1453] [W-dist: -1.4751]\n",
      "[Epoch 155/200] [Batch 400/413] [D loss: 3.6451] [G loss: -0.0555] [GP: 0.3709] [W-dist: -3.6451]\n"
     ]
    },
    {
     "name": "stderr",
     "output_type": "stream",
     "text": [
      " 78%|███████▊  | 156/200 [7:17:34<2:03:44, 168.73s/it]"
     ]
    },
    {
     "name": "stdout",
     "output_type": "stream",
     "text": [
      "[Epoch 156/200] [Batch 0/413] [D loss: 2.0379] [G loss: 0.0039] [GP: 0.2000] [W-dist: -2.0379]\n",
      "[Epoch 156/200] [Batch 50/413] [D loss: 0.9341] [G loss: -0.0345] [GP: 0.0914] [W-dist: -0.9341]\n",
      "[Epoch 156/200] [Batch 100/413] [D loss: 2.3981] [G loss: -0.0051] [GP: 0.2366] [W-dist: -2.3981]\n",
      "[Epoch 156/200] [Batch 150/413] [D loss: 2.1542] [G loss: 0.0898] [GP: 0.2092] [W-dist: -2.1542]\n",
      "[Epoch 156/200] [Batch 200/413] [D loss: 0.8121] [G loss: 0.0173] [GP: 0.0814] [W-dist: -0.8121]\n",
      "[Epoch 156/200] [Batch 250/413] [D loss: 1.0383] [G loss: -0.0170] [GP: 0.1086] [W-dist: -1.0383]\n",
      "[Epoch 156/200] [Batch 300/413] [D loss: 1.4778] [G loss: 0.0110] [GP: 0.1482] [W-dist: -1.4778]\n",
      "[Epoch 156/200] [Batch 350/413] [D loss: 0.2686] [G loss: 0.0356] [GP: 0.0314] [W-dist: -0.2686]\n",
      "[Epoch 156/200] [Batch 400/413] [D loss: 2.3961] [G loss: -0.0260] [GP: 0.2366] [W-dist: -2.3961]\n"
     ]
    },
    {
     "name": "stderr",
     "output_type": "stream",
     "text": [
      " 78%|███████▊  | 157/200 [7:20:23<2:00:54, 168.71s/it]"
     ]
    },
    {
     "name": "stdout",
     "output_type": "stream",
     "text": [
      "[Epoch 157/200] [Batch 0/413] [D loss: 1.5578] [G loss: -0.0295] [GP: 0.1544] [W-dist: -1.5578]\n",
      "[Epoch 157/200] [Batch 50/413] [D loss: 1.0475] [G loss: 0.0005] [GP: 0.1060] [W-dist: -1.0475]\n",
      "[Epoch 157/200] [Batch 100/413] [D loss: 2.0214] [G loss: 0.0616] [GP: 0.1977] [W-dist: -2.0214]\n",
      "[Epoch 157/200] [Batch 150/413] [D loss: 2.5603] [G loss: 0.0271] [GP: 0.2565] [W-dist: -2.5603]\n",
      "[Epoch 157/200] [Batch 200/413] [D loss: 1.4632] [G loss: -0.0372] [GP: 0.1472] [W-dist: -1.4632]\n",
      "[Epoch 157/200] [Batch 250/413] [D loss: 0.9356] [G loss: -0.0404] [GP: 0.0943] [W-dist: -0.9356]\n",
      "[Epoch 157/200] [Batch 300/413] [D loss: 0.4239] [G loss: -0.0278] [GP: 0.0420] [W-dist: -0.4239]\n",
      "[Epoch 157/200] [Batch 350/413] [D loss: 1.9190] [G loss: 0.0087] [GP: 0.1899] [W-dist: -1.9190]\n",
      "[Epoch 157/200] [Batch 400/413] [D loss: 1.1146] [G loss: 0.0410] [GP: 0.1134] [W-dist: -1.1146]\n"
     ]
    },
    {
     "name": "stderr",
     "output_type": "stream",
     "text": [
      " 79%|███████▉  | 158/200 [7:23:12<1:58:09, 168.80s/it]"
     ]
    },
    {
     "name": "stdout",
     "output_type": "stream",
     "text": [
      "[Epoch 158/200] [Batch 0/413] [D loss: 1.0165] [G loss: 0.1169] [GP: 0.1110] [W-dist: -1.0165]\n",
      "[Epoch 158/200] [Batch 50/413] [D loss: 0.8552] [G loss: -0.0130] [GP: 0.0861] [W-dist: -0.8552]\n",
      "[Epoch 158/200] [Batch 100/413] [D loss: 1.3891] [G loss: -0.0058] [GP: 0.1381] [W-dist: -1.3891]\n",
      "[Epoch 158/200] [Batch 150/413] [D loss: 1.7014] [G loss: 0.0220] [GP: 0.1682] [W-dist: -1.7014]\n",
      "[Epoch 158/200] [Batch 200/413] [D loss: 1.0232] [G loss: -0.0121] [GP: 0.1019] [W-dist: -1.0232]\n",
      "[Epoch 158/200] [Batch 250/413] [D loss: 2.1514] [G loss: 0.0225] [GP: 0.2172] [W-dist: -2.1514]\n",
      "[Epoch 158/200] [Batch 300/413] [D loss: 1.4664] [G loss: 0.0108] [GP: 0.1430] [W-dist: -1.4664]\n",
      "[Epoch 158/200] [Batch 350/413] [D loss: 1.1167] [G loss: -0.0299] [GP: 0.1110] [W-dist: -1.1167]\n",
      "[Epoch 158/200] [Batch 400/413] [D loss: 0.5004] [G loss: -0.0041] [GP: 0.0493] [W-dist: -0.5004]\n"
     ]
    },
    {
     "name": "stderr",
     "output_type": "stream",
     "text": [
      " 80%|███████▉  | 159/200 [7:26:01<1:55:21, 168.82s/it]"
     ]
    },
    {
     "name": "stdout",
     "output_type": "stream",
     "text": [
      "[Epoch 159/200] [Batch 0/413] [D loss: 2.1769] [G loss: 0.0093] [GP: 0.2149] [W-dist: -2.1769]\n",
      "[Epoch 159/200] [Batch 50/413] [D loss: 1.2727] [G loss: 0.0112] [GP: 0.1251] [W-dist: -1.2727]\n",
      "[Epoch 159/200] [Batch 100/413] [D loss: 1.3995] [G loss: -0.0334] [GP: 0.1336] [W-dist: -1.3995]\n",
      "[Epoch 159/200] [Batch 150/413] [D loss: 0.6761] [G loss: 0.0171] [GP: 0.0700] [W-dist: -0.6761]\n",
      "[Epoch 159/200] [Batch 200/413] [D loss: 0.6738] [G loss: 0.0316] [GP: 0.0665] [W-dist: -0.6738]\n",
      "[Epoch 159/200] [Batch 250/413] [D loss: 1.0652] [G loss: 0.0165] [GP: 0.1034] [W-dist: -1.0652]\n",
      "[Epoch 159/200] [Batch 300/413] [D loss: 0.8959] [G loss: 0.0200] [GP: 0.0920] [W-dist: -0.8959]\n",
      "[Epoch 159/200] [Batch 350/413] [D loss: 0.7745] [G loss: 0.0267] [GP: 0.0790] [W-dist: -0.7745]\n",
      "[Epoch 159/200] [Batch 400/413] [D loss: 0.4985] [G loss: 0.0384] [GP: 0.0492] [W-dist: -0.4985]\n"
     ]
    },
    {
     "name": "stderr",
     "output_type": "stream",
     "text": [
      " 80%|████████  | 160/200 [7:28:50<1:52:34, 168.86s/it]"
     ]
    },
    {
     "name": "stdout",
     "output_type": "stream",
     "text": [
      "[Epoch 160/200] [Batch 0/413] [D loss: 0.4916] [G loss: -0.0095] [GP: 0.0500] [W-dist: -0.4916]\n",
      "[Epoch 160/200] [Batch 50/413] [D loss: 0.8358] [G loss: -0.0184] [GP: 0.0804] [W-dist: -0.8358]\n",
      "[Epoch 160/200] [Batch 100/413] [D loss: 11.8303] [G loss: -0.0290] [GP: 1.1837] [W-dist: -11.8303]\n",
      "[Epoch 160/200] [Batch 150/413] [D loss: 1.2462] [G loss: 0.0021] [GP: 0.1253] [W-dist: -1.2462]\n",
      "[Epoch 160/200] [Batch 200/413] [D loss: 1.1716] [G loss: -0.0019] [GP: 0.1176] [W-dist: -1.1716]\n",
      "[Epoch 160/200] [Batch 250/413] [D loss: 1.1597] [G loss: -0.0244] [GP: 0.1148] [W-dist: -1.1597]\n",
      "[Epoch 160/200] [Batch 300/413] [D loss: 0.9943] [G loss: -0.0246] [GP: 0.0986] [W-dist: -0.9943]\n",
      "[Epoch 160/200] [Batch 350/413] [D loss: 1.1794] [G loss: -0.0162] [GP: 0.1173] [W-dist: -1.1794]\n",
      "[Epoch 160/200] [Batch 400/413] [D loss: 3.1897] [G loss: -0.0549] [GP: 0.3169] [W-dist: -3.1897]\n"
     ]
    },
    {
     "name": "stderr",
     "output_type": "stream",
     "text": [
      " 80%|████████  | 161/200 [7:31:39<1:49:47, 168.90s/it]"
     ]
    },
    {
     "name": "stdout",
     "output_type": "stream",
     "text": [
      "[Epoch 161/200] [Batch 0/413] [D loss: 2.5118] [G loss: 0.0319] [GP: 0.2456] [W-dist: -2.5118]\n",
      "[Epoch 161/200] [Batch 50/413] [D loss: 0.8266] [G loss: 0.0176] [GP: 0.0807] [W-dist: -0.8266]\n",
      "[Epoch 161/200] [Batch 100/413] [D loss: 0.8282] [G loss: 0.0080] [GP: 0.0846] [W-dist: -0.8282]\n",
      "[Epoch 161/200] [Batch 150/413] [D loss: 1.0686] [G loss: -0.0236] [GP: 0.1030] [W-dist: -1.0686]\n",
      "[Epoch 161/200] [Batch 200/413] [D loss: 1.5431] [G loss: 0.0260] [GP: 0.1531] [W-dist: -1.5431]\n",
      "[Epoch 161/200] [Batch 250/413] [D loss: 0.7994] [G loss: -0.0094] [GP: 0.0790] [W-dist: -0.7994]\n",
      "[Epoch 161/200] [Batch 300/413] [D loss: 1.1771] [G loss: -0.0035] [GP: 0.1175] [W-dist: -1.1771]\n",
      "[Epoch 161/200] [Batch 350/413] [D loss: 1.1528] [G loss: -0.0149] [GP: 0.1152] [W-dist: -1.1528]\n",
      "[Epoch 161/200] [Batch 400/413] [D loss: 1.0263] [G loss: 0.1040] [GP: 0.1120] [W-dist: -1.0263]\n"
     ]
    },
    {
     "name": "stderr",
     "output_type": "stream",
     "text": [
      " 81%|████████  | 162/200 [7:34:28<1:46:59, 168.93s/it]"
     ]
    },
    {
     "name": "stdout",
     "output_type": "stream",
     "text": [
      "[Epoch 162/200] [Batch 0/413] [D loss: 1.1783] [G loss: 0.0289] [GP: 0.1222] [W-dist: -1.1783]\n",
      "[Epoch 162/200] [Batch 50/413] [D loss: 1.0681] [G loss: 0.0857] [GP: 0.1056] [W-dist: -1.0681]\n",
      "[Epoch 162/200] [Batch 100/413] [D loss: 0.7603] [G loss: -0.0137] [GP: 0.0799] [W-dist: -0.7603]\n",
      "[Epoch 162/200] [Batch 150/413] [D loss: 0.6050] [G loss: -0.0084] [GP: 0.0598] [W-dist: -0.6050]\n",
      "[Epoch 162/200] [Batch 200/413] [D loss: 0.7740] [G loss: 0.0206] [GP: 0.0751] [W-dist: -0.7740]\n",
      "[Epoch 162/200] [Batch 250/413] [D loss: 1.0072] [G loss: 0.0050] [GP: 0.0984] [W-dist: -1.0072]\n",
      "[Epoch 162/200] [Batch 300/413] [D loss: 0.9666] [G loss: -0.0490] [GP: 0.0925] [W-dist: -0.9666]\n",
      "[Epoch 162/200] [Batch 350/413] [D loss: 1.0072] [G loss: -0.0201] [GP: 0.0981] [W-dist: -1.0072]\n",
      "[Epoch 162/200] [Batch 400/413] [D loss: 0.6895] [G loss: -0.0052] [GP: 0.0664] [W-dist: -0.6895]\n"
     ]
    },
    {
     "name": "stderr",
     "output_type": "stream",
     "text": [
      " 82%|████████▏ | 163/200 [7:37:17<1:44:08, 168.87s/it]"
     ]
    },
    {
     "name": "stdout",
     "output_type": "stream",
     "text": [
      "[Epoch 163/200] [Batch 0/413] [D loss: 1.2444] [G loss: -0.0468] [GP: 0.1270] [W-dist: -1.2444]\n",
      "[Epoch 163/200] [Batch 50/413] [D loss: 1.2390] [G loss: -0.0282] [GP: 0.1177] [W-dist: -1.2390]\n",
      "[Epoch 163/200] [Batch 100/413] [D loss: 0.6187] [G loss: 0.0083] [GP: 0.0581] [W-dist: -0.6187]\n",
      "[Epoch 163/200] [Batch 150/413] [D loss: 0.9708] [G loss: 0.0401] [GP: 0.0967] [W-dist: -0.9708]\n",
      "[Epoch 163/200] [Batch 200/413] [D loss: 0.7735] [G loss: 0.0469] [GP: 0.0776] [W-dist: -0.7735]\n",
      "[Epoch 163/200] [Batch 250/413] [D loss: 3.5422] [G loss: 0.0326] [GP: 0.3476] [W-dist: -3.5422]\n",
      "[Epoch 163/200] [Batch 300/413] [D loss: 0.9407] [G loss: -0.0346] [GP: 0.0960] [W-dist: -0.9407]\n",
      "[Epoch 163/200] [Batch 350/413] [D loss: 2.1193] [G loss: 0.0069] [GP: 0.2082] [W-dist: -2.1193]\n",
      "[Epoch 163/200] [Batch 400/413] [D loss: 0.5919] [G loss: 0.0277] [GP: 0.0587] [W-dist: -0.5919]\n"
     ]
    },
    {
     "name": "stderr",
     "output_type": "stream",
     "text": [
      " 82%|████████▏ | 164/200 [7:40:05<1:41:19, 168.87s/it]"
     ]
    },
    {
     "name": "stdout",
     "output_type": "stream",
     "text": [
      "[Epoch 164/200] [Batch 0/413] [D loss: 0.7386] [G loss: 0.0198] [GP: 0.0730] [W-dist: -0.7386]\n",
      "[Epoch 164/200] [Batch 50/413] [D loss: 1.1665] [G loss: -0.0268] [GP: 0.1136] [W-dist: -1.1665]\n",
      "[Epoch 164/200] [Batch 100/413] [D loss: 0.9356] [G loss: 0.0114] [GP: 0.0899] [W-dist: -0.9356]\n",
      "[Epoch 164/200] [Batch 150/413] [D loss: 1.1039] [G loss: -0.0274] [GP: 0.1084] [W-dist: -1.1039]\n",
      "[Epoch 164/200] [Batch 200/413] [D loss: 1.3977] [G loss: -0.0077] [GP: 0.1369] [W-dist: -1.3977]\n",
      "[Epoch 164/200] [Batch 250/413] [D loss: 0.4535] [G loss: 0.0436] [GP: 0.0477] [W-dist: -0.4535]\n",
      "[Epoch 164/200] [Batch 300/413] [D loss: 0.7922] [G loss: 0.0379] [GP: 0.0803] [W-dist: -0.7922]\n",
      "[Epoch 164/200] [Batch 350/413] [D loss: 1.3569] [G loss: -0.0042] [GP: 0.1441] [W-dist: -1.3569]\n",
      "[Epoch 164/200] [Batch 400/413] [D loss: 1.4287] [G loss: 0.0056] [GP: 0.1435] [W-dist: -1.4287]\n"
     ]
    },
    {
     "name": "stderr",
     "output_type": "stream",
     "text": [
      " 82%|████████▎ | 165/200 [7:42:54<1:38:32, 168.92s/it]"
     ]
    },
    {
     "name": "stdout",
     "output_type": "stream",
     "text": [
      "[Epoch 165/200] [Batch 0/413] [D loss: 1.0509] [G loss: 0.0124] [GP: 0.1067] [W-dist: -1.0509]\n",
      "[Epoch 165/200] [Batch 50/413] [D loss: 1.0719] [G loss: -0.0041] [GP: 0.1145] [W-dist: -1.0719]\n",
      "[Epoch 165/200] [Batch 100/413] [D loss: 2.9491] [G loss: 0.0341] [GP: 0.2964] [W-dist: -2.9491]\n",
      "[Epoch 165/200] [Batch 150/413] [D loss: 0.6289] [G loss: 0.0129] [GP: 0.0631] [W-dist: -0.6289]\n",
      "[Epoch 165/200] [Batch 200/413] [D loss: 0.4532] [G loss: 0.0114] [GP: 0.0442] [W-dist: -0.4532]\n",
      "[Epoch 165/200] [Batch 250/413] [D loss: 1.7227] [G loss: 0.0628] [GP: 0.1667] [W-dist: -1.7227]\n",
      "[Epoch 165/200] [Batch 300/413] [D loss: 2.2254] [G loss: 0.0703] [GP: 0.2172] [W-dist: -2.2254]\n",
      "[Epoch 165/200] [Batch 350/413] [D loss: 0.6802] [G loss: 0.0054] [GP: 0.0671] [W-dist: -0.6802]\n",
      "[Epoch 165/200] [Batch 400/413] [D loss: 3.8735] [G loss: 0.0527] [GP: 0.3805] [W-dist: -3.8735]\n"
     ]
    },
    {
     "name": "stderr",
     "output_type": "stream",
     "text": [
      " 83%|████████▎ | 166/200 [7:45:43<1:35:43, 168.92s/it]"
     ]
    },
    {
     "name": "stdout",
     "output_type": "stream",
     "text": [
      "[Epoch 166/200] [Batch 0/413] [D loss: 0.6852] [G loss: -0.0150] [GP: 0.0639] [W-dist: -0.6852]\n",
      "[Epoch 166/200] [Batch 50/413] [D loss: 0.6535] [G loss: 0.0020] [GP: 0.0637] [W-dist: -0.6535]\n",
      "[Epoch 166/200] [Batch 100/413] [D loss: 1.4707] [G loss: 0.0548] [GP: 0.1410] [W-dist: -1.4707]\n",
      "[Epoch 166/200] [Batch 150/413] [D loss: 2.0239] [G loss: 0.0915] [GP: 0.1966] [W-dist: -2.0239]\n",
      "[Epoch 166/200] [Batch 200/413] [D loss: 0.8177] [G loss: -0.0076] [GP: 0.0846] [W-dist: -0.8177]\n",
      "[Epoch 166/200] [Batch 250/413] [D loss: 1.2730] [G loss: -0.0067] [GP: 0.1300] [W-dist: -1.2730]\n",
      "[Epoch 166/200] [Batch 300/413] [D loss: 1.4539] [G loss: 0.0454] [GP: 0.1406] [W-dist: -1.4539]\n",
      "[Epoch 166/200] [Batch 350/413] [D loss: 0.7730] [G loss: -0.0192] [GP: 0.0792] [W-dist: -0.7730]\n",
      "[Epoch 166/200] [Batch 400/413] [D loss: 0.9903] [G loss: 0.0188] [GP: 0.0945] [W-dist: -0.9903]\n"
     ]
    },
    {
     "name": "stderr",
     "output_type": "stream",
     "text": [
      " 84%|████████▎ | 167/200 [7:48:32<1:32:53, 168.91s/it]"
     ]
    },
    {
     "name": "stdout",
     "output_type": "stream",
     "text": [
      "[Epoch 167/200] [Batch 0/413] [D loss: 2.3502] [G loss: 0.0251] [GP: 0.2294] [W-dist: -2.3502]\n",
      "[Epoch 167/200] [Batch 50/413] [D loss: 2.8633] [G loss: 0.0663] [GP: 0.2788] [W-dist: -2.8633]\n",
      "[Epoch 167/200] [Batch 100/413] [D loss: 0.7300] [G loss: 0.0235] [GP: 0.0708] [W-dist: -0.7300]\n",
      "[Epoch 167/200] [Batch 150/413] [D loss: 0.9958] [G loss: 0.0314] [GP: 0.0978] [W-dist: -0.9958]\n",
      "[Epoch 167/200] [Batch 200/413] [D loss: 0.6380] [G loss: -0.0474] [GP: 0.0705] [W-dist: -0.6380]\n",
      "[Epoch 167/200] [Batch 250/413] [D loss: 1.4899] [G loss: 0.0262] [GP: 0.1449] [W-dist: -1.4899]\n",
      "[Epoch 167/200] [Batch 300/413] [D loss: 4.1357] [G loss: 0.0504] [GP: 0.4054] [W-dist: -4.1357]\n",
      "[Epoch 167/200] [Batch 350/413] [D loss: 2.2412] [G loss: 0.0874] [GP: 0.2177] [W-dist: -2.2412]\n",
      "[Epoch 167/200] [Batch 400/413] [D loss: 3.1151] [G loss: 0.0283] [GP: 0.3054] [W-dist: -3.1151]\n"
     ]
    },
    {
     "name": "stderr",
     "output_type": "stream",
     "text": [
      " 84%|████████▍ | 168/200 [7:51:24<1:30:27, 169.62s/it]"
     ]
    },
    {
     "name": "stdout",
     "output_type": "stream",
     "text": [
      "[Epoch 168/200] [Batch 0/413] [D loss: 3.8807] [G loss: 0.0342] [GP: 0.3819] [W-dist: -3.8807]\n",
      "[Epoch 168/200] [Batch 50/413] [D loss: 1.6675] [G loss: 0.0559] [GP: 0.1614] [W-dist: -1.6675]\n",
      "[Epoch 168/200] [Batch 100/413] [D loss: 0.9589] [G loss: 0.0472] [GP: 0.0911] [W-dist: -0.9589]\n",
      "[Epoch 168/200] [Batch 150/413] [D loss: 0.6688] [G loss: -0.0046] [GP: 0.0650] [W-dist: -0.6688]\n",
      "[Epoch 168/200] [Batch 200/413] [D loss: 1.3767] [G loss: -0.0040] [GP: 0.1348] [W-dist: -1.3767]\n",
      "[Epoch 168/200] [Batch 250/413] [D loss: 0.9845] [G loss: -0.0192] [GP: 0.0933] [W-dist: -0.9845]\n",
      "[Epoch 168/200] [Batch 300/413] [D loss: 0.7836] [G loss: -0.0015] [GP: 0.0746] [W-dist: -0.7836]\n",
      "[Epoch 168/200] [Batch 350/413] [D loss: 2.0920] [G loss: 0.0366] [GP: 0.2021] [W-dist: -2.0920]\n",
      "[Epoch 168/200] [Batch 400/413] [D loss: 1.1702] [G loss: 0.0884] [GP: 0.1112] [W-dist: -1.1702]\n"
     ]
    },
    {
     "name": "stderr",
     "output_type": "stream",
     "text": [
      " 84%|████████▍ | 169/200 [7:54:13<1:27:41, 169.71s/it]"
     ]
    },
    {
     "name": "stdout",
     "output_type": "stream",
     "text": [
      "[Epoch 169/200] [Batch 0/413] [D loss: 0.7137] [G loss: 0.0114] [GP: 0.0681] [W-dist: -0.7137]\n",
      "[Epoch 169/200] [Batch 50/413] [D loss: 0.5983] [G loss: 0.0133] [GP: 0.0569] [W-dist: -0.5983]\n",
      "[Epoch 169/200] [Batch 100/413] [D loss: 1.0155] [G loss: 0.0097] [GP: 0.1014] [W-dist: -1.0155]\n",
      "[Epoch 169/200] [Batch 150/413] [D loss: 1.9826] [G loss: 0.0957] [GP: 0.1920] [W-dist: -1.9826]\n",
      "[Epoch 169/200] [Batch 200/413] [D loss: 0.8089] [G loss: 0.0114] [GP: 0.0778] [W-dist: -0.8089]\n",
      "[Epoch 169/200] [Batch 250/413] [D loss: 4.7233] [G loss: 0.0139] [GP: 0.4645] [W-dist: -4.7233]\n",
      "[Epoch 169/200] [Batch 300/413] [D loss: 1.1466] [G loss: 0.0011] [GP: 0.1143] [W-dist: -1.1466]\n",
      "[Epoch 169/200] [Batch 350/413] [D loss: 1.3840] [G loss: -0.0291] [GP: 0.1395] [W-dist: -1.3840]\n",
      "[Epoch 169/200] [Batch 400/413] [D loss: 0.8448] [G loss: 0.0072] [GP: 0.0841] [W-dist: -0.8448]\n"
     ]
    },
    {
     "name": "stderr",
     "output_type": "stream",
     "text": [
      " 85%|████████▌ | 170/200 [7:57:06<1:25:17, 170.58s/it]"
     ]
    },
    {
     "name": "stdout",
     "output_type": "stream",
     "text": [
      "[Epoch 170/200] [Batch 0/413] [D loss: 0.8034] [G loss: 0.0181] [GP: 0.0771] [W-dist: -0.8034]\n",
      "[Epoch 170/200] [Batch 50/413] [D loss: 0.8637] [G loss: 0.0195] [GP: 0.0868] [W-dist: -0.8637]\n",
      "[Epoch 170/200] [Batch 100/413] [D loss: 4.7075] [G loss: 0.0101] [GP: 0.4638] [W-dist: -4.7075]\n",
      "[Epoch 170/200] [Batch 150/413] [D loss: 1.1304] [G loss: 0.0634] [GP: 0.1070] [W-dist: -1.1304]\n",
      "[Epoch 170/200] [Batch 200/413] [D loss: 0.5621] [G loss: 0.0240] [GP: 0.0548] [W-dist: -0.5621]\n",
      "[Epoch 170/200] [Batch 250/413] [D loss: 0.5790] [G loss: 0.0159] [GP: 0.0549] [W-dist: -0.5790]\n",
      "[Epoch 170/200] [Batch 300/413] [D loss: 0.7419] [G loss: 0.0270] [GP: 0.0727] [W-dist: -0.7419]\n",
      "[Epoch 170/200] [Batch 350/413] [D loss: 1.1032] [G loss: 0.0347] [GP: 0.1115] [W-dist: -1.1032]\n",
      "[Epoch 170/200] [Batch 400/413] [D loss: 2.5997] [G loss: -0.0308] [GP: 0.2570] [W-dist: -2.5997]\n"
     ]
    },
    {
     "name": "stderr",
     "output_type": "stream",
     "text": [
      " 86%|████████▌ | 171/200 [7:59:59<1:22:47, 171.29s/it]"
     ]
    },
    {
     "name": "stdout",
     "output_type": "stream",
     "text": [
      "[Epoch 171/200] [Batch 0/413] [D loss: 1.3882] [G loss: 0.0104] [GP: 0.1356] [W-dist: -1.3882]\n",
      "[Epoch 171/200] [Batch 50/413] [D loss: 1.4062] [G loss: 0.0316] [GP: 0.1395] [W-dist: -1.4062]\n",
      "[Epoch 171/200] [Batch 100/413] [D loss: 3.3604] [G loss: 0.0232] [GP: 0.3304] [W-dist: -3.3604]\n",
      "[Epoch 171/200] [Batch 150/413] [D loss: 0.8372] [G loss: 0.0020] [GP: 0.0793] [W-dist: -0.8372]\n",
      "[Epoch 171/200] [Batch 200/413] [D loss: 0.8336] [G loss: 0.0179] [GP: 0.0828] [W-dist: -0.8336]\n",
      "[Epoch 171/200] [Batch 250/413] [D loss: 1.0784] [G loss: 0.0379] [GP: 0.1031] [W-dist: -1.0784]\n",
      "[Epoch 171/200] [Batch 300/413] [D loss: 0.7385] [G loss: -0.0036] [GP: 0.0701] [W-dist: -0.7385]\n",
      "[Epoch 171/200] [Batch 350/413] [D loss: 0.9558] [G loss: 0.0559] [GP: 0.0927] [W-dist: -0.9558]\n",
      "[Epoch 171/200] [Batch 400/413] [D loss: 3.4044] [G loss: 0.0690] [GP: 0.3345] [W-dist: -3.4044]\n"
     ]
    },
    {
     "name": "stderr",
     "output_type": "stream",
     "text": [
      " 86%|████████▌ | 172/200 [8:02:53<1:20:15, 171.97s/it]"
     ]
    },
    {
     "name": "stdout",
     "output_type": "stream",
     "text": [
      "[Epoch 172/200] [Batch 0/413] [D loss: 1.2068] [G loss: -0.0130] [GP: 0.1172] [W-dist: -1.2068]\n",
      "[Epoch 172/200] [Batch 50/413] [D loss: 1.8391] [G loss: 0.0791] [GP: 0.1790] [W-dist: -1.8391]\n",
      "[Epoch 172/200] [Batch 100/413] [D loss: 1.2795] [G loss: -0.0033] [GP: 0.1246] [W-dist: -1.2795]\n",
      "[Epoch 172/200] [Batch 150/413] [D loss: 1.0679] [G loss: 0.0091] [GP: 0.1059] [W-dist: -1.0679]\n",
      "[Epoch 172/200] [Batch 200/413] [D loss: 1.0320] [G loss: 0.0206] [GP: 0.1003] [W-dist: -1.0320]\n",
      "[Epoch 172/200] [Batch 250/413] [D loss: 0.5675] [G loss: 0.0280] [GP: 0.0537] [W-dist: -0.5675]\n",
      "[Epoch 172/200] [Batch 300/413] [D loss: 0.8214] [G loss: 0.0367] [GP: 0.0781] [W-dist: -0.8214]\n",
      "[Epoch 172/200] [Batch 350/413] [D loss: 0.9549] [G loss: 0.0290] [GP: 0.0917] [W-dist: -0.9549]\n",
      "[Epoch 172/200] [Batch 400/413] [D loss: 0.7884] [G loss: 0.0071] [GP: 0.0768] [W-dist: -0.7884]\n"
     ]
    },
    {
     "name": "stderr",
     "output_type": "stream",
     "text": [
      " 86%|████████▋ | 173/200 [8:05:42<1:17:05, 171.32s/it]"
     ]
    },
    {
     "name": "stdout",
     "output_type": "stream",
     "text": [
      "[Epoch 173/200] [Batch 0/413] [D loss: 0.8751] [G loss: 0.0245] [GP: 0.0848] [W-dist: -0.8751]\n",
      "[Epoch 173/200] [Batch 50/413] [D loss: 1.8638] [G loss: 0.0871] [GP: 0.1837] [W-dist: -1.8638]\n",
      "[Epoch 173/200] [Batch 100/413] [D loss: 0.8689] [G loss: 0.0315] [GP: 0.0873] [W-dist: -0.8689]\n",
      "[Epoch 173/200] [Batch 150/413] [D loss: 1.8141] [G loss: 0.0910] [GP: 0.1756] [W-dist: -1.8141]\n",
      "[Epoch 173/200] [Batch 200/413] [D loss: 3.8010] [G loss: 0.0789] [GP: 0.3728] [W-dist: -3.8010]\n",
      "[Epoch 173/200] [Batch 250/413] [D loss: 0.7242] [G loss: 0.0198] [GP: 0.0730] [W-dist: -0.7242]\n",
      "[Epoch 173/200] [Batch 300/413] [D loss: 0.5429] [G loss: 0.0157] [GP: 0.0542] [W-dist: -0.5429]\n",
      "[Epoch 173/200] [Batch 350/413] [D loss: 4.0680] [G loss: -0.0362] [GP: 0.4152] [W-dist: -4.0680]\n",
      "[Epoch 173/200] [Batch 400/413] [D loss: 1.2169] [G loss: 0.0204] [GP: 0.1200] [W-dist: -1.2169]\n"
     ]
    },
    {
     "name": "stderr",
     "output_type": "stream",
     "text": [
      " 87%|████████▋ | 174/200 [8:08:32<1:14:00, 170.79s/it]"
     ]
    },
    {
     "name": "stdout",
     "output_type": "stream",
     "text": [
      "[Epoch 174/200] [Batch 0/413] [D loss: 0.8323] [G loss: 0.0168] [GP: 0.0816] [W-dist: -0.8323]\n",
      "[Epoch 174/200] [Batch 50/413] [D loss: 1.1446] [G loss: -0.0280] [GP: 0.1184] [W-dist: -1.1446]\n",
      "[Epoch 174/200] [Batch 100/413] [D loss: 3.3361] [G loss: 0.0394] [GP: 0.3281] [W-dist: -3.3361]\n",
      "[Epoch 174/200] [Batch 150/413] [D loss: 0.9385] [G loss: 0.0050] [GP: 0.0938] [W-dist: -0.9385]\n",
      "[Epoch 174/200] [Batch 200/413] [D loss: 1.0181] [G loss: 0.0591] [GP: 0.0971] [W-dist: -1.0181]\n",
      "[Epoch 174/200] [Batch 250/413] [D loss: 0.5439] [G loss: 0.0262] [GP: 0.0534] [W-dist: -0.5439]\n",
      "[Epoch 174/200] [Batch 300/413] [D loss: 0.9084] [G loss: -0.0063] [GP: 0.0874] [W-dist: -0.9084]\n",
      "[Epoch 174/200] [Batch 350/413] [D loss: 0.8426] [G loss: 0.0061] [GP: 0.0823] [W-dist: -0.8426]\n",
      "[Epoch 174/200] [Batch 400/413] [D loss: 0.6190] [G loss: 0.0315] [GP: 0.0626] [W-dist: -0.6190]\n"
     ]
    },
    {
     "name": "stderr",
     "output_type": "stream",
     "text": [
      " 88%|████████▊ | 175/200 [8:11:22<1:11:01, 170.48s/it]"
     ]
    },
    {
     "name": "stdout",
     "output_type": "stream",
     "text": [
      "[Epoch 175/200] [Batch 0/413] [D loss: 1.3512] [G loss: -0.0021] [GP: 0.1335] [W-dist: -1.3512]\n",
      "[Epoch 175/200] [Batch 50/413] [D loss: 1.2613] [G loss: 0.0331] [GP: 0.1255] [W-dist: -1.2613]\n",
      "[Epoch 175/200] [Batch 100/413] [D loss: 2.9081] [G loss: 0.1127] [GP: 0.2864] [W-dist: -2.9081]\n",
      "[Epoch 175/200] [Batch 150/413] [D loss: 4.8343] [G loss: 0.0221] [GP: 0.4784] [W-dist: -4.8343]\n",
      "[Epoch 175/200] [Batch 200/413] [D loss: 0.7479] [G loss: 0.0254] [GP: 0.0737] [W-dist: -0.7479]\n",
      "[Epoch 175/200] [Batch 250/413] [D loss: 0.6423] [G loss: 0.0106] [GP: 0.0631] [W-dist: -0.6423]\n",
      "[Epoch 175/200] [Batch 300/413] [D loss: 0.9253] [G loss: 0.0397] [GP: 0.0926] [W-dist: -0.9253]\n",
      "[Epoch 175/200] [Batch 350/413] [D loss: 1.6448] [G loss: 0.0754] [GP: 0.1591] [W-dist: -1.6448]\n",
      "[Epoch 175/200] [Batch 400/413] [D loss: 0.8065] [G loss: 0.0258] [GP: 0.0802] [W-dist: -0.8065]\n"
     ]
    },
    {
     "name": "stderr",
     "output_type": "stream",
     "text": [
      " 88%|████████▊ | 176/200 [8:14:12<1:08:07, 170.29s/it]"
     ]
    },
    {
     "name": "stdout",
     "output_type": "stream",
     "text": [
      "[Epoch 176/200] [Batch 0/413] [D loss: 1.0668] [G loss: 0.0544] [GP: 0.1043] [W-dist: -1.0668]\n",
      "[Epoch 176/200] [Batch 50/413] [D loss: 3.6472] [G loss: 0.0191] [GP: 0.3583] [W-dist: -3.6472]\n",
      "[Epoch 176/200] [Batch 100/413] [D loss: 0.9055] [G loss: -0.0333] [GP: 0.0941] [W-dist: -0.9055]\n",
      "[Epoch 176/200] [Batch 150/413] [D loss: 2.5610] [G loss: 0.0851] [GP: 0.2492] [W-dist: -2.5610]\n",
      "[Epoch 176/200] [Batch 200/413] [D loss: 3.0818] [G loss: 0.0737] [GP: 0.3019] [W-dist: -3.0818]\n",
      "[Epoch 176/200] [Batch 250/413] [D loss: 0.9489] [G loss: 0.0044] [GP: 0.0926] [W-dist: -0.9489]\n",
      "[Epoch 176/200] [Batch 300/413] [D loss: 1.7859] [G loss: 0.1036] [GP: 0.1728] [W-dist: -1.7859]\n",
      "[Epoch 176/200] [Batch 350/413] [D loss: 0.9792] [G loss: 0.0123] [GP: 0.0966] [W-dist: -0.9792]\n",
      "[Epoch 176/200] [Batch 400/413] [D loss: 0.5935] [G loss: 0.0164] [GP: 0.0566] [W-dist: -0.5935]\n"
     ]
    },
    {
     "name": "stderr",
     "output_type": "stream",
     "text": [
      " 88%|████████▊ | 177/200 [8:17:01<1:05:14, 170.18s/it]"
     ]
    },
    {
     "name": "stdout",
     "output_type": "stream",
     "text": [
      "[Epoch 177/200] [Batch 0/413] [D loss: 3.1469] [G loss: 0.0803] [GP: 0.3082] [W-dist: -3.1469]\n",
      "[Epoch 177/200] [Batch 50/413] [D loss: 5.7837] [G loss: -0.0305] [GP: 0.5704] [W-dist: -5.7837]\n",
      "[Epoch 177/200] [Batch 100/413] [D loss: 1.7196] [G loss: 0.0955] [GP: 0.1651] [W-dist: -1.7196]\n",
      "[Epoch 177/200] [Batch 150/413] [D loss: 2.8174] [G loss: 0.0449] [GP: 0.2749] [W-dist: -2.8174]\n",
      "[Epoch 177/200] [Batch 200/413] [D loss: 0.7388] [G loss: 0.0663] [GP: 0.0696] [W-dist: -0.7388]\n",
      "[Epoch 177/200] [Batch 250/413] [D loss: 1.1331] [G loss: 0.0964] [GP: 0.1079] [W-dist: -1.1331]\n",
      "[Epoch 177/200] [Batch 300/413] [D loss: 0.7845] [G loss: 0.0097] [GP: 0.0774] [W-dist: -0.7845]\n",
      "[Epoch 177/200] [Batch 350/413] [D loss: 0.9772] [G loss: 0.0340] [GP: 0.0910] [W-dist: -0.9772]\n",
      "[Epoch 177/200] [Batch 400/413] [D loss: 0.6055] [G loss: 0.0221] [GP: 0.0603] [W-dist: -0.6055]\n"
     ]
    },
    {
     "name": "stderr",
     "output_type": "stream",
     "text": [
      " 89%|████████▉ | 178/200 [8:19:51<1:02:20, 170.04s/it]"
     ]
    },
    {
     "name": "stdout",
     "output_type": "stream",
     "text": [
      "[Epoch 178/200] [Batch 0/413] [D loss: 1.0717] [G loss: -0.0232] [GP: 0.1029] [W-dist: -1.0717]\n",
      "[Epoch 178/200] [Batch 50/413] [D loss: 0.8646] [G loss: 0.0141] [GP: 0.0858] [W-dist: -0.8646]\n",
      "[Epoch 178/200] [Batch 100/413] [D loss: 1.0610] [G loss: 0.0173] [GP: 0.1027] [W-dist: -1.0610]\n",
      "[Epoch 178/200] [Batch 150/413] [D loss: 2.1501] [G loss: 0.0746] [GP: 0.2097] [W-dist: -2.1501]\n",
      "[Epoch 178/200] [Batch 200/413] [D loss: 0.6606] [G loss: 0.0212] [GP: 0.0640] [W-dist: -0.6606]\n",
      "[Epoch 178/200] [Batch 250/413] [D loss: 0.9110] [G loss: 0.0813] [GP: 0.0868] [W-dist: -0.9110]\n",
      "[Epoch 178/200] [Batch 300/413] [D loss: 1.0632] [G loss: 0.0657] [GP: 0.1015] [W-dist: -1.0632]\n",
      "[Epoch 178/200] [Batch 350/413] [D loss: 3.2000] [G loss: 0.1040] [GP: 0.3140] [W-dist: -3.2000]\n",
      "[Epoch 178/200] [Batch 400/413] [D loss: 4.1862] [G loss: 0.0409] [GP: 0.4129] [W-dist: -4.1862]\n"
     ]
    },
    {
     "name": "stderr",
     "output_type": "stream",
     "text": [
      " 90%|████████▉ | 179/200 [8:22:40<59:20, 169.53s/it]  "
     ]
    },
    {
     "name": "stdout",
     "output_type": "stream",
     "text": [
      "[Epoch 179/200] [Batch 0/413] [D loss: 5.6504] [G loss: -0.0167] [GP: 0.5574] [W-dist: -5.6504]\n",
      "[Epoch 179/200] [Batch 50/413] [D loss: 3.2879] [G loss: 0.0553] [GP: 0.3217] [W-dist: -3.2879]\n",
      "[Epoch 179/200] [Batch 100/413] [D loss: 2.5026] [G loss: 0.0922] [GP: 0.2441] [W-dist: -2.5026]\n",
      "[Epoch 179/200] [Batch 150/413] [D loss: 4.2852] [G loss: 0.0503] [GP: 0.4210] [W-dist: -4.2852]\n",
      "[Epoch 179/200] [Batch 200/413] [D loss: 4.9018] [G loss: 0.0259] [GP: 0.4844] [W-dist: -4.9018]\n",
      "[Epoch 179/200] [Batch 250/413] [D loss: 2.3508] [G loss: 0.1111] [GP: 0.2290] [W-dist: -2.3508]\n",
      "[Epoch 179/200] [Batch 300/413] [D loss: 0.7111] [G loss: 0.0308] [GP: 0.0698] [W-dist: -0.7111]\n",
      "[Epoch 179/200] [Batch 350/413] [D loss: 0.5526] [G loss: 0.0392] [GP: 0.0543] [W-dist: -0.5526]\n",
      "[Epoch 179/200] [Batch 400/413] [D loss: 0.6093] [G loss: 0.0408] [GP: 0.0595] [W-dist: -0.6093]\n"
     ]
    },
    {
     "name": "stderr",
     "output_type": "stream",
     "text": [
      " 90%|█████████ | 180/200 [8:25:28<56:22, 169.12s/it]"
     ]
    },
    {
     "name": "stdout",
     "output_type": "stream",
     "text": [
      "[Epoch 180/200] [Batch 0/413] [D loss: 2.7021] [G loss: 0.0674] [GP: 0.2640] [W-dist: -2.7021]\n",
      "[Epoch 180/200] [Batch 50/413] [D loss: 1.6098] [G loss: 0.0661] [GP: 0.1578] [W-dist: -1.6098]\n",
      "[Epoch 180/200] [Batch 100/413] [D loss: 1.9305] [G loss: -0.0241] [GP: 0.1964] [W-dist: -1.9305]\n",
      "[Epoch 180/200] [Batch 150/413] [D loss: 2.8714] [G loss: 0.0828] [GP: 0.2809] [W-dist: -2.8714]\n",
      "[Epoch 180/200] [Batch 200/413] [D loss: 1.6724] [G loss: 0.0887] [GP: 0.1611] [W-dist: -1.6724]\n",
      "[Epoch 180/200] [Batch 250/413] [D loss: 0.5902] [G loss: 0.0138] [GP: 0.0543] [W-dist: -0.5902]\n",
      "[Epoch 180/200] [Batch 300/413] [D loss: 3.2544] [G loss: 0.0983] [GP: 0.3191] [W-dist: -3.2544]\n",
      "[Epoch 180/200] [Batch 350/413] [D loss: 0.9230] [G loss: 0.0122] [GP: 0.0853] [W-dist: -0.9230]\n",
      "[Epoch 180/200] [Batch 400/413] [D loss: 3.5285] [G loss: 0.0138] [GP: 0.3456] [W-dist: -3.5285]\n"
     ]
    },
    {
     "name": "stderr",
     "output_type": "stream",
     "text": [
      " 90%|█████████ | 181/200 [8:28:16<53:28, 168.86s/it]"
     ]
    },
    {
     "name": "stdout",
     "output_type": "stream",
     "text": [
      "[Epoch 181/200] [Batch 0/413] [D loss: 3.2701] [G loss: 0.0609] [GP: 0.3205] [W-dist: -3.2701]\n",
      "[Epoch 181/200] [Batch 50/413] [D loss: 3.2237] [G loss: 0.1073] [GP: 0.3157] [W-dist: -3.2237]\n",
      "[Epoch 181/200] [Batch 100/413] [D loss: 3.3107] [G loss: 0.0672] [GP: 0.3234] [W-dist: -3.3107]\n",
      "[Epoch 181/200] [Batch 150/413] [D loss: 3.8525] [G loss: 0.0202] [GP: 0.3770] [W-dist: -3.8525]\n",
      "[Epoch 181/200] [Batch 200/413] [D loss: 0.7050] [G loss: 0.0158] [GP: 0.0656] [W-dist: -0.7050]\n",
      "[Epoch 181/200] [Batch 250/413] [D loss: 2.7541] [G loss: 0.0876] [GP: 0.2674] [W-dist: -2.7541]\n",
      "[Epoch 181/200] [Batch 300/413] [D loss: 3.9022] [G loss: 0.0023] [GP: 0.3825] [W-dist: -3.9022]\n",
      "[Epoch 181/200] [Batch 350/413] [D loss: 0.9173] [G loss: 0.0290] [GP: 0.0882] [W-dist: -0.9173]\n",
      "[Epoch 181/200] [Batch 400/413] [D loss: 1.1556] [G loss: 0.0683] [GP: 0.1080] [W-dist: -1.1556]\n"
     ]
    },
    {
     "name": "stderr",
     "output_type": "stream",
     "text": [
      " 91%|█████████ | 182/200 [8:31:04<50:37, 168.74s/it]"
     ]
    },
    {
     "name": "stdout",
     "output_type": "stream",
     "text": [
      "[Epoch 182/200] [Batch 0/413] [D loss: 4.7978] [G loss: 0.0441] [GP: 0.4705] [W-dist: -4.7978]\n",
      "[Epoch 182/200] [Batch 50/413] [D loss: 3.1137] [G loss: 0.0870] [GP: 0.3040] [W-dist: -3.1137]\n",
      "[Epoch 182/200] [Batch 100/413] [D loss: 3.4028] [G loss: 0.0596] [GP: 0.3331] [W-dist: -3.4028]\n"
     ]
    },
    {
     "name": "stderr",
     "output_type": "stream",
     "text": [
      " 91%|█████████ | 182/200 [8:31:59<50:38, 168.79s/it]\n"
     ]
    },
    {
     "ename": "KeyboardInterrupt",
     "evalue": "",
     "output_type": "error",
     "traceback": [
      "\u001b[1;31m---------------------------------------------------------------------------\u001b[0m",
      "\u001b[1;31mKeyboardInterrupt\u001b[0m                         Traceback (most recent call last)",
      "Cell \u001b[1;32mIn[4], line 10\u001b[0m\n\u001b[0;32m      8\u001b[0m \u001b[38;5;28;01mfor\u001b[39;00m i, (imgs, _) \u001b[38;5;129;01min\u001b[39;00m \u001b[38;5;28menumerate\u001b[39m(dataloader):\n\u001b[0;32m      9\u001b[0m     imgs \u001b[38;5;241m=\u001b[39m imgs\u001b[38;5;241m.\u001b[39mto(device)\n\u001b[1;32m---> 10\u001b[0m     losses \u001b[38;5;241m=\u001b[39m \u001b[43mgan\u001b[49m\u001b[38;5;241;43m.\u001b[39;49m\u001b[43mtrain_step\u001b[49m\u001b[43m(\u001b[49m\u001b[43mimgs\u001b[49m\u001b[43m)\u001b[49m\n\u001b[0;32m     12\u001b[0m     \u001b[38;5;66;03m# Log batch losses to wandb\u001b[39;00m\n\u001b[0;32m     13\u001b[0m     wandb\u001b[38;5;241m.\u001b[39mlog({\n\u001b[0;32m     14\u001b[0m         \u001b[38;5;124m\"\u001b[39m\u001b[38;5;124mbatch_g_loss\u001b[39m\u001b[38;5;124m\"\u001b[39m: losses[\u001b[38;5;124m'\u001b[39m\u001b[38;5;124mg_loss\u001b[39m\u001b[38;5;124m'\u001b[39m],\n\u001b[0;32m     15\u001b[0m         \u001b[38;5;124m\"\u001b[39m\u001b[38;5;124mbatch_d_loss\u001b[39m\u001b[38;5;124m\"\u001b[39m: losses[\u001b[38;5;124m'\u001b[39m\u001b[38;5;124md_loss\u001b[39m\u001b[38;5;124m'\u001b[39m],\n\u001b[1;32m   (...)\u001b[0m\n\u001b[0;32m     18\u001b[0m         \u001b[38;5;124m\"\u001b[39m\u001b[38;5;124mbatch\u001b[39m\u001b[38;5;124m\"\u001b[39m: epoch \u001b[38;5;241m*\u001b[39m \u001b[38;5;28mlen\u001b[39m(dataloader) \u001b[38;5;241m+\u001b[39m i\n\u001b[0;32m     19\u001b[0m     })\n",
      "File \u001b[1;32mc:\\Users\\elian\\Workspace\\PixelGAN\\models\\poke_fastgan.py:181\u001b[0m, in \u001b[0;36mFastPokemonGAN.train_step\u001b[1;34m(self, real_imgs)\u001b[0m\n\u001b[0;32m    178\u001b[0m \u001b[38;5;28;01mfor\u001b[39;00m _ \u001b[38;5;129;01min\u001b[39;00m \u001b[38;5;28mrange\u001b[39m(\u001b[38;5;28mself\u001b[39m\u001b[38;5;241m.\u001b[39mn_critic):\n\u001b[0;32m    179\u001b[0m     \u001b[38;5;28mself\u001b[39m\u001b[38;5;241m.\u001b[39moptimizer_D\u001b[38;5;241m.\u001b[39mzero_grad()\n\u001b[1;32m--> 181\u001b[0m     z \u001b[38;5;241m=\u001b[39m \u001b[43mtorch\u001b[49m\u001b[38;5;241;43m.\u001b[39;49m\u001b[43mrandn\u001b[49m\u001b[43m(\u001b[49m\u001b[43mbatch_size\u001b[49m\u001b[43m,\u001b[49m\u001b[43m \u001b[49m\u001b[38;5;28;43mself\u001b[39;49m\u001b[38;5;241;43m.\u001b[39;49m\u001b[43mlatent_dim\u001b[49m\u001b[43m)\u001b[49m\u001b[38;5;241;43m.\u001b[39;49m\u001b[43mto\u001b[49m\u001b[43m(\u001b[49m\u001b[38;5;28;43mself\u001b[39;49m\u001b[38;5;241;43m.\u001b[39;49m\u001b[43mdevice\u001b[49m\u001b[43m)\u001b[49m\n\u001b[0;32m    182\u001b[0m     fake_imgs \u001b[38;5;241m=\u001b[39m \u001b[38;5;28mself\u001b[39m\u001b[38;5;241m.\u001b[39mgenerator(z)\n\u001b[0;32m    184\u001b[0m     real_noisy \u001b[38;5;241m=\u001b[39m real_imgs \u001b[38;5;241m+\u001b[39m \u001b[38;5;241m0.05\u001b[39m \u001b[38;5;241m*\u001b[39m torch\u001b[38;5;241m.\u001b[39mrandn_like(real_imgs)\u001b[38;5;241m.\u001b[39mto(\u001b[38;5;28mself\u001b[39m\u001b[38;5;241m.\u001b[39mdevice)\n",
      "\u001b[1;31mKeyboardInterrupt\u001b[0m: "
     ]
    }
   ],
   "source": [
    "fixed_noise = torch.randn(64, wandb.config.latent_dim, device=device)\n",
    "for epoch in tqdm(range(wandb.config.num_epochs)):\n",
    "    epoch_g_loss = 0\n",
    "    epoch_d_loss = 0\n",
    "    epoch_gp = 0  # Track gradient penalty\n",
    "    epoch_w_dist = 0  # Track Wasserstein distance\n",
    "    \n",
    "    for i, (imgs, _) in enumerate(dataloader):\n",
    "        imgs = imgs.to(device)\n",
    "        losses = gan.train_step(imgs)\n",
    "        \n",
    "        # Log batch losses to wandb\n",
    "        wandb.log({\n",
    "            \"batch_g_loss\": losses['g_loss'],\n",
    "            \"batch_d_loss\": losses['d_loss'],\n",
    "            \"batch_gradient_penalty\": losses['gradient_penalty'],\n",
    "            \"batch_wasserstein_distance\": -losses['d_loss'],  # Negative critic loss is W-distance\n",
    "            \"batch\": epoch * len(dataloader) + i\n",
    "        })\n",
    "        \n",
    "        epoch_g_loss += losses['g_loss']\n",
    "        epoch_d_loss += losses['d_loss']\n",
    "        epoch_gp += losses['gradient_penalty']\n",
    "        epoch_w_dist += -losses['d_loss']  # Track Wasserstein distance\n",
    "        \n",
    "        if i % 50 == 0:\n",
    "            print(\n",
    "                f\"[Epoch {epoch}/{wandb.config.num_epochs}] \"\n",
    "                f\"[Batch {i}/{len(dataloader)}] \"\n",
    "                f\"[D loss: {losses['d_loss']:.4f}] \"\n",
    "                f\"[G loss: {losses['g_loss']:.4f}] \"\n",
    "                f\"[GP: {losses['gradient_penalty']:.4f}] \"\n",
    "                f\"[W-dist: {-losses['d_loss']:.4f}]\"\n",
    "            )\n",
    "    \n",
    "    # Calculate and log average epoch losses\n",
    "    avg_g_loss = epoch_g_loss / len(dataloader)\n",
    "    avg_d_loss = epoch_d_loss / len(dataloader)\n",
    "    avg_gp = epoch_gp / len(dataloader)\n",
    "    avg_w_dist = epoch_w_dist / len(dataloader)\n",
    "    \n",
    "    wandb.log({\n",
    "        \"epoch\": epoch,\n",
    "        \"avg_g_loss\": avg_g_loss,\n",
    "        \"avg_d_loss\": avg_d_loss,\n",
    "        \"avg_gradient_penalty\": avg_gp,\n",
    "        \"avg_wasserstein_distance\": avg_w_dist,\n",
    "    })\n",
    "    \n",
    "    # Generate and log sample images every 10 epochs\n",
    "    if epoch % 10 == 0:\n",
    "        gan.generator.eval()\n",
    "        with torch.no_grad():\n",
    "            fake = gan.generator(fixed_noise).detach().cpu()\n",
    "            # Save locally\n",
    "            save_image(fake[:16], f\"outputs/pokemon_{epoch}.png\", nrow=4, normalize=True)\n",
    "            \n",
    "            # Log to wandb\n",
    "            images = wandb.Image(\n",
    "                make_grid(fake[:16], nrow=4, normalize=True).cpu(),\n",
    "                caption=f\"Generated Pokemon - Epoch {epoch}\"\n",
    "            )\n",
    "            wandb.log({\"generated_samples\": images})\n",
    "        gan.generator.train()\n",
    "    \n",
    "    # Save model checkpoints every 50 epochs\n",
    "    if epoch % 50 == 0:\n",
    "        checkpoint_path = f'outputs/pokemon_gan_checkpoint_{epoch}.pt'\n",
    "        torch.save({\n",
    "            'generator_state_dict': gan.generator.state_dict(),\n",
    "            'discriminator_state_dict': gan.discriminator.state_dict(),\n",
    "            'g_optimizer_state_dict': gan.optimizer_G.state_dict(),\n",
    "            'd_optimizer_state_dict': gan.optimizer_D.state_dict(),\n",
    "            'epoch': epoch,\n",
    "        }, checkpoint_path)\n",
    "        \n",
    "        # Log checkpoint to wandb\n",
    "        wandb.save(checkpoint_path)"
   ]
  },
  {
   "cell_type": "code",
   "execution_count": null,
   "metadata": {},
   "outputs": [
    {
     "data": {
      "text/html": [
       "\n",
       "    <style>\n",
       "        .wandb-row {\n",
       "            display: flex;\n",
       "            flex-direction: row;\n",
       "            flex-wrap: wrap;\n",
       "            justify-content: flex-start;\n",
       "            width: 100%;\n",
       "        }\n",
       "        .wandb-col {\n",
       "            display: flex;\n",
       "            flex-direction: column;\n",
       "            flex-basis: 100%;\n",
       "            flex: 1;\n",
       "            padding: 10px;\n",
       "        }\n",
       "    </style>\n",
       "<div class=\"wandb-row\"><div class=\"wandb-col\"><h3>Run history:</h3><br/><table class=\"wandb\"><tr><td>avg_d_loss</td><td>▅▅▃▂▂▃▂▂▂▂▁█▁▁▁▁▁▁▁▁▁▁▁▁▁▁▁▁▁▁▁▁▁▁▁▁▁▁▁▁</td></tr><tr><td>avg_g_loss</td><td>▄▃▅▅▂█▇▂▂▂▂▁▁▄▅▄▄▇▁▁▁▁▂▁▂▂▂▁▂▂▂▂▂▂▂▂▃▂▂▂</td></tr><tr><td>batch</td><td>▁▁▁▁▁▂▂▂▂▂▂▂▂▃▃▃▄▄▄▅▅▅▅▅▅▅▆▆▆▆▆▆▆▇▇█████</td></tr><tr><td>batch_d_loss</td><td>▄▄█▃▂▁▁▂▂▁▁▁▁▄▄▁▁▁▁▁▁▂▁▁▂▁▁▁▁▁▁▁▁▁▁▁▁▁▁▁</td></tr><tr><td>batch_fake_loss</td><td>▁▁▁▁█▁▁▁▁▁▂▁█▁▁▁▁▁▁▁▁▁▁▁▁▁▁▁▁▁▁▁▁▁▁▁▁▁▁▁</td></tr><tr><td>batch_g_loss</td><td>▂▄▂▂▁▂▃▂▂▂▆▂▂██▅▂▆▇▂▁▁▃▂▃▁▃▃▃▂▃▂▃▂▂▂▃▃▃▂</td></tr><tr><td>batch_real_loss</td><td>▂█▁▁▄▃▄▁▂▂▂▂▂▂▂▂▁▂▂▁▂▂▂▂▂▁▂▂▂▂▂▂▂▂▂▂▁▁▂▂</td></tr><tr><td>epoch</td><td>▁▁▁▁▁▂▂▂▂▂▂▂▃▃▃▃▄▄▅▅▅▅▆▆▆▆▆▆▆▇▇▇▇▇▇█████</td></tr></table><br/></div><div class=\"wandb-col\"><h3>Run summary:</h3><br/><table class=\"wandb\"><tr><td>avg_d_loss</td><td>0.35777</td></tr><tr><td>avg_g_loss</td><td>0.74255</td></tr><tr><td>batch</td><td>82599</td></tr><tr><td>batch_d_loss</td><td>0.39374</td></tr><tr><td>batch_fake_loss</td><td>0.38153</td></tr><tr><td>batch_g_loss</td><td>0.48369</td></tr><tr><td>batch_real_loss</td><td>0.38795</td></tr><tr><td>epoch</td><td>199</td></tr></table><br/></div></div>"
      ],
      "text/plain": [
       "<IPython.core.display.HTML object>"
      ]
     },
     "metadata": {},
     "output_type": "display_data"
    },
    {
     "data": {
      "text/html": [
       " View run <strong style=\"color:#cdcd00\">misunderstood-waterfall-20</strong> at: <a href='https://wandb.ai/elianaive-research/pokemon-gan/runs/sombbwds' target=\"_blank\">https://wandb.ai/elianaive-research/pokemon-gan/runs/sombbwds</a><br/> View project at: <a href='https://wandb.ai/elianaive-research/pokemon-gan' target=\"_blank\">https://wandb.ai/elianaive-research/pokemon-gan</a><br/>Synced 5 W&B file(s), 0 media file(s), 0 artifact file(s) and 25 other file(s)"
      ],
      "text/plain": [
       "<IPython.core.display.HTML object>"
      ]
     },
     "metadata": {},
     "output_type": "display_data"
    },
    {
     "data": {
      "text/html": [
       "Find logs at: <code>.\\wandb\\run-20241201_045527-sombbwds\\logs</code>"
      ],
      "text/plain": [
       "<IPython.core.display.HTML object>"
      ]
     },
     "metadata": {},
     "output_type": "display_data"
    }
   ],
   "source": [
    "gan.generator.eval()\n",
    "with torch.no_grad():\n",
    "    sample_size = 100\n",
    "    z = torch.randn(sample_size, wandb.config.latent_dim, device=device)\n",
    "    generated = gan.generator(z).cpu()\n",
    "    \n",
    "    # Save locally and log to wandb\n",
    "    save_image(generated, \"outputs/final_samples.png\", nrow=10, normalize=True)\n",
    "    final_grid = make_grid(generated[:100], nrow=10, normalize=True)\n",
    "    wandb.log({\n",
    "        \"final_samples\": wandb.Image(final_grid.cpu(), caption=\"Final Generated Pokemon\")\n",
    "    })\n",
    "wandb.finish()"
   ]
  }
 ],
 "metadata": {
  "kernelspec": {
   "display_name": "base",
   "language": "python",
   "name": "python3"
  },
  "language_info": {
   "codemirror_mode": {
    "name": "ipython",
    "version": 3
   },
   "file_extension": ".py",
   "mimetype": "text/x-python",
   "name": "python",
   "nbconvert_exporter": "python",
   "pygments_lexer": "ipython3",
   "version": "3.12.3"
  }
 },
 "nbformat": 4,
 "nbformat_minor": 2
}
